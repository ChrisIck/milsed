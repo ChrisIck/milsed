{
 "cells": [
  {
   "cell_type": "code",
   "execution_count": 1,
   "metadata": {},
   "outputs": [
    {
     "name": "stderr",
     "output_type": "stream",
     "text": [
      "Using TensorFlow backend.\n"
     ]
    }
   ],
   "source": [
    "import imp\n",
    "import json\n",
    "import os\n",
    "import pickle\n",
    "import milsed\n",
    "import numpy as np\n",
    "import math"
   ]
  },
  {
   "cell_type": "code",
   "execution_count": 2,
   "metadata": {},
   "outputs": [
    {
     "name": "stdout",
     "output_type": "stream",
     "text": [
      "/home/js7561/dev/milsed/models\n"
     ]
    }
   ],
   "source": [
    "cd ~/dev/milsed/models/"
   ]
  },
  {
   "cell_type": "code",
   "execution_count": 3,
   "metadata": {
    "collapsed": true
   },
   "outputs": [],
   "source": [
    "# SETUP STUFF\n",
    "OUTPUT_PATH = '/home/js7561/dev/milsed/models/resources/'\n",
    "train = imp.load_source('train', '/home/js7561/dev/milsed/models/02_train.py')\n",
    "pump = pickle.load(open('/home/js7561/dev/milsed/models/resources/pump.pkl', 'rb'))\n",
    "with open(os.path.join(OUTPUT_PATH, 'index_test.json'), 'r') as fp:\n",
    "    test_idx = json.load(fp)['id']\n",
    "pumpfolder = '/beegfs/js7561/datasets/dcase2017/task4_official/combined/features_silence/'\n",
    "labelfile = ('/beegfs/js7561/datasets/dcase2017/task4_official/combined/metadata/labels/'\n",
    "             '/groundtruth_strong_label_testing_set.csv')\n",
    "duration = 10.0"
   ]
  },
  {
   "cell_type": "code",
   "execution_count": 4,
   "metadata": {
    "collapsed": true
   },
   "outputs": [],
   "source": [
    "def create_ensemble(model_list, ensemble_version, use_orig_duration=True, save=True):\n",
    "    # Compute results\n",
    "    models = []\n",
    "    for version in model_list:\n",
    "        weight_path = os.path.join(OUTPUT_PATH, version, 'model.h5')\n",
    "        params = json.load(open(os.path.join(OUTPUT_PATH, version, 'params.json'), 'r'))\n",
    "        model, inputs, outputs = train.MODELS[params['modelname']](pump, alpha=1.0)\n",
    "        model.load_weights(weight_path)\n",
    "        models.append(model)\n",
    "        \n",
    "    print('Computing standard results:')\n",
    "    results = milsed.eval.score_ensemble(\n",
    "        OUTPUT_PATH, pump, models, test_idx, pumpfolder, labelfile, duration, ensemble_version, \n",
    "        use_tqdm=True, use_orig_duration=use_orig_duration, save_jams=save, weak_from_strong=False)\n",
    "    \n",
    "    print('Computing weak from strong results:')\n",
    "    results_wfs = milsed.eval.score_ensemble(\n",
    "        OUTPUT_PATH, pump, models, test_idx, pumpfolder, labelfile, duration, ensemble_version, \n",
    "        use_tqdm=True, use_orig_duration=use_orig_duration, save_jams=save, weak_from_strong=True)\n",
    "    \n",
    "    # Save them to disk\n",
    "    if save:\n",
    "        resultsfile = os.path.join(OUTPUT_PATH, ensemble_version, 'results.json')\n",
    "        with open(resultsfile, 'w') as fp:\n",
    "            json.dump(results, fp, indent=2)\n",
    "            \n",
    "        resultsfile_wfs = os.path.join(OUTPUT_PATH, ensemble_version, 'predictions_weakfromstrong', 'results.json')\n",
    "        with open(resultsfile_wfs, 'w') as fp:\n",
    "            json.dump(results_wfs, fp, indent=2)\n",
    "        \n",
    "    return results, results_wfs"
   ]
  },
  {
   "cell_type": "markdown",
   "metadata": {
    "collapsed": true
   },
   "source": [
    "## Create final set of ensembles using all good models"
   ]
  },
  {
   "cell_type": "code",
   "execution_count": 5,
   "metadata": {
    "collapsed": true
   },
   "outputs": [],
   "source": [
    "from itertools import combinations"
   ]
  },
  {
   "cell_type": "code",
   "execution_count": 6,
   "metadata": {
    "collapsed": true
   },
   "outputs": [],
   "source": [
    "models = (['model007', 'model009', 'model011', 'model013', 'model015', 'model024', 'model026bm'])"
   ]
  },
  {
   "cell_type": "code",
   "execution_count": 7,
   "metadata": {},
   "outputs": [
    {
     "data": {
      "text/plain": [
       "[('model007', 'model009', 'model011'),\n",
       " ('model007', 'model009', 'model013'),\n",
       " ('model007', 'model009', 'model015'),\n",
       " ('model007', 'model009', 'model024'),\n",
       " ('model007', 'model009', 'model026bm'),\n",
       " ('model007', 'model011', 'model013'),\n",
       " ('model007', 'model011', 'model015'),\n",
       " ('model007', 'model011', 'model024'),\n",
       " ('model007', 'model011', 'model026bm'),\n",
       " ('model007', 'model013', 'model015'),\n",
       " ('model007', 'model013', 'model024'),\n",
       " ('model007', 'model013', 'model026bm'),\n",
       " ('model007', 'model015', 'model024'),\n",
       " ('model007', 'model015', 'model026bm'),\n",
       " ('model007', 'model024', 'model026bm'),\n",
       " ('model009', 'model011', 'model013'),\n",
       " ('model009', 'model011', 'model015'),\n",
       " ('model009', 'model011', 'model024'),\n",
       " ('model009', 'model011', 'model026bm'),\n",
       " ('model009', 'model013', 'model015'),\n",
       " ('model009', 'model013', 'model024'),\n",
       " ('model009', 'model013', 'model026bm'),\n",
       " ('model009', 'model015', 'model024'),\n",
       " ('model009', 'model015', 'model026bm'),\n",
       " ('model009', 'model024', 'model026bm'),\n",
       " ('model011', 'model013', 'model015'),\n",
       " ('model011', 'model013', 'model024'),\n",
       " ('model011', 'model013', 'model026bm'),\n",
       " ('model011', 'model015', 'model024'),\n",
       " ('model011', 'model015', 'model026bm'),\n",
       " ('model011', 'model024', 'model026bm'),\n",
       " ('model013', 'model015', 'model024'),\n",
       " ('model013', 'model015', 'model026bm'),\n",
       " ('model013', 'model024', 'model026bm'),\n",
       " ('model015', 'model024', 'model026bm')]"
      ]
     },
     "execution_count": 7,
     "metadata": {},
     "output_type": "execute_result"
    }
   ],
   "source": [
    "# All combos of 3\n",
    "combos = [c for c in combinations(models, 3)]\n",
    "combos"
   ]
  },
  {
   "cell_type": "code",
   "execution_count": 8,
   "metadata": {},
   "outputs": [
    {
     "data": {
      "text/plain": [
       "35"
      ]
     },
     "execution_count": 8,
     "metadata": {},
     "output_type": "execute_result"
    }
   ],
   "source": [
    "len(combos)"
   ]
  },
  {
   "cell_type": "code",
   "execution_count": null,
   "metadata": {},
   "outputs": [
    {
     "name": "stdout",
     "output_type": "stream",
     "text": [
      "\n",
      "Creating ensemble041:\n",
      "('model007', 'model009', 'model011')\n"
     ]
    },
    {
     "name": "stderr",
     "output_type": "stream",
     "text": [
      "\r",
      "Evaluating the ensemble:   0%|          | 0/488 [00:00<?, ?it/s]"
     ]
    },
    {
     "name": "stdout",
     "output_type": "stream",
     "text": [
      "Computing standard results:\n"
     ]
    },
    {
     "name": "stderr",
     "output_type": "stream",
     "text": [
      "Evaluating the ensemble: 100%|██████████| 488/488 [03:22<00:00,  3.05it/s]\n",
      "/home/js7561/miniconda3/envs/py35milsed/lib/python3.5/site-packages/sklearn/metrics/classification.py:1113: UndefinedMetricWarning: F-score is ill-defined and being set to 0.0 in labels with no predicted samples.\n",
      "  'precision', 'predicted', average, warn_for)\n",
      "/home/js7561/miniconda3/envs/py35milsed/lib/python3.5/site-packages/sklearn/metrics/classification.py:1113: UndefinedMetricWarning: Precision is ill-defined and being set to 0.0 in labels with no predicted samples.\n",
      "  'precision', 'predicted', average, warn_for)\n",
      "/home/js7561/miniconda3/envs/py35milsed/lib/python3.5/site-packages/sklearn/metrics/classification.py:1113: UndefinedMetricWarning: F-score is ill-defined and being set to 0.0 in samples with no predicted labels.\n",
      "  'precision', 'predicted', average, warn_for)\n",
      "/home/js7561/miniconda3/envs/py35milsed/lib/python3.5/site-packages/sklearn/metrics/classification.py:1113: UndefinedMetricWarning: Precision is ill-defined and being set to 0.0 in samples with no predicted labels.\n",
      "  'precision', 'predicted', average, warn_for)\n",
      "Evaluating the ensemble:   0%|          | 0/488 [00:00<?, ?it/s]"
     ]
    },
    {
     "name": "stdout",
     "output_type": "stream",
     "text": [
      "Computing weak from strong results:\n"
     ]
    },
    {
     "name": "stderr",
     "output_type": "stream",
     "text": [
      "Evaluating the ensemble: 100%|██████████| 488/488 [02:44<00:00,  2.93it/s]\n"
     ]
    },
    {
     "name": "stdout",
     "output_type": "stream",
     "text": [
      "\n",
      "Creating ensemble042:\n",
      "('model007', 'model009', 'model013')\n"
     ]
    },
    {
     "name": "stderr",
     "output_type": "stream",
     "text": [
      "\r",
      "Evaluating the ensemble:   0%|          | 0/488 [00:00<?, ?it/s]"
     ]
    },
    {
     "name": "stdout",
     "output_type": "stream",
     "text": [
      "Computing standard results:\n"
     ]
    },
    {
     "name": "stderr",
     "output_type": "stream",
     "text": [
      "Evaluating the ensemble: 100%|██████████| 488/488 [02:45<00:00,  2.95it/s]\n",
      "Evaluating the ensemble:   0%|          | 0/488 [00:00<?, ?it/s]"
     ]
    },
    {
     "name": "stdout",
     "output_type": "stream",
     "text": [
      "Computing weak from strong results:\n"
     ]
    },
    {
     "name": "stderr",
     "output_type": "stream",
     "text": [
      "Evaluating the ensemble: 100%|██████████| 488/488 [02:44<00:00,  3.07it/s]\n"
     ]
    },
    {
     "name": "stdout",
     "output_type": "stream",
     "text": [
      "\n",
      "Creating ensemble043:\n",
      "('model007', 'model009', 'model015')\n"
     ]
    },
    {
     "name": "stderr",
     "output_type": "stream",
     "text": [
      "\r",
      "Evaluating the ensemble:   0%|          | 0/488 [00:00<?, ?it/s]"
     ]
    },
    {
     "name": "stdout",
     "output_type": "stream",
     "text": [
      "Computing standard results:\n"
     ]
    },
    {
     "name": "stderr",
     "output_type": "stream",
     "text": [
      "Evaluating the ensemble:  99%|█████████▊| 481/488 [03:09<00:02,  2.60it/s]"
     ]
    }
   ],
   "source": [
    "start_version = 41\n",
    "\n",
    "for i in range(35):\n",
    "\n",
    "    if start_version < 10:\n",
    "        ensemble_version = 'ensemble00{}'.format(start_version)\n",
    "    else:\n",
    "        ensemble_version = 'ensemble0{}'.format(start_version)\n",
    "        \n",
    "    print('\\nCreating {}:\\n{}'.format(ensemble_version, combos[i]))\n",
    "    _ = create_ensemble(combos[i], ensemble_version, use_orig_duration=True, save=True)\n",
    "    start_version += 1"
   ]
  },
  {
   "cell_type": "code",
   "execution_count": 8,
   "metadata": {},
   "outputs": [
    {
     "name": "stdout",
     "output_type": "stream",
     "text": [
      "41 ('model007', 'model009', 'model011')\n",
      "42 ('model007', 'model009', 'model013')\n",
      "43 ('model007', 'model009', 'model015')\n",
      "44 ('model007', 'model009', 'model024')\n",
      "45 ('model007', 'model009', 'model026bm')\n",
      "46 ('model007', 'model011', 'model013')\n",
      "47 ('model007', 'model011', 'model015')\n",
      "48 ('model007', 'model011', 'model024')\n",
      "49 ('model007', 'model011', 'model026bm')\n",
      "50 ('model007', 'model013', 'model015')\n",
      "51 ('model007', 'model013', 'model024')\n",
      "52 ('model007', 'model013', 'model026bm')\n",
      "53 ('model007', 'model015', 'model024')\n",
      "54 ('model007', 'model015', 'model026bm')\n",
      "55 ('model007', 'model024', 'model026bm')\n",
      "56 ('model009', 'model011', 'model013')\n",
      "57 ('model009', 'model011', 'model015')\n",
      "58 ('model009', 'model011', 'model024')\n",
      "59 ('model009', 'model011', 'model026bm')\n",
      "60 ('model009', 'model013', 'model015')\n",
      "61 ('model009', 'model013', 'model024')\n",
      "62 ('model009', 'model013', 'model026bm')\n",
      "63 ('model009', 'model015', 'model024')\n",
      "64 ('model009', 'model015', 'model026bm')\n",
      "65 ('model009', 'model024', 'model026bm')\n",
      "66 ('model011', 'model013', 'model015')\n",
      "67 ('model011', 'model013', 'model024')\n",
      "68 ('model011', 'model013', 'model026bm')\n",
      "69 ('model011', 'model015', 'model024')\n",
      "70 ('model011', 'model015', 'model026bm')\n",
      "71 ('model011', 'model024', 'model026bm')\n",
      "72 ('model013', 'model015', 'model024')\n",
      "73 ('model013', 'model015', 'model026bm')\n",
      "74 ('model013', 'model024', 'model026bm')\n",
      "75 ('model015', 'model024', 'model026bm')\n"
     ]
    }
   ],
   "source": [
    "for n, c in enumerate(combos):\n",
    "    print(n+41, c)"
   ]
  },
  {
   "cell_type": "code",
   "execution_count": null,
   "metadata": {
    "collapsed": true
   },
   "outputs": [],
   "source": []
  }
 ],
 "metadata": {
  "kernelspec": {
   "display_name": "Python 3",
   "language": "python",
   "name": "python3"
  },
  "language_info": {
   "codemirror_mode": {
    "name": "ipython",
    "version": 3
   },
   "file_extension": ".py",
   "mimetype": "text/x-python",
   "name": "python",
   "nbconvert_exporter": "python",
   "pygments_lexer": "ipython3",
   "version": "3.5.3"
  }
 },
 "nbformat": 4,
 "nbformat_minor": 2
}
