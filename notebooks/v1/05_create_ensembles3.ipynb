{
 "cells": [
  {
   "cell_type": "code",
   "execution_count": 1,
   "metadata": {},
   "outputs": [
    {
     "name": "stderr",
     "output_type": "stream",
     "text": [
      "Using TensorFlow backend.\n"
     ]
    }
   ],
   "source": [
    "import imp\n",
    "import json\n",
    "import os\n",
    "import pickle\n",
    "import milsed\n",
    "import numpy as np\n",
    "import math"
   ]
  },
  {
   "cell_type": "code",
   "execution_count": 2,
   "metadata": {},
   "outputs": [
    {
     "name": "stdout",
     "output_type": "stream",
     "text": [
      "/home/js7561/dev/milsed/models\n"
     ]
    }
   ],
   "source": [
    "cd ~/dev/milsed/models/"
   ]
  },
  {
   "cell_type": "code",
   "execution_count": 3,
   "metadata": {
    "collapsed": true
   },
   "outputs": [],
   "source": [
    "# SETUP STUFF\n",
    "OUTPUT_PATH = '/home/js7561/dev/milsed/models/resources/'\n",
    "train = imp.load_source('train', '/home/js7561/dev/milsed/models/02_train.py')\n",
    "pump = pickle.load(open('/home/js7561/dev/milsed/models/resources/pump.pkl', 'rb'))\n",
    "with open(os.path.join(OUTPUT_PATH, 'index_test.json'), 'r') as fp:\n",
    "    test_idx = json.load(fp)['id']\n",
    "pumpfolder = '/beegfs/js7561/datasets/dcase2017/task4_official/combined/features_silence/'\n",
    "labelfile = ('/beegfs/js7561/datasets/dcase2017/task4_official/combined/metadata/labels/'\n",
    "             '/groundtruth_strong_label_testing_set.csv')\n",
    "duration = 10.0"
   ]
  },
  {
   "cell_type": "code",
   "execution_count": 4,
   "metadata": {
    "collapsed": true
   },
   "outputs": [],
   "source": [
    "def create_ensemble(model_list, ensemble_version, use_orig_duration=True, save=True):\n",
    "    # Compute results\n",
    "    models = []\n",
    "    for version in model_list:\n",
    "        weight_path = os.path.join(OUTPUT_PATH, version, 'model.h5')\n",
    "        params = json.load(open(os.path.join(OUTPUT_PATH, version, 'params.json'), 'r'))\n",
    "        model, inputs, outputs = train.MODELS[params['modelname']](pump, alpha=1.0)\n",
    "        model.load_weights(weight_path)\n",
    "        models.append(model)\n",
    "        \n",
    "    print('Computing results:')\n",
    "    results, results_wfs = milsed.eval.score_ensemble_wfs(\n",
    "        OUTPUT_PATH, pump, models, test_idx, pumpfolder, labelfile, duration, ensemble_version, \n",
    "        use_tqdm=True, use_orig_duration=use_orig_duration, save_jams=save)\n",
    "        \n",
    "    # Save them to disk\n",
    "    if save:\n",
    "        resultsfile = os.path.join(OUTPUT_PATH, ensemble_version, 'results.json')\n",
    "        with open(resultsfile, 'w') as fp:\n",
    "            json.dump(results, fp, indent=2)\n",
    "            \n",
    "        resultsfile_wfs = os.path.join(OUTPUT_PATH, ensemble_version, 'predictions_weakfromstrong', 'results.json')\n",
    "        with open(resultsfile_wfs, 'w') as fp:\n",
    "            json.dump(results_wfs, fp, indent=2)\n",
    "        \n",
    "    return results, results_wfs"
   ]
  },
  {
   "cell_type": "markdown",
   "metadata": {
    "collapsed": true
   },
   "source": [
    "## Create final set of ensembles using all good models"
   ]
  },
  {
   "cell_type": "code",
   "execution_count": 5,
   "metadata": {
    "collapsed": true
   },
   "outputs": [],
   "source": [
    "from itertools import combinations"
   ]
  },
  {
   "cell_type": "code",
   "execution_count": 6,
   "metadata": {
    "collapsed": true
   },
   "outputs": [],
   "source": [
    "models = (['model007', 'model009', 'model011', 'model013', 'model015', 'model024', 'model026bm'])"
   ]
  },
  {
   "cell_type": "code",
   "execution_count": 7,
   "metadata": {},
   "outputs": [
    {
     "data": {
      "text/plain": [
       "[('model007', 'model009', 'model011', 'model013'),\n",
       " ('model007', 'model009', 'model011', 'model015'),\n",
       " ('model007', 'model009', 'model011', 'model024'),\n",
       " ('model007', 'model009', 'model011', 'model026bm'),\n",
       " ('model007', 'model009', 'model013', 'model015'),\n",
       " ('model007', 'model009', 'model013', 'model024'),\n",
       " ('model007', 'model009', 'model013', 'model026bm'),\n",
       " ('model007', 'model009', 'model015', 'model024'),\n",
       " ('model007', 'model009', 'model015', 'model026bm'),\n",
       " ('model007', 'model009', 'model024', 'model026bm'),\n",
       " ('model007', 'model011', 'model013', 'model015'),\n",
       " ('model007', 'model011', 'model013', 'model024'),\n",
       " ('model007', 'model011', 'model013', 'model026bm'),\n",
       " ('model007', 'model011', 'model015', 'model024'),\n",
       " ('model007', 'model011', 'model015', 'model026bm'),\n",
       " ('model007', 'model011', 'model024', 'model026bm'),\n",
       " ('model007', 'model013', 'model015', 'model024'),\n",
       " ('model007', 'model013', 'model015', 'model026bm'),\n",
       " ('model007', 'model013', 'model024', 'model026bm'),\n",
       " ('model007', 'model015', 'model024', 'model026bm'),\n",
       " ('model009', 'model011', 'model013', 'model015'),\n",
       " ('model009', 'model011', 'model013', 'model024'),\n",
       " ('model009', 'model011', 'model013', 'model026bm'),\n",
       " ('model009', 'model011', 'model015', 'model024'),\n",
       " ('model009', 'model011', 'model015', 'model026bm'),\n",
       " ('model009', 'model011', 'model024', 'model026bm'),\n",
       " ('model009', 'model013', 'model015', 'model024'),\n",
       " ('model009', 'model013', 'model015', 'model026bm'),\n",
       " ('model009', 'model013', 'model024', 'model026bm'),\n",
       " ('model009', 'model015', 'model024', 'model026bm'),\n",
       " ('model011', 'model013', 'model015', 'model024'),\n",
       " ('model011', 'model013', 'model015', 'model026bm'),\n",
       " ('model011', 'model013', 'model024', 'model026bm'),\n",
       " ('model011', 'model015', 'model024', 'model026bm'),\n",
       " ('model013', 'model015', 'model024', 'model026bm')]"
      ]
     },
     "execution_count": 7,
     "metadata": {},
     "output_type": "execute_result"
    }
   ],
   "source": [
    "# All combos of 4\n",
    "combos = [c for c in combinations(models, 4)]\n",
    "combos"
   ]
  },
  {
   "cell_type": "code",
   "execution_count": 8,
   "metadata": {},
   "outputs": [
    {
     "data": {
      "text/plain": [
       "35"
      ]
     },
     "execution_count": 8,
     "metadata": {},
     "output_type": "execute_result"
    }
   ],
   "source": [
    "len(combos)"
   ]
  },
  {
   "cell_type": "code",
   "execution_count": null,
   "metadata": {},
   "outputs": [
    {
     "name": "stdout",
     "output_type": "stream",
     "text": [
      "\n",
      "Creating ensemble076:\n",
      "('model007', 'model009', 'model011', 'model013')\n"
     ]
    },
    {
     "name": "stderr",
     "output_type": "stream",
     "text": [
      "\r",
      "Evaluating the ensemble:   0%|          | 0/488 [00:00<?, ?it/s]"
     ]
    },
    {
     "name": "stdout",
     "output_type": "stream",
     "text": [
      "Computing results:\n"
     ]
    },
    {
     "name": "stderr",
     "output_type": "stream",
     "text": [
      "Evaluating the ensemble: 100%|██████████| 488/488 [03:48<00:00,  1.68it/s]\n",
      "/home/js7561/miniconda3/envs/py35milsed/lib/python3.5/site-packages/sklearn/metrics/classification.py:1113: UndefinedMetricWarning: F-score is ill-defined and being set to 0.0 in labels with no predicted samples.\n",
      "  'precision', 'predicted', average, warn_for)\n",
      "/home/js7561/miniconda3/envs/py35milsed/lib/python3.5/site-packages/sklearn/metrics/classification.py:1113: UndefinedMetricWarning: Precision is ill-defined and being set to 0.0 in labels with no predicted samples.\n",
      "  'precision', 'predicted', average, warn_for)\n",
      "/home/js7561/miniconda3/envs/py35milsed/lib/python3.5/site-packages/sklearn/metrics/classification.py:1113: UndefinedMetricWarning: F-score is ill-defined and being set to 0.0 in samples with no predicted labels.\n",
      "  'precision', 'predicted', average, warn_for)\n",
      "/home/js7561/miniconda3/envs/py35milsed/lib/python3.5/site-packages/sklearn/metrics/classification.py:1113: UndefinedMetricWarning: Precision is ill-defined and being set to 0.0 in samples with no predicted labels.\n",
      "  'precision', 'predicted', average, warn_for)\n"
     ]
    },
    {
     "name": "stdout",
     "output_type": "stream",
     "text": [
      "\n",
      "Creating ensemble077:\n",
      "('model007', 'model009', 'model011', 'model015')\n"
     ]
    },
    {
     "name": "stderr",
     "output_type": "stream",
     "text": [
      "\r",
      "Evaluating the ensemble:   0%|          | 0/488 [00:00<?, ?it/s]"
     ]
    },
    {
     "name": "stdout",
     "output_type": "stream",
     "text": [
      "Computing results:\n"
     ]
    },
    {
     "name": "stderr",
     "output_type": "stream",
     "text": [
      "Evaluating the ensemble: 100%|██████████| 488/488 [05:23<00:00,  1.42it/s]\n"
     ]
    },
    {
     "name": "stdout",
     "output_type": "stream",
     "text": [
      "\n",
      "Creating ensemble078:\n",
      "('model007', 'model009', 'model011', 'model024')\n"
     ]
    },
    {
     "name": "stderr",
     "output_type": "stream",
     "text": [
      "\r",
      "Evaluating the ensemble:   0%|          | 0/488 [00:00<?, ?it/s]"
     ]
    },
    {
     "name": "stdout",
     "output_type": "stream",
     "text": [
      "Computing results:\n"
     ]
    },
    {
     "name": "stderr",
     "output_type": "stream",
     "text": [
      "Evaluating the ensemble: 100%|██████████| 488/488 [03:58<00:00,  2.19it/s]\n"
     ]
    },
    {
     "name": "stdout",
     "output_type": "stream",
     "text": [
      "\n",
      "Creating ensemble079:\n",
      "('model007', 'model009', 'model011', 'model026bm')\n"
     ]
    },
    {
     "name": "stderr",
     "output_type": "stream",
     "text": [
      "\r",
      "Evaluating the ensemble:   0%|          | 0/488 [00:00<?, ?it/s]"
     ]
    },
    {
     "name": "stdout",
     "output_type": "stream",
     "text": [
      "Computing results:\n"
     ]
    },
    {
     "name": "stderr",
     "output_type": "stream",
     "text": [
      "Evaluating the ensemble: 100%|██████████| 488/488 [03:35<00:00,  2.46it/s]\n"
     ]
    },
    {
     "name": "stdout",
     "output_type": "stream",
     "text": [
      "\n",
      "Creating ensemble080:\n",
      "('model007', 'model009', 'model013', 'model015')\n"
     ]
    },
    {
     "name": "stderr",
     "output_type": "stream",
     "text": [
      "\r",
      "Evaluating the ensemble:   0%|          | 0/488 [00:00<?, ?it/s]"
     ]
    },
    {
     "name": "stdout",
     "output_type": "stream",
     "text": [
      "Computing results:\n"
     ]
    },
    {
     "name": "stderr",
     "output_type": "stream",
     "text": [
      "Evaluating the ensemble: 100%|██████████| 488/488 [04:03<00:00,  2.12it/s]\n"
     ]
    },
    {
     "name": "stdout",
     "output_type": "stream",
     "text": [
      "\n",
      "Creating ensemble081:\n",
      "('model007', 'model009', 'model013', 'model024')\n"
     ]
    },
    {
     "name": "stderr",
     "output_type": "stream",
     "text": [
      "\r",
      "Evaluating the ensemble:   0%|          | 0/488 [00:00<?, ?it/s]"
     ]
    },
    {
     "name": "stdout",
     "output_type": "stream",
     "text": [
      "Computing results:\n"
     ]
    },
    {
     "name": "stderr",
     "output_type": "stream",
     "text": [
      "Evaluating the ensemble: 100%|██████████| 488/488 [03:51<00:00,  2.08it/s]\n"
     ]
    },
    {
     "name": "stdout",
     "output_type": "stream",
     "text": [
      "\n",
      "Creating ensemble082:\n",
      "('model007', 'model009', 'model013', 'model026bm')\n"
     ]
    },
    {
     "name": "stderr",
     "output_type": "stream",
     "text": [
      "\r",
      "Evaluating the ensemble:   0%|          | 0/488 [00:00<?, ?it/s]"
     ]
    },
    {
     "name": "stdout",
     "output_type": "stream",
     "text": [
      "Computing results:\n"
     ]
    },
    {
     "name": "stderr",
     "output_type": "stream",
     "text": [
      "Evaluating the ensemble:  40%|███▉      | 194/488 [01:22<01:19,  3.69it/s]"
     ]
    }
   ],
   "source": [
    "start_version = 76\n",
    "\n",
    "for i in range(35):\n",
    "\n",
    "    if start_version < 10:\n",
    "        ensemble_version = 'ensemble00{}'.format(start_version)\n",
    "    else:\n",
    "        ensemble_version = 'ensemble0{}'.format(start_version)\n",
    "        \n",
    "    print('\\nCreating {}:\\n{}'.format(ensemble_version, combos[i]))\n",
    "    _ = create_ensemble(combos[i], ensemble_version, use_orig_duration=True, save=True)\n",
    "    start_version += 1"
   ]
  },
  {
   "cell_type": "code",
   "execution_count": null,
   "metadata": {
    "scrolled": false
   },
   "outputs": [
    {
     "name": "stdout",
     "output_type": "stream",
     "text": [
      "\n",
      "Creating ensemble082:\n",
      "('model007', 'model009', 'model013', 'model026bm')\n"
     ]
    },
    {
     "name": "stderr",
     "output_type": "stream",
     "text": [
      "\r",
      "Evaluating the ensemble:   0%|          | 0/488 [00:00<?, ?it/s]"
     ]
    },
    {
     "name": "stdout",
     "output_type": "stream",
     "text": [
      "Computing results:\n"
     ]
    },
    {
     "name": "stderr",
     "output_type": "stream",
     "text": [
      "Evaluating the ensemble: 100%|██████████| 488/488 [03:33<00:00,  2.13it/s]\n",
      "/home/js7561/miniconda3/envs/py35milsed/lib/python3.5/site-packages/sklearn/metrics/classification.py:1113: UndefinedMetricWarning: F-score is ill-defined and being set to 0.0 in labels with no predicted samples.\n",
      "  'precision', 'predicted', average, warn_for)\n",
      "/home/js7561/miniconda3/envs/py35milsed/lib/python3.5/site-packages/sklearn/metrics/classification.py:1113: UndefinedMetricWarning: Precision is ill-defined and being set to 0.0 in labels with no predicted samples.\n",
      "  'precision', 'predicted', average, warn_for)\n",
      "/home/js7561/miniconda3/envs/py35milsed/lib/python3.5/site-packages/sklearn/metrics/classification.py:1113: UndefinedMetricWarning: F-score is ill-defined and being set to 0.0 in samples with no predicted labels.\n",
      "  'precision', 'predicted', average, warn_for)\n",
      "/home/js7561/miniconda3/envs/py35milsed/lib/python3.5/site-packages/sklearn/metrics/classification.py:1113: UndefinedMetricWarning: Precision is ill-defined and being set to 0.0 in samples with no predicted labels.\n",
      "  'precision', 'predicted', average, warn_for)\n"
     ]
    },
    {
     "name": "stdout",
     "output_type": "stream",
     "text": [
      "\n",
      "Creating ensemble083:\n",
      "('model007', 'model009', 'model015', 'model024')\n"
     ]
    },
    {
     "name": "stderr",
     "output_type": "stream",
     "text": [
      "\r",
      "Evaluating the ensemble:   0%|          | 0/488 [00:00<?, ?it/s]"
     ]
    },
    {
     "name": "stdout",
     "output_type": "stream",
     "text": [
      "Computing results:\n"
     ]
    },
    {
     "name": "stderr",
     "output_type": "stream",
     "text": [
      "Evaluating the ensemble: 100%|██████████| 488/488 [04:02<00:00,  1.90it/s]\n"
     ]
    },
    {
     "name": "stdout",
     "output_type": "stream",
     "text": [
      "\n",
      "Creating ensemble084:\n",
      "('model007', 'model009', 'model015', 'model026bm')\n"
     ]
    },
    {
     "name": "stderr",
     "output_type": "stream",
     "text": [
      "\r",
      "Evaluating the ensemble:   0%|          | 0/488 [00:00<?, ?it/s]"
     ]
    },
    {
     "name": "stdout",
     "output_type": "stream",
     "text": [
      "Computing results:\n"
     ]
    },
    {
     "name": "stderr",
     "output_type": "stream",
     "text": [
      "Evaluating the ensemble: 100%|██████████| 488/488 [03:44<00:00,  2.13it/s]\n"
     ]
    },
    {
     "name": "stdout",
     "output_type": "stream",
     "text": [
      "\n",
      "Creating ensemble085:\n",
      "('model007', 'model009', 'model024', 'model026bm')\n"
     ]
    },
    {
     "name": "stderr",
     "output_type": "stream",
     "text": [
      "\r",
      "Evaluating the ensemble:   0%|          | 0/488 [00:00<?, ?it/s]"
     ]
    },
    {
     "name": "stdout",
     "output_type": "stream",
     "text": [
      "Computing results:\n"
     ]
    },
    {
     "name": "stderr",
     "output_type": "stream",
     "text": [
      "Evaluating the ensemble: 100%|██████████| 488/488 [03:36<00:00,  3.03it/s]\n"
     ]
    },
    {
     "name": "stdout",
     "output_type": "stream",
     "text": [
      "\n",
      "Creating ensemble086:\n",
      "('model007', 'model011', 'model013', 'model015')\n"
     ]
    },
    {
     "name": "stderr",
     "output_type": "stream",
     "text": [
      "\r",
      "Evaluating the ensemble:   0%|          | 0/488 [00:00<?, ?it/s]"
     ]
    },
    {
     "name": "stdout",
     "output_type": "stream",
     "text": [
      "Computing results:\n"
     ]
    },
    {
     "name": "stderr",
     "output_type": "stream",
     "text": [
      "Evaluating the ensemble: 100%|██████████| 488/488 [02:46<00:00,  2.70it/s]\n"
     ]
    },
    {
     "name": "stdout",
     "output_type": "stream",
     "text": [
      "\n",
      "Creating ensemble087:\n",
      "('model007', 'model011', 'model013', 'model024')\n"
     ]
    },
    {
     "name": "stderr",
     "output_type": "stream",
     "text": [
      "\r",
      "Evaluating the ensemble:   0%|          | 0/488 [00:00<?, ?it/s]"
     ]
    },
    {
     "name": "stdout",
     "output_type": "stream",
     "text": [
      "Computing results:\n"
     ]
    },
    {
     "name": "stderr",
     "output_type": "stream",
     "text": [
      "Evaluating the ensemble: 100%|██████████| 488/488 [02:32<00:00,  4.00it/s]\n"
     ]
    },
    {
     "name": "stdout",
     "output_type": "stream",
     "text": [
      "\n",
      "Creating ensemble088:\n",
      "('model007', 'model011', 'model013', 'model026bm')\n"
     ]
    },
    {
     "name": "stderr",
     "output_type": "stream",
     "text": [
      "\r",
      "Evaluating the ensemble:   0%|          | 0/488 [00:00<?, ?it/s]"
     ]
    },
    {
     "name": "stdout",
     "output_type": "stream",
     "text": [
      "Computing results:\n"
     ]
    },
    {
     "name": "stderr",
     "output_type": "stream",
     "text": [
      "Evaluating the ensemble: 100%|██████████| 488/488 [02:50<00:00,  3.05it/s]\n"
     ]
    },
    {
     "name": "stdout",
     "output_type": "stream",
     "text": [
      "\n",
      "Creating ensemble089:\n",
      "('model007', 'model011', 'model015', 'model024')\n"
     ]
    },
    {
     "name": "stderr",
     "output_type": "stream",
     "text": [
      "\r",
      "Evaluating the ensemble:   0%|          | 0/488 [00:00<?, ?it/s]"
     ]
    },
    {
     "name": "stdout",
     "output_type": "stream",
     "text": [
      "Computing results:\n"
     ]
    },
    {
     "name": "stderr",
     "output_type": "stream",
     "text": [
      "Evaluating the ensemble: 100%|██████████| 488/488 [03:05<00:00,  2.62it/s]\n"
     ]
    },
    {
     "name": "stdout",
     "output_type": "stream",
     "text": [
      "\n",
      "Creating ensemble090:\n",
      "('model007', 'model011', 'model015', 'model026bm')\n"
     ]
    },
    {
     "name": "stderr",
     "output_type": "stream",
     "text": [
      "\r",
      "Evaluating the ensemble:   0%|          | 0/488 [00:00<?, ?it/s]"
     ]
    },
    {
     "name": "stdout",
     "output_type": "stream",
     "text": [
      "Computing results:\n"
     ]
    },
    {
     "name": "stderr",
     "output_type": "stream",
     "text": [
      "Evaluating the ensemble: 100%|██████████| 488/488 [03:03<00:00,  2.66it/s]\n"
     ]
    },
    {
     "name": "stdout",
     "output_type": "stream",
     "text": [
      "\n",
      "Creating ensemble091:\n",
      "('model007', 'model011', 'model024', 'model026bm')\n"
     ]
    },
    {
     "name": "stderr",
     "output_type": "stream",
     "text": [
      "\r",
      "Evaluating the ensemble:   0%|          | 0/488 [00:00<?, ?it/s]"
     ]
    },
    {
     "name": "stdout",
     "output_type": "stream",
     "text": [
      "Computing results:\n"
     ]
    },
    {
     "name": "stderr",
     "output_type": "stream",
     "text": [
      "Evaluating the ensemble: 100%|██████████| 488/488 [03:48<00:00,  3.25it/s]\n"
     ]
    },
    {
     "name": "stdout",
     "output_type": "stream",
     "text": [
      "\n",
      "Creating ensemble092:\n",
      "('model007', 'model013', 'model015', 'model024')\n"
     ]
    },
    {
     "name": "stderr",
     "output_type": "stream",
     "text": [
      "\r",
      "Evaluating the ensemble:   0%|          | 0/488 [00:00<?, ?it/s]"
     ]
    },
    {
     "name": "stdout",
     "output_type": "stream",
     "text": [
      "Computing results:\n"
     ]
    },
    {
     "name": "stderr",
     "output_type": "stream",
     "text": [
      "Evaluating the ensemble: 100%|██████████| 488/488 [02:28<00:00,  3.72it/s]\n"
     ]
    },
    {
     "name": "stdout",
     "output_type": "stream",
     "text": [
      "\n",
      "Creating ensemble093:\n",
      "('model007', 'model013', 'model015', 'model026bm')\n"
     ]
    },
    {
     "name": "stderr",
     "output_type": "stream",
     "text": [
      "\r",
      "Evaluating the ensemble:   0%|          | 0/488 [00:00<?, ?it/s]"
     ]
    },
    {
     "name": "stdout",
     "output_type": "stream",
     "text": [
      "Computing results:\n"
     ]
    },
    {
     "name": "stderr",
     "output_type": "stream",
     "text": [
      "Evaluating the ensemble: 100%|██████████| 488/488 [02:21<00:00,  3.80it/s]\n"
     ]
    },
    {
     "name": "stdout",
     "output_type": "stream",
     "text": [
      "\n",
      "Creating ensemble094:\n",
      "('model007', 'model013', 'model024', 'model026bm')\n"
     ]
    },
    {
     "name": "stderr",
     "output_type": "stream",
     "text": [
      "\r",
      "Evaluating the ensemble:   0%|          | 0/488 [00:00<?, ?it/s]"
     ]
    },
    {
     "name": "stdout",
     "output_type": "stream",
     "text": [
      "Computing results:\n"
     ]
    },
    {
     "name": "stderr",
     "output_type": "stream",
     "text": [
      "Evaluating the ensemble: 100%|██████████| 488/488 [02:16<00:00,  3.95it/s]\n"
     ]
    },
    {
     "name": "stdout",
     "output_type": "stream",
     "text": [
      "\n",
      "Creating ensemble095:\n",
      "('model007', 'model015', 'model024', 'model026bm')\n"
     ]
    },
    {
     "name": "stderr",
     "output_type": "stream",
     "text": [
      "\r",
      "Evaluating the ensemble:   0%|          | 0/488 [00:00<?, ?it/s]"
     ]
    },
    {
     "name": "stdout",
     "output_type": "stream",
     "text": [
      "Computing results:\n"
     ]
    },
    {
     "name": "stderr",
     "output_type": "stream",
     "text": [
      "Evaluating the ensemble: 100%|██████████| 488/488 [02:27<00:00,  3.64it/s]\n"
     ]
    },
    {
     "name": "stdout",
     "output_type": "stream",
     "text": [
      "\n",
      "Creating ensemble096:\n",
      "('model009', 'model011', 'model013', 'model015')\n"
     ]
    },
    {
     "name": "stderr",
     "output_type": "stream",
     "text": [
      "\r",
      "Evaluating the ensemble:   0%|          | 0/488 [00:00<?, ?it/s]"
     ]
    },
    {
     "name": "stdout",
     "output_type": "stream",
     "text": [
      "Computing results:\n"
     ]
    },
    {
     "name": "stderr",
     "output_type": "stream",
     "text": [
      "Evaluating the ensemble: 100%|██████████| 488/488 [02:27<00:00,  3.66it/s]\n"
     ]
    },
    {
     "name": "stdout",
     "output_type": "stream",
     "text": [
      "\n",
      "Creating ensemble097:\n",
      "('model009', 'model011', 'model013', 'model024')\n"
     ]
    },
    {
     "name": "stderr",
     "output_type": "stream",
     "text": [
      "\r",
      "Evaluating the ensemble:   0%|          | 0/488 [00:00<?, ?it/s]"
     ]
    },
    {
     "name": "stdout",
     "output_type": "stream",
     "text": [
      "Computing results:\n"
     ]
    },
    {
     "name": "stderr",
     "output_type": "stream",
     "text": [
      "Evaluating the ensemble: 100%|██████████| 488/488 [02:21<00:00,  3.90it/s]\n"
     ]
    },
    {
     "name": "stdout",
     "output_type": "stream",
     "text": [
      "\n",
      "Creating ensemble098:\n",
      "('model009', 'model011', 'model013', 'model026bm')\n"
     ]
    },
    {
     "name": "stderr",
     "output_type": "stream",
     "text": [
      "\r",
      "Evaluating the ensemble:   0%|          | 0/488 [00:00<?, ?it/s]"
     ]
    },
    {
     "name": "stdout",
     "output_type": "stream",
     "text": [
      "Computing results:\n"
     ]
    },
    {
     "name": "stderr",
     "output_type": "stream",
     "text": [
      "Evaluating the ensemble: 100%|██████████| 488/488 [02:20<00:00,  3.93it/s]\n"
     ]
    },
    {
     "name": "stdout",
     "output_type": "stream",
     "text": [
      "\n",
      "Creating ensemble099:\n",
      "('model009', 'model011', 'model015', 'model024')\n"
     ]
    },
    {
     "name": "stderr",
     "output_type": "stream",
     "text": [
      "\r",
      "Evaluating the ensemble:   0%|          | 0/488 [00:00<?, ?it/s]"
     ]
    },
    {
     "name": "stdout",
     "output_type": "stream",
     "text": [
      "Computing results:\n"
     ]
    },
    {
     "name": "stderr",
     "output_type": "stream",
     "text": [
      "Evaluating the ensemble: 100%|██████████| 488/488 [03:21<00:00,  2.63it/s]\n"
     ]
    },
    {
     "name": "stdout",
     "output_type": "stream",
     "text": [
      "\n",
      "Creating ensemble100:\n",
      "('model009', 'model011', 'model015', 'model026bm')\n"
     ]
    },
    {
     "name": "stderr",
     "output_type": "stream",
     "text": [
      "\r",
      "Evaluating the ensemble:   0%|          | 0/488 [00:00<?, ?it/s]"
     ]
    },
    {
     "name": "stdout",
     "output_type": "stream",
     "text": [
      "Computing results:\n"
     ]
    },
    {
     "name": "stderr",
     "output_type": "stream",
     "text": [
      "Evaluating the ensemble: 100%|██████████| 488/488 [03:21<00:00,  2.64it/s]\n"
     ]
    },
    {
     "name": "stdout",
     "output_type": "stream",
     "text": [
      "\n",
      "Creating ensemble101:\n",
      "('model009', 'model011', 'model024', 'model026bm')\n"
     ]
    },
    {
     "name": "stderr",
     "output_type": "stream",
     "text": [
      "\r",
      "Evaluating the ensemble:   0%|          | 0/488 [00:00<?, ?it/s]"
     ]
    },
    {
     "name": "stdout",
     "output_type": "stream",
     "text": [
      "Computing results:\n"
     ]
    },
    {
     "name": "stderr",
     "output_type": "stream",
     "text": [
      "Evaluating the ensemble: 100%|██████████| 488/488 [03:13<00:00,  2.85it/s]\n"
     ]
    },
    {
     "name": "stdout",
     "output_type": "stream",
     "text": [
      "\n",
      "Creating ensemble102:\n",
      "('model009', 'model013', 'model015', 'model024')\n"
     ]
    },
    {
     "name": "stderr",
     "output_type": "stream",
     "text": [
      "\r",
      "Evaluating the ensemble:   0%|          | 0/488 [00:00<?, ?it/s]"
     ]
    },
    {
     "name": "stdout",
     "output_type": "stream",
     "text": [
      "Computing results:\n"
     ]
    },
    {
     "name": "stderr",
     "output_type": "stream",
     "text": [
      "Evaluating the ensemble: 100%|██████████| 488/488 [03:29<00:00,  2.42it/s]\n"
     ]
    },
    {
     "name": "stdout",
     "output_type": "stream",
     "text": [
      "\n",
      "Creating ensemble103:\n",
      "('model009', 'model013', 'model015', 'model026bm')\n"
     ]
    }
   ],
   "source": [
    "start_version = 82\n",
    "\n",
    "for i in range(6, 35):\n",
    "\n",
    "    if start_version < 10:\n",
    "        ensemble_version = 'ensemble00{}'.format(start_version)\n",
    "    elif start_version < 100:\n",
    "        ensemble_version = 'ensemble0{}'.format(start_version)\n",
    "    else:\n",
    "        ensemble_version = 'ensemble{}'.format(start_version)\n",
    "        \n",
    "    print('\\nCreating {}:\\n{}'.format(ensemble_version, combos[i]))\n",
    "    _ = create_ensemble(combos[i], ensemble_version, use_orig_duration=True, save=True)\n",
    "    start_version += 1"
   ]
  },
  {
   "cell_type": "code",
   "execution_count": 9,
   "metadata": {},
   "outputs": [
    {
     "name": "stdout",
     "output_type": "stream",
     "text": [
      "\n",
      "Creating ensemble103:\n",
      "('model009', 'model013', 'model015', 'model026bm')\n"
     ]
    },
    {
     "name": "stderr",
     "output_type": "stream",
     "text": [
      "\r",
      "Evaluating the ensemble:   0%|          | 0/488 [00:00<?, ?it/s]"
     ]
    },
    {
     "name": "stdout",
     "output_type": "stream",
     "text": [
      "Computing results:\n"
     ]
    },
    {
     "name": "stderr",
     "output_type": "stream",
     "text": [
      "Evaluating the ensemble: 100%|██████████| 488/488 [02:52<00:00,  2.75it/s]\n",
      "/home/js7561/miniconda3/envs/py35milsed/lib/python3.5/site-packages/sklearn/metrics/classification.py:1113: UndefinedMetricWarning: F-score is ill-defined and being set to 0.0 in labels with no predicted samples.\n",
      "  'precision', 'predicted', average, warn_for)\n",
      "/home/js7561/miniconda3/envs/py35milsed/lib/python3.5/site-packages/sklearn/metrics/classification.py:1113: UndefinedMetricWarning: Precision is ill-defined and being set to 0.0 in labels with no predicted samples.\n",
      "  'precision', 'predicted', average, warn_for)\n",
      "/home/js7561/miniconda3/envs/py35milsed/lib/python3.5/site-packages/sklearn/metrics/classification.py:1113: UndefinedMetricWarning: F-score is ill-defined and being set to 0.0 in samples with no predicted labels.\n",
      "  'precision', 'predicted', average, warn_for)\n",
      "/home/js7561/miniconda3/envs/py35milsed/lib/python3.5/site-packages/sklearn/metrics/classification.py:1113: UndefinedMetricWarning: Precision is ill-defined and being set to 0.0 in samples with no predicted labels.\n",
      "  'precision', 'predicted', average, warn_for)\n"
     ]
    },
    {
     "name": "stdout",
     "output_type": "stream",
     "text": [
      "\n",
      "Creating ensemble104:\n",
      "('model009', 'model013', 'model024', 'model026bm')\n"
     ]
    },
    {
     "name": "stderr",
     "output_type": "stream",
     "text": [
      "\r",
      "Evaluating the ensemble:   0%|          | 0/488 [00:00<?, ?it/s]"
     ]
    },
    {
     "name": "stdout",
     "output_type": "stream",
     "text": [
      "Computing results:\n"
     ]
    },
    {
     "name": "stderr",
     "output_type": "stream",
     "text": [
      "Evaluating the ensemble: 100%|██████████| 488/488 [02:30<00:00,  3.08it/s]\n"
     ]
    },
    {
     "name": "stdout",
     "output_type": "stream",
     "text": [
      "\n",
      "Creating ensemble105:\n",
      "('model009', 'model015', 'model024', 'model026bm')\n"
     ]
    },
    {
     "name": "stderr",
     "output_type": "stream",
     "text": [
      "\r",
      "Evaluating the ensemble:   0%|          | 0/488 [00:00<?, ?it/s]"
     ]
    },
    {
     "name": "stdout",
     "output_type": "stream",
     "text": [
      "Computing results:\n"
     ]
    },
    {
     "name": "stderr",
     "output_type": "stream",
     "text": [
      "Evaluating the ensemble: 100%|██████████| 488/488 [02:45<00:00,  3.86it/s]\n"
     ]
    },
    {
     "name": "stdout",
     "output_type": "stream",
     "text": [
      "\n",
      "Creating ensemble106:\n",
      "('model011', 'model013', 'model015', 'model024')\n"
     ]
    },
    {
     "name": "stderr",
     "output_type": "stream",
     "text": [
      "\r",
      "Evaluating the ensemble:   0%|          | 0/488 [00:00<?, ?it/s]"
     ]
    },
    {
     "name": "stdout",
     "output_type": "stream",
     "text": [
      "Computing results:\n"
     ]
    },
    {
     "name": "stderr",
     "output_type": "stream",
     "text": [
      "Evaluating the ensemble: 100%|██████████| 488/488 [02:12<00:00,  3.87it/s]\n"
     ]
    },
    {
     "name": "stdout",
     "output_type": "stream",
     "text": [
      "\n",
      "Creating ensemble107:\n",
      "('model011', 'model013', 'model015', 'model026bm')\n"
     ]
    },
    {
     "name": "stderr",
     "output_type": "stream",
     "text": [
      "\r",
      "Evaluating the ensemble:   0%|          | 0/488 [00:00<?, ?it/s]"
     ]
    },
    {
     "name": "stdout",
     "output_type": "stream",
     "text": [
      "Computing results:\n"
     ]
    },
    {
     "name": "stderr",
     "output_type": "stream",
     "text": [
      "Evaluating the ensemble: 100%|██████████| 488/488 [02:10<00:00,  3.90it/s]\n"
     ]
    },
    {
     "name": "stdout",
     "output_type": "stream",
     "text": [
      "\n",
      "Creating ensemble108:\n",
      "('model011', 'model013', 'model024', 'model026bm')\n"
     ]
    },
    {
     "name": "stderr",
     "output_type": "stream",
     "text": [
      "\r",
      "Evaluating the ensemble:   0%|          | 0/488 [00:00<?, ?it/s]"
     ]
    },
    {
     "name": "stdout",
     "output_type": "stream",
     "text": [
      "Computing results:\n"
     ]
    },
    {
     "name": "stderr",
     "output_type": "stream",
     "text": [
      "Evaluating the ensemble: 100%|██████████| 488/488 [02:05<00:00,  4.10it/s]\n"
     ]
    },
    {
     "name": "stdout",
     "output_type": "stream",
     "text": [
      "\n",
      "Creating ensemble109:\n",
      "('model011', 'model015', 'model024', 'model026bm')\n"
     ]
    },
    {
     "name": "stderr",
     "output_type": "stream",
     "text": [
      "\r",
      "Evaluating the ensemble:   0%|          | 0/488 [00:00<?, ?it/s]"
     ]
    },
    {
     "name": "stdout",
     "output_type": "stream",
     "text": [
      "Computing results:\n"
     ]
    },
    {
     "name": "stderr",
     "output_type": "stream",
     "text": [
      "Evaluating the ensemble: 100%|██████████| 488/488 [02:16<00:00,  3.78it/s]\n"
     ]
    },
    {
     "name": "stdout",
     "output_type": "stream",
     "text": [
      "\n",
      "Creating ensemble110:\n",
      "('model013', 'model015', 'model024', 'model026bm')\n"
     ]
    },
    {
     "name": "stderr",
     "output_type": "stream",
     "text": [
      "\r",
      "Evaluating the ensemble:   0%|          | 0/488 [00:00<?, ?it/s]"
     ]
    },
    {
     "name": "stdout",
     "output_type": "stream",
     "text": [
      "Computing results:\n"
     ]
    },
    {
     "name": "stderr",
     "output_type": "stream",
     "text": [
      "Evaluating the ensemble: 100%|██████████| 488/488 [02:18<00:00,  3.78it/s]\n"
     ]
    }
   ],
   "source": [
    "start_version = 103\n",
    "\n",
    "for i in range(27, 35):\n",
    "\n",
    "    if start_version < 10:\n",
    "        ensemble_version = 'ensemble00{}'.format(start_version)\n",
    "    elif start_version < 100:\n",
    "        ensemble_version = 'ensemble0{}'.format(start_version)\n",
    "    else:\n",
    "        ensemble_version = 'ensemble{}'.format(start_version)\n",
    "        \n",
    "    print('\\nCreating {}:\\n{}'.format(ensemble_version, combos[i]))\n",
    "    _ = create_ensemble(combos[i], ensemble_version, use_orig_duration=True, save=True)\n",
    "    start_version += 1"
   ]
  },
  {
   "cell_type": "code",
   "execution_count": null,
   "metadata": {
    "collapsed": true
   },
   "outputs": [],
   "source": []
  }
 ],
 "metadata": {
  "kernelspec": {
   "display_name": "Python 3",
   "language": "python",
   "name": "python3"
  },
  "language_info": {
   "codemirror_mode": {
    "name": "ipython",
    "version": 3
   },
   "file_extension": ".py",
   "mimetype": "text/x-python",
   "name": "python",
   "nbconvert_exporter": "python",
   "pygments_lexer": "ipython3",
   "version": "3.5.3"
  }
 },
 "nbformat": 4,
 "nbformat_minor": 2
}
