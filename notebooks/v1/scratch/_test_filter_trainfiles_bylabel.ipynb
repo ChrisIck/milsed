{
 "cells": [
  {
   "cell_type": "code",
   "execution_count": 12,
   "metadata": {
    "collapsed": true
   },
   "outputs": [],
   "source": [
    "import os\n",
    "import glob\n",
    "import pandas as pd\n",
    "import numpy as np"
   ]
  },
  {
   "cell_type": "code",
   "execution_count": 4,
   "metadata": {
    "collapsed": true
   },
   "outputs": [],
   "source": [
    "labelfile = '/beegfs/js7561/datasets/dcase2017/task4_official/combined/metadata/labels/groundtruth_weak_label_training_set.csv'\n",
    "labels = pd.read_csv(labelfile, header=None, sep='\\t')\n",
    "labels.columns = ['filename', 'start_time', 'end_time', 'label']"
   ]
  },
  {
   "cell_type": "code",
   "execution_count": 14,
   "metadata": {},
   "outputs": [],
   "source": [
    "l2 = labels[labels.label=='Car']"
   ]
  },
  {
   "cell_type": "code",
   "execution_count": 15,
   "metadata": {},
   "outputs": [
    {
     "data": {
      "text/plain": [
       "56131"
      ]
     },
     "execution_count": 15,
     "metadata": {},
     "output_type": "execute_result"
    }
   ],
   "source": [
    "len(labels)"
   ]
  },
  {
   "cell_type": "code",
   "execution_count": 16,
   "metadata": {},
   "outputs": [
    {
     "data": {
      "text/plain": [
       "25077"
      ]
     },
     "execution_count": 16,
     "metadata": {},
     "output_type": "execute_result"
    }
   ],
   "source": [
    "len(l2)"
   ]
  },
  {
   "cell_type": "code",
   "execution_count": 17,
   "metadata": {},
   "outputs": [
    {
     "data": {
      "text/plain": [
       "25077"
      ]
     },
     "execution_count": 17,
     "metadata": {},
     "output_type": "execute_result"
    }
   ],
   "source": [
    "len(l2.filename.values)"
   ]
  },
  {
   "cell_type": "code",
   "execution_count": 18,
   "metadata": {},
   "outputs": [
    {
     "data": {
      "text/plain": [
       "25077"
      ]
     },
     "execution_count": 18,
     "metadata": {},
     "output_type": "execute_result"
    }
   ],
   "source": [
    "l2u = np.unique(l2.filename.values)\n",
    "len(l2u)"
   ]
  },
  {
   "cell_type": "code",
   "execution_count": 20,
   "metadata": {},
   "outputs": [
    {
     "data": {
      "text/plain": [
       "array(['-0ZXwR3cPh4_30.000_40.000.wav', '-0bNnlJmBM0_30.000_40.000.wav',\n",
       "       '-0e6R88diBs_30.000_40.000.wav', '-0khyUGUoto_30.000_40.000.wav',\n",
       "       '-0pX5r9yfXk_30.000_40.000.wav', '-0pZsnG1MAI_30.000_40.000.wav',\n",
       "       '-0qYQNxuwBA_30.000_40.000.wav', '-104y9LRxT0_30.000_40.000.wav',\n",
       "       '-12_ndzRFRw_14.000_24.000.wav', '-1BCDEBjtsk_30.000_40.000.wav'], dtype=object)"
      ]
     },
     "execution_count": 20,
     "metadata": {},
     "output_type": "execute_result"
    }
   ],
   "source": [
    "l2u[:10]"
   ]
  },
  {
   "cell_type": "code",
   "execution_count": 21,
   "metadata": {},
   "outputs": [
    {
     "data": {
      "text/plain": [
       "array(['-0ZXwR3cPh4_30.000_40.000.wav'], dtype=object)"
      ]
     },
     "execution_count": 21,
     "metadata": {},
     "output_type": "execute_result"
    }
   ],
   "source": [
    "np.intersect1d(l2u, ['-0ZXwR3cPh4_30.000_40.000.wav'])"
   ]
  },
  {
   "cell_type": "code",
   "execution_count": 22,
   "metadata": {},
   "outputs": [
    {
     "data": {
      "text/plain": [
       "2"
      ]
     },
     "execution_count": 22,
     "metadata": {},
     "output_type": "execute_result"
    }
   ],
   "source": [
    "5//2"
   ]
  },
  {
   "cell_type": "markdown",
   "metadata": {},
   "source": [
    "## WHY IS THE BALANCED GEN FAILING?"
   ]
  },
  {
   "cell_type": "code",
   "execution_count": 24,
   "metadata": {
    "collapsed": true
   },
   "outputs": [],
   "source": [
    "from sklearn.model_selection import ShuffleSplit"
   ]
  },
  {
   "cell_type": "code",
   "execution_count": 25,
   "metadata": {
    "collapsed": true
   },
   "outputs": [],
   "source": [
    "DCASE_CLASSES = ['Air horn, truck horn',\n",
    "                 'Ambulance (siren)',\n",
    "                 'Bicycle',\n",
    "                 'Bus',\n",
    "                 'Car',\n",
    "                 'Car alarm',\n",
    "                 'Car passing by',\n",
    "                 'Civil defense siren',\n",
    "                 'Fire engine, fire truck (siren)',\n",
    "                 'Motorcycle',\n",
    "                 'Police car (siren)',\n",
    "                 'Reversing beeps',\n",
    "                 'Screaming',\n",
    "                 'Skateboard',\n",
    "                 'Train',\n",
    "                 'Train horn',\n",
    "                 'Truck']"
   ]
  },
  {
   "cell_type": "code",
   "execution_count": 31,
   "metadata": {},
   "outputs": [],
   "source": [
    "seed = 20170612\n",
    "OUTPUT_PATH = os.path.expanduser('~/dev/milsed/models/resources')\n",
    "idx_train_ = pd.read_json(os.path.join(OUTPUT_PATH, 'index_train.json'))\n",
    "splitter_tv = ShuffleSplit(n_splits=1, test_size=0.25,\n",
    "                               random_state=seed)\n",
    "train, val = next(splitter_tv.split(idx_train_))\n",
    "\n",
    "idx_train = idx_train_.iloc[train]\n",
    "tracks = idx_train['id'].values"
   ]
  },
  {
   "cell_type": "code",
   "execution_count": 35,
   "metadata": {},
   "outputs": [
    {
     "name": "stdout",
     "output_type": "stream",
     "text": [
      "Air horn, truck horn 234\n",
      "Ambulance (siren) 395\n",
      "Bicycle 1390\n",
      "Bus 2714\n",
      "Car 18763\n",
      "Car alarm 128\n",
      "Car passing by 2669\n",
      "Civil defense siren 1066\n",
      "Fire engine, fire truck (siren) 1708\n",
      "Motorcycle 2419\n",
      "Police car (siren) 1799\n",
      "Reversing beeps 188\n",
      "Screaming 474\n",
      "Skateboard 1129\n",
      "Train 1578\n",
      "Train horn 263\n",
      "Truck 5162\n"
     ]
    }
   ],
   "source": [
    "labelfile = (\n",
    "        '/beegfs/js7561/datasets/dcase2017/task4_official/combined/metadata/'\n",
    "        'labels/groundtruth_weak_label_training_set.csv')\n",
    "labels = pd.read_csv(labelfile, header=None, sep='\\t')\n",
    "labels.columns = ['filename', 'start_time', 'end_time', 'label']\n",
    "\n",
    "for l in DCASE_CLASSES:\n",
    "    lclass = labels[labels.label==l]\n",
    "    filenames = lclass.filename.values\n",
    "    filenames = [('Y{}'.format(fn)).replace('.wav', '') for fn in filenames]\n",
    "    tracks_str = [str(t) for t in tracks]\n",
    "    filenames = np.intersect1d(np.array(tracks_str), np.array(filenames))\n",
    "    print(l, len(filenames))"
   ]
  },
  {
   "cell_type": "code",
   "execution_count": 33,
   "metadata": {},
   "outputs": [
    {
     "data": {
      "text/plain": [
       "array(['Y5BRxZfRdTNg_30.000_40.000', 'Ypz129yLR_Wg_30.000_40.000',\n",
       "       'Y3N4mn-SyXCw_30.000_40.000', ..., 'YcC1FqAMaLkA_150.000_160.000',\n",
       "       'YrFEk6iyRNXI_60.000_70.000', 'Y9hOyy7iyRJg_30.000_40.000'], dtype=object)"
      ]
     },
     "execution_count": 33,
     "metadata": {},
     "output_type": "execute_result"
    }
   ],
   "source": [
    "tracks"
   ]
  },
  {
   "cell_type": "code",
   "execution_count": 34,
   "metadata": {},
   "outputs": [
    {
     "data": {
      "text/plain": [
       "38379"
      ]
     },
     "execution_count": 34,
     "metadata": {},
     "output_type": "execute_result"
    }
   ],
   "source": [
    "len(tracks)"
   ]
  },
  {
   "cell_type": "code",
   "execution_count": null,
   "metadata": {
    "collapsed": true
   },
   "outputs": [],
   "source": []
  }
 ],
 "metadata": {
  "kernelspec": {
   "display_name": "Python 3",
   "language": "python",
   "name": "python3"
  },
  "language_info": {
   "codemirror_mode": {
    "name": "ipython",
    "version": 3
   },
   "file_extension": ".py",
   "mimetype": "text/x-python",
   "name": "python",
   "nbconvert_exporter": "python",
   "pygments_lexer": "ipython3",
   "version": "3.5.3"
  }
 },
 "nbformat": 4,
 "nbformat_minor": 2
}
