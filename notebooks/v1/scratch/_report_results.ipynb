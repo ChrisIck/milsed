{
 "cells": [
  {
   "cell_type": "code",
   "execution_count": 1,
   "metadata": {
    "collapsed": true
   },
   "outputs": [],
   "source": [
    "%matplotlib inline\n",
    "import seaborn as sns\n",
    "import matplotlib.pyplot as plt\n",
    "import pandas as pd\n",
    "import json\n",
    "import os\n",
    "import numpy as np\n",
    "import pickle\n",
    "from IPython.display import display"
   ]
  },
  {
   "cell_type": "code",
   "execution_count": 2,
   "metadata": {},
   "outputs": [
    {
     "name": "stdout",
     "output_type": "stream",
     "text": [
      "/home/js7561/dev/milsed/models\n"
     ]
    }
   ],
   "source": [
    "cd ~/dev/milsed/models/"
   ]
  },
  {
   "cell_type": "code",
   "execution_count": 3,
   "metadata": {
    "collapsed": true
   },
   "outputs": [],
   "source": [
    "version = '190cd92.0'"
   ]
  },
  {
   "cell_type": "code",
   "execution_count": 4,
   "metadata": {
    "collapsed": true
   },
   "outputs": [],
   "source": [
    "OUTPUT_PATH = 'resources'\n",
    "resultsfolder = os.path.join(OUTPUT_PATH, version)"
   ]
  },
  {
   "cell_type": "code",
   "execution_count": 5,
   "metadata": {
    "collapsed": true
   },
   "outputs": [],
   "source": [
    "# Visualize training\n",
    "history_file = os.path.join(resultsfolder, 'history.pkl')\n",
    "with open(history_file, 'rb') as fp:\n",
    "    history = pickle.load(fp)"
   ]
  },
  {
   "cell_type": "code",
   "execution_count": 6,
   "metadata": {},
   "outputs": [
    {
     "data": {
      "text/plain": [
       "dict_keys(['lr', 'val_loss', 'static/tags_acc', 'val_static/tags_acc', 'static/tags_loss', 'val_static/tags_loss', 'loss'])"
      ]
     },
     "execution_count": 6,
     "metadata": {},
     "output_type": "execute_result"
    }
   ],
   "source": [
    "history.keys()"
   ]
  },
  {
   "cell_type": "code",
   "execution_count": 7,
   "metadata": {},
   "outputs": [
    {
     "data": {
      "image/png": "[encoded data removed]",
      "text/plain": [
       "<matplotlib.figure.Figure at 0x2b233d6f57f0>"
      ]
     },
     "metadata": {},
     "output_type": "display_data"
    }
   ],
   "source": [
    "plt.plot(history['loss'], label='training loss')\n",
    "plt.plot(history['val_loss'], label='validation loss')\n",
    "plt.xlabel('Epoch')\n",
    "plt.ylabel('Loss')\n",
    "plt.title(version)\n",
    "plt.grid()\n",
    "plt.legend()\n",
    "plt.show()"
   ]
  },
  {
   "cell_type": "code",
   "execution_count": 8,
   "metadata": {
    "collapsed": true
   },
   "outputs": [],
   "source": [
    "resultsfile = os.path.join(OUTPUT_PATH, version, 'results.json')\n",
    "with open(resultsfile, 'r') as fp:\n",
    "    results = json.load(fp)"
   ]
  },
  {
   "cell_type": "code",
   "execution_count": 9,
   "metadata": {},
   "outputs": [
    {
     "data": {
      "text/plain": [
       "{'f1': 0.2325056433408578,\n",
       " 'precision': 0.3678571428571429,\n",
       " 'recall': 0.16996699669966997}"
      ]
     },
     "execution_count": 9,
     "metadata": {},
     "output_type": "execute_result"
    }
   ],
   "source": [
    "results['weak']['micro']"
   ]
  },
  {
   "cell_type": "code",
   "execution_count": 36,
   "metadata": {
    "collapsed": true
   },
   "outputs": [],
   "source": [
    "def report_results(version):\n",
    "    \n",
    "    # Load results\n",
    "    resultsfolder = os.path.join(OUTPUT_PATH, version)\n",
    "    resultsfile = os.path.join(OUTPUT_PATH, version, 'results.json')\n",
    "    with open(resultsfile, 'r') as fp:\n",
    "        results = json.load(fp)\n",
    "        \n",
    "    # report\n",
    "    print('{:<10}{}'.format('Model', version))\n",
    "    print('\\nWeak:')\n",
    "    for metric in results['weak']['micro'].keys():\n",
    "        print('{:<10}{:.3f}'.format(metric, results['weak']['micro'][metric]))\n",
    "        \n",
    "    print('\\nStrong:')\n",
    "    strong_f = results['strong']['overall']['f_measure']\n",
    "    strong_e = results['strong']['overall']['error_rate'] \n",
    "    print('{:<10}{:.3f}'.format('precision', strong_f['precision']))\n",
    "    print('{:<10}{:.3f}'.format('recall', strong_f['recall']))\n",
    "    print('{:<10}{:.3f}'.format('f1', strong_f['f_measure']))\n",
    "    print('{:<10}{:.3f}'.format('e_rate', strong_e['error_rate']))\n",
    "    \n",
    "    print('\\n{:<40}P\\tR\\tF\\tE'.format('Strong per-class:'))\n",
    "    strong_c = results['strong']['class_wise']\n",
    "    for c in strong_c.keys():\n",
    "        r_c = strong_c[c]['f_measure']\n",
    "        r_ce = strong_c[c]['error_rate']\n",
    "        print('{:<40}{:.3f}\\t{:.3f}\\t{:.3f}\\t{:.3f}'.format(c, r_c['precision'], r_c['recall'], \n",
    "                                                         r_c['f_measure'], r_ce['error_rate']))\n",
    "    \n",
    "    # Load training history\n",
    "    history_file = os.path.join(resultsfolder, 'history.pkl')\n",
    "    with open(history_file, 'rb') as fp:\n",
    "        history = pickle.load(fp)\n",
    "        \n",
    "    # Visualize training history\n",
    "    plt.plot(history['loss'], label='training loss')\n",
    "    plt.plot(history['val_loss'], label='validation loss')\n",
    "    plt.xlabel('Epoch')\n",
    "    plt.ylabel('Loss')\n",
    "    plt.title(version)\n",
    "    plt.grid()\n",
    "    plt.legend()\n",
    "    plt.show()"
   ]
  },
  {
   "cell_type": "code",
   "execution_count": 37,
   "metadata": {},
   "outputs": [
    {
     "name": "stdout",
     "output_type": "stream",
     "text": [
      "Model     190cd92.0\n",
      "\n",
      "Weak:\n",
      "precision 0.368\n",
      "recall    0.170\n",
      "f1        0.233\n",
      "\n",
      "Strong:\n",
      "precision 0.208\n",
      "recall    0.304\n",
      "f1        0.247\n",
      "e_rate    1.348\n",
      "\n",
      "Strong per-class:                       P\tR\tF\tE\n",
      "Ambulance (siren)                       0.283\t0.096\t0.143\t1.148\n",
      "Civil defense siren                     0.618\t0.679\t0.647\t0.741\n",
      "Air horn, truck horn                    0.434\t0.120\t0.188\t1.036\n",
      "Police car (siren)                      0.226\t0.469\t0.305\t2.137\n",
      "Car passing by                          0.183\t0.044\t0.071\t1.151\n",
      "Fire engine, fire truck (siren)         0.294\t0.498\t0.370\t1.698\n",
      "Bicycle                                 0.079\t0.112\t0.092\t2.199\n",
      "Skateboard                              0.395\t0.665\t0.495\t1.355\n",
      "Screaming                               0.346\t0.269\t0.303\t1.239\n",
      "Truck                                   0.198\t0.245\t0.219\t1.751\n",
      "Reversing beeps                         1.000\t0.006\t0.011\t0.994\n",
      "Train                                   0.272\t0.155\t0.198\t1.260\n",
      "Car alarm                               0.485\t0.098\t0.162\t1.006\n",
      "Bus                                     0.165\t0.176\t0.170\t1.713\n",
      "Car                                     0.107\t0.728\t0.187\t6.344\n",
      "Train horn                              0.460\t0.187\t0.266\t1.032\n",
      "Motorcycle                              0.133\t0.188\t0.156\t2.033\n"
     ]
    },
    {
     "data": {
      "image/png": "[encoded data removed]",
      "text/plain": [
       "<matplotlib.figure.Figure at 0x2b233fad6a90>"
      ]
     },
     "metadata": {},
     "output_type": "display_data"
    }
   ],
   "source": [
    "report_results('190cd92.0')"
   ]
  },
  {
   "cell_type": "code",
   "execution_count": 38,
   "metadata": {
    "collapsed": true
   },
   "outputs": [],
   "source": [
    "def compare_results(versions):\n",
    "    \n",
    "    results = {}\n",
    "    \n",
    "    # Load results\n",
    "    for version in versions:\n",
    "        # Load results\n",
    "        resultsfolder = os.path.join(OUTPUT_PATH, version)\n",
    "        resultsfile = os.path.join(OUTPUT_PATH, version, 'results.json')\n",
    "        with open(resultsfile, 'r') as fp:\n",
    "            results[version] = json.load(fp)\n",
    "    \n",
    "    # Convert to dataframe\n",
    "    df = pd.DataFrame(columns=['Model', 'w_f1', 'w_p', 'w_r', 's_f1', 's_p', 's_r', 's_e'])\n",
    "    for k in results.keys():\n",
    "        r = results[k]\n",
    "        weak = r['weak']['micro']\n",
    "        strong_f = r['strong']['overall']['f_measure']\n",
    "        strong_e = r['strong']['overall']['error_rate']\n",
    "        data = (k, weak['f1'], weak['precision'], weak['recall'], strong_f['f_measure'], \n",
    "                      strong_f['precision'], strong_f['recall'], strong_e['error_rate'])\n",
    "        df.loc[len(df), :] = data\n",
    "        \n",
    "    display(df.sort_values('Model'))\n",
    "    return df"
   ]
  },
  {
   "cell_type": "code",
   "execution_count": 39,
   "metadata": {},
   "outputs": [
    {
     "data": {
      "text/html": [
       "<div>\n",
       "<style>\n",
       "    .dataframe thead tr:only-child th {\n",
       "        text-align: right;\n",
       "    }\n",
       "\n",
       "    .dataframe thead th {\n",
       "        text-align: left;\n",
       "    }\n",
       "\n",
       "    .dataframe tbody tr th {\n",
       "        vertical-align: top;\n",
       "    }\n",
       "</style>\n",
       "<table border=\"1\" class=\"dataframe\">\n",
       "  <thead>\n",
       "    <tr style=\"text-align: right;\">\n",
       "      <th></th>\n",
       "      <th>Model</th>\n",
       "      <th>w_f1</th>\n",
       "      <th>w_p</th>\n",
       "      <th>w_r</th>\n",
       "      <th>s_f1</th>\n",
       "      <th>s_p</th>\n",
       "      <th>s_r</th>\n",
       "      <th>s_e</th>\n",
       "    </tr>\n",
       "  </thead>\n",
       "  <tbody>\n",
       "    <tr>\n",
       "      <th>5</th>\n",
       "      <td>190cd92.0</td>\n",
       "      <td>0.232506</td>\n",
       "      <td>0.367857</td>\n",
       "      <td>0.169967</td>\n",
       "      <td>0.247321</td>\n",
       "      <td>0.208288</td>\n",
       "      <td>0.304358</td>\n",
       "      <td>1.34794</td>\n",
       "    </tr>\n",
       "    <tr>\n",
       "      <th>0</th>\n",
       "      <td>190cd92.1</td>\n",
       "      <td>0.163265</td>\n",
       "      <td>0.26087</td>\n",
       "      <td>0.118812</td>\n",
       "      <td>0.071561</td>\n",
       "      <td>0.186654</td>\n",
       "      <td>0.0442661</td>\n",
       "      <td>1.00275</td>\n",
       "    </tr>\n",
       "    <tr>\n",
       "      <th>1</th>\n",
       "      <td>190cd92.2</td>\n",
       "      <td>0.21764</td>\n",
       "      <td>0.355805</td>\n",
       "      <td>0.156766</td>\n",
       "      <td>0.219263</td>\n",
       "      <td>0.172691</td>\n",
       "      <td>0.300229</td>\n",
       "      <td>1.58303</td>\n",
       "    </tr>\n",
       "    <tr>\n",
       "      <th>3</th>\n",
       "      <td>190cd92.3</td>\n",
       "      <td>0.147685</td>\n",
       "      <td>0.305699</td>\n",
       "      <td>0.0973597</td>\n",
       "      <td>0.186294</td>\n",
       "      <td>0.136485</td>\n",
       "      <td>0.293349</td>\n",
       "      <td>1.98647</td>\n",
       "    </tr>\n",
       "    <tr>\n",
       "      <th>2</th>\n",
       "      <td>190cd92.4</td>\n",
       "      <td>0.158343</td>\n",
       "      <td>0.302326</td>\n",
       "      <td>0.107261</td>\n",
       "      <td>0.0716846</td>\n",
       "      <td>0.271903</td>\n",
       "      <td>0.0412844</td>\n",
       "      <td>0.984862</td>\n",
       "    </tr>\n",
       "    <tr>\n",
       "      <th>4</th>\n",
       "      <td>190cd92.5</td>\n",
       "      <td>0.153459</td>\n",
       "      <td>0.322751</td>\n",
       "      <td>0.10066</td>\n",
       "      <td>0.186791</td>\n",
       "      <td>0.119865</td>\n",
       "      <td>0.422936</td>\n",
       "      <td>3.15298</td>\n",
       "    </tr>\n",
       "  </tbody>\n",
       "</table>\n",
       "</div>"
      ],
      "text/plain": [
       "       Model      w_f1       w_p        w_r       s_f1       s_p        s_r  \\\n",
       "5  190cd92.0  0.232506  0.367857   0.169967   0.247321  0.208288   0.304358   \n",
       "0  190cd92.1  0.163265   0.26087   0.118812   0.071561  0.186654  0.0442661   \n",
       "1  190cd92.2   0.21764  0.355805   0.156766   0.219263  0.172691   0.300229   \n",
       "3  190cd92.3  0.147685  0.305699  0.0973597   0.186294  0.136485   0.293349   \n",
       "2  190cd92.4  0.158343  0.302326   0.107261  0.0716846  0.271903  0.0412844   \n",
       "4  190cd92.5  0.153459  0.322751    0.10066   0.186791  0.119865   0.422936   \n",
       "\n",
       "        s_e  \n",
       "5   1.34794  \n",
       "0   1.00275  \n",
       "1   1.58303  \n",
       "3   1.98647  \n",
       "2  0.984862  \n",
       "4   3.15298  "
      ]
     },
     "metadata": {},
     "output_type": "display_data"
    }
   ],
   "source": [
    "versions = ['190cd92.0', '190cd92.1', '190cd92.2', '190cd92.3', '190cd92.4', '190cd92.5']\n",
    "df = compare_results(versions)"
   ]
  },
  {
   "cell_type": "code",
   "execution_count": 40,
   "metadata": {},
   "outputs": [
    {
     "data": {
      "text/html": [
       "<div>\n",
       "<style>\n",
       "    .dataframe thead tr:only-child th {\n",
       "        text-align: right;\n",
       "    }\n",
       "\n",
       "    .dataframe thead th {\n",
       "        text-align: left;\n",
       "    }\n",
       "\n",
       "    .dataframe tbody tr th {\n",
       "        vertical-align: top;\n",
       "    }\n",
       "</style>\n",
       "<table border=\"1\" class=\"dataframe\">\n",
       "  <thead>\n",
       "    <tr style=\"text-align: right;\">\n",
       "      <th></th>\n",
       "      <th>Model</th>\n",
       "      <th>w_f1</th>\n",
       "      <th>w_p</th>\n",
       "      <th>w_r</th>\n",
       "      <th>s_f1</th>\n",
       "      <th>s_p</th>\n",
       "      <th>s_r</th>\n",
       "      <th>s_e</th>\n",
       "    </tr>\n",
       "  </thead>\n",
       "  <tbody>\n",
       "    <tr>\n",
       "      <th>5</th>\n",
       "      <td>190cd92.0</td>\n",
       "      <td>0.232506</td>\n",
       "      <td>0.367857</td>\n",
       "      <td>0.169967</td>\n",
       "      <td>0.247321</td>\n",
       "      <td>0.208288</td>\n",
       "      <td>0.304358</td>\n",
       "      <td>1.34794</td>\n",
       "    </tr>\n",
       "    <tr>\n",
       "      <th>0</th>\n",
       "      <td>190cd92.1</td>\n",
       "      <td>0.163265</td>\n",
       "      <td>0.26087</td>\n",
       "      <td>0.118812</td>\n",
       "      <td>0.071561</td>\n",
       "      <td>0.186654</td>\n",
       "      <td>0.0442661</td>\n",
       "      <td>1.00275</td>\n",
       "    </tr>\n",
       "    <tr>\n",
       "      <th>1</th>\n",
       "      <td>190cd92.2</td>\n",
       "      <td>0.21764</td>\n",
       "      <td>0.355805</td>\n",
       "      <td>0.156766</td>\n",
       "      <td>0.219263</td>\n",
       "      <td>0.172691</td>\n",
       "      <td>0.300229</td>\n",
       "      <td>1.58303</td>\n",
       "    </tr>\n",
       "    <tr>\n",
       "      <th>3</th>\n",
       "      <td>190cd92.3</td>\n",
       "      <td>0.147685</td>\n",
       "      <td>0.305699</td>\n",
       "      <td>0.0973597</td>\n",
       "      <td>0.186294</td>\n",
       "      <td>0.136485</td>\n",
       "      <td>0.293349</td>\n",
       "      <td>1.98647</td>\n",
       "    </tr>\n",
       "    <tr>\n",
       "      <th>2</th>\n",
       "      <td>190cd92.4</td>\n",
       "      <td>0.158343</td>\n",
       "      <td>0.302326</td>\n",
       "      <td>0.107261</td>\n",
       "      <td>0.0716846</td>\n",
       "      <td>0.271903</td>\n",
       "      <td>0.0412844</td>\n",
       "      <td>0.984862</td>\n",
       "    </tr>\n",
       "    <tr>\n",
       "      <th>4</th>\n",
       "      <td>190cd92.5</td>\n",
       "      <td>0.153459</td>\n",
       "      <td>0.322751</td>\n",
       "      <td>0.10066</td>\n",
       "      <td>0.186791</td>\n",
       "      <td>0.119865</td>\n",
       "      <td>0.422936</td>\n",
       "      <td>3.15298</td>\n",
       "    </tr>\n",
       "  </tbody>\n",
       "</table>\n",
       "</div>"
      ],
      "text/plain": [
       "       Model      w_f1       w_p        w_r       s_f1       s_p        s_r  \\\n",
       "5  190cd92.0  0.232506  0.367857   0.169967   0.247321  0.208288   0.304358   \n",
       "0  190cd92.1  0.163265   0.26087   0.118812   0.071561  0.186654  0.0442661   \n",
       "1  190cd92.2   0.21764  0.355805   0.156766   0.219263  0.172691   0.300229   \n",
       "3  190cd92.3  0.147685  0.305699  0.0973597   0.186294  0.136485   0.293349   \n",
       "2  190cd92.4  0.158343  0.302326   0.107261  0.0716846  0.271903  0.0412844   \n",
       "4  190cd92.5  0.153459  0.322751    0.10066   0.186791  0.119865   0.422936   \n",
       "\n",
       "        s_e  \n",
       "5   1.34794  \n",
       "0   1.00275  \n",
       "1   1.58303  \n",
       "3   1.98647  \n",
       "2  0.984862  \n",
       "4   3.15298  "
      ]
     },
     "execution_count": 40,
     "metadata": {},
     "output_type": "execute_result"
    }
   ],
   "source": [
    "df.sort_values('Model')"
   ]
  },
  {
   "cell_type": "code",
   "execution_count": 23,
   "metadata": {},
   "outputs": [
    {
     "data": {
      "text/plain": [
       "dict_keys(['Ambulance (siren)', 'Civil defense siren', 'Air horn, truck horn', 'Police car (siren)', 'Car passing by', 'Fire engine, fire truck (siren)', 'Bicycle', 'Skateboard', 'Screaming', 'Truck', 'Reversing beeps', 'Train', 'Car alarm', 'Bus', 'Car', 'Train horn', 'Motorcycle'])"
      ]
     },
     "execution_count": 23,
     "metadata": {},
     "output_type": "execute_result"
    }
   ],
   "source": [
    "results['strong']['class_wise'].keys()"
   ]
  },
  {
   "cell_type": "code",
   "execution_count": 25,
   "metadata": {},
   "outputs": [
    {
     "data": {
      "text/plain": [
       "{'f_measure': 0.18676774638180565,\n",
       " 'precision': 0.10711462450592886,\n",
       " 'recall': 0.728494623655914}"
      ]
     },
     "execution_count": 25,
     "metadata": {},
     "output_type": "execute_result"
    }
   ],
   "source": [
    "results['strong']['class_wise']['Car']['f_measure']"
   ]
  },
  {
   "cell_type": "code",
   "execution_count": null,
   "metadata": {
    "collapsed": true
   },
   "outputs": [],
   "source": []
  }
 ],
 "metadata": {
  "kernelspec": {
   "display_name": "Python 3",
   "language": "python",
   "name": "python3"
  },
  "language_info": {
   "codemirror_mode": {
    "name": "ipython",
    "version": 3
   },
   "file_extension": ".py",
   "mimetype": "text/x-python",
   "name": "python",
   "nbconvert_exporter": "python",
   "pygments_lexer": "ipython3",
   "version": "3.5.3"
  }
 },
 "nbformat": 4,
 "nbformat_minor": 2
}
