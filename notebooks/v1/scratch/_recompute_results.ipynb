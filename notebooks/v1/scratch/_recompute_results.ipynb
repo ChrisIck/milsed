{
 "cells": [
  {
   "cell_type": "code",
   "execution_count": 1,
   "metadata": {},
   "outputs": [
    {
     "name": "stderr",
     "output_type": "stream",
     "text": [
      "Using TensorFlow backend.\n"
     ]
    }
   ],
   "source": [
    "import imp\n",
    "import json\n",
    "import os\n",
    "import pickle\n",
    "import milsed"
   ]
  },
  {
   "cell_type": "code",
   "execution_count": 2,
   "metadata": {},
   "outputs": [
    {
     "name": "stdout",
     "output_type": "stream",
     "text": [
      "/home/js7561/dev/milsed/models\n"
     ]
    }
   ],
   "source": [
    "cd ~/dev/milsed/models/"
   ]
  },
  {
   "cell_type": "code",
   "execution_count": 3,
   "metadata": {
    "collapsed": true
   },
   "outputs": [],
   "source": [
    "# SETUP STUFF\n",
    "OUTPUT_PATH = '/home/js7561/dev/milsed/models/resources/'\n",
    "train = imp.load_source('train', '/home/js7561/dev/milsed/models/02_train.py')\n",
    "pump = pickle.load(open('/home/js7561/dev/milsed/models/resources/pump.pkl', 'rb'))\n",
    "with open(os.path.join(OUTPUT_PATH, 'index_test.json'), 'r') as fp:\n",
    "    test_idx = json.load(fp)['id']\n",
    "pumpfolder = '/beegfs/js7561/datasets/dcase2017/task4_official/combined/features_silence/'\n",
    "labelfile = ('/beegfs/js7561/datasets/dcase2017/task4_official/combined/metadata/labels/'\n",
    "             '/groundtruth_strong_label_testing_set.csv')\n",
    "duration = 10.0"
   ]
  },
  {
   "cell_type": "code",
   "execution_count": 4,
   "metadata": {
    "collapsed": true
   },
   "outputs": [],
   "source": [
    "def recompute_results(version, use_orig_duration=False, save=False):\n",
    "    # Compute results\n",
    "    weight_path = os.path.join(OUTPUT_PATH, version, 'model.h5')\n",
    "    params = json.load(open(os.path.join(OUTPUT_PATH, version, 'params.json'), 'r'))\n",
    "    model, inputs, outputs = train.MODELS[params['modelname']](pump, alpha=1.0)\n",
    "    model.load_weights(weight_path)\n",
    "    results = milsed.eval.score_model(\n",
    "        OUTPUT_PATH, pump, model, test_idx, pumpfolder, labelfile, duration, version, \n",
    "        use_tqdm=True, use_orig_duration=use_orig_duration, save_jams=save)\n",
    "    \n",
    "    # Save them to disk\n",
    "    if save:\n",
    "        resultsfile = os.path.join(OUTPUT_PATH, version, 'results.json')\n",
    "        with open(resultsfile, 'w') as fp:\n",
    "            json.dump(results, fp)\n",
    "        \n",
    "    return results"
   ]
  },
  {
   "cell_type": "code",
   "execution_count": 8,
   "metadata": {
    "scrolled": true
   },
   "outputs": [
    {
     "name": "stdout",
     "output_type": "stream",
     "text": [
      "Recomputing results for model: 190cd92.0\n"
     ]
    },
    {
     "name": "stderr",
     "output_type": "stream",
     "text": [
      "Evaluating the model: 100%|██████████| 488/488 [00:47<00:00, 11.61it/s]\n",
      "/home/js7561/miniconda3/envs/py35milsed/lib/python3.5/site-packages/sklearn/metrics/classification.py:1113: UndefinedMetricWarning: F-score is ill-defined and being set to 0.0 in labels with no predicted samples.\n",
      "  'precision', 'predicted', average, warn_for)\n",
      "/home/js7561/miniconda3/envs/py35milsed/lib/python3.5/site-packages/sklearn/metrics/classification.py:1113: UndefinedMetricWarning: Precision is ill-defined and being set to 0.0 in labels with no predicted samples.\n",
      "  'precision', 'predicted', average, warn_for)\n",
      "/home/js7561/miniconda3/envs/py35milsed/lib/python3.5/site-packages/sklearn/metrics/classification.py:1113: UndefinedMetricWarning: F-score is ill-defined and being set to 0.0 in samples with no predicted labels.\n",
      "  'precision', 'predicted', average, warn_for)\n",
      "/home/js7561/miniconda3/envs/py35milsed/lib/python3.5/site-packages/sklearn/metrics/classification.py:1113: UndefinedMetricWarning: Precision is ill-defined and being set to 0.0 in samples with no predicted labels.\n",
      "  'precision', 'predicted', average, warn_for)\n"
     ]
    },
    {
     "name": "stdout",
     "output_type": "stream",
     "text": [
      "Recomputing results for model: 190cd92.1\n"
     ]
    },
    {
     "name": "stderr",
     "output_type": "stream",
     "text": [
      "Evaluating the model: 100%|██████████| 488/488 [00:36<00:00, 13.20it/s]\n"
     ]
    },
    {
     "name": "stdout",
     "output_type": "stream",
     "text": [
      "Recomputing results for model: 190cd92.2\n"
     ]
    },
    {
     "name": "stderr",
     "output_type": "stream",
     "text": [
      "Evaluating the model: 100%|██████████| 488/488 [00:49<00:00, 10.01it/s]\n"
     ]
    },
    {
     "name": "stdout",
     "output_type": "stream",
     "text": [
      "Recomputing results for model: 190cd92.3\n"
     ]
    },
    {
     "name": "stderr",
     "output_type": "stream",
     "text": [
      "Evaluating the model: 100%|██████████| 488/488 [00:42<00:00, 12.52it/s]\n"
     ]
    },
    {
     "name": "stdout",
     "output_type": "stream",
     "text": [
      "Recomputing results for model: 190cd92.4\n"
     ]
    },
    {
     "name": "stderr",
     "output_type": "stream",
     "text": [
      "Evaluating the model: 100%|██████████| 488/488 [00:22<00:00, 22.12it/s]\n"
     ]
    },
    {
     "name": "stdout",
     "output_type": "stream",
     "text": [
      "Recomputing results for model: 190cd92.5\n"
     ]
    },
    {
     "name": "stderr",
     "output_type": "stream",
     "text": [
      "Evaluating the model: 100%|██████████| 488/488 [01:05<00:00,  7.47it/s]\n"
     ]
    }
   ],
   "source": [
    "versions = ['190cd92.0', '190cd92.1', '190cd92.2', '190cd92.3', '190cd92.4', '190cd92.5']\n",
    "results = {}\n",
    "for version in versions:\n",
    "    print('Recomputing results for model: {}'.format(version))\n",
    "    results[version] = recompute_results(version, save=True)"
   ]
  },
  {
   "cell_type": "code",
   "execution_count": 14,
   "metadata": {},
   "outputs": [
    {
     "name": "stderr",
     "output_type": "stream",
     "text": [
      "Evaluating the model: 100%|██████████| 488/488 [01:00<00:00,  8.04it/s]\n",
      "/home/js7561/miniconda3/envs/py35milsed/lib/python3.5/site-packages/sklearn/metrics/classification.py:1113: UndefinedMetricWarning: F-score is ill-defined and being set to 0.0 in labels with no predicted samples.\n",
      "  'precision', 'predicted', average, warn_for)\n",
      "/home/js7561/miniconda3/envs/py35milsed/lib/python3.5/site-packages/sklearn/metrics/classification.py:1113: UndefinedMetricWarning: Precision is ill-defined and being set to 0.0 in labels with no predicted samples.\n",
      "  'precision', 'predicted', average, warn_for)\n",
      "/home/js7561/miniconda3/envs/py35milsed/lib/python3.5/site-packages/sklearn/metrics/classification.py:1113: UndefinedMetricWarning: F-score is ill-defined and being set to 0.0 in samples with no predicted labels.\n",
      "  'precision', 'predicted', average, warn_for)\n",
      "/home/js7561/miniconda3/envs/py35milsed/lib/python3.5/site-packages/sklearn/metrics/classification.py:1113: UndefinedMetricWarning: Precision is ill-defined and being set to 0.0 in samples with no predicted labels.\n",
      "  'precision', 'predicted', average, warn_for)\n"
     ]
    }
   ],
   "source": [
    "r = recompute_results('190cd92.5', save=False)"
   ]
  },
  {
   "cell_type": "code",
   "execution_count": 17,
   "metadata": {},
   "outputs": [
    {
     "data": {
      "text/html": [
       "<div>\n",
       "<style>\n",
       "    .dataframe thead tr:only-child th {\n",
       "        text-align: right;\n",
       "    }\n",
       "\n",
       "    .dataframe thead th {\n",
       "        text-align: left;\n",
       "    }\n",
       "\n",
       "    .dataframe tbody tr th {\n",
       "        vertical-align: top;\n",
       "    }\n",
       "</style>\n",
       "<table border=\"1\" class=\"dataframe\">\n",
       "  <thead>\n",
       "    <tr style=\"text-align: right;\">\n",
       "      <th></th>\n",
       "      <th>version</th>\n",
       "      <th>model</th>\n",
       "      <th>n_weights</th>\n",
       "      <th>w_f1</th>\n",
       "      <th>w_p</th>\n",
       "      <th>w_r</th>\n",
       "      <th>s_f1</th>\n",
       "      <th>s_p</th>\n",
       "      <th>s_r</th>\n",
       "      <th>s_e</th>\n",
       "    </tr>\n",
       "  </thead>\n",
       "  <tbody>\n",
       "    <tr>\n",
       "      <th>0</th>\n",
       "      <td>190cd92.0</td>\n",
       "      <td>crnn1d_smp</td>\n",
       "      <td>177237</td>\n",
       "      <td>0.232506</td>\n",
       "      <td>0.367857</td>\n",
       "      <td>0.169967</td>\n",
       "      <td>0.247321</td>\n",
       "      <td>0.208288</td>\n",
       "      <td>0.304358</td>\n",
       "      <td>1.34794</td>\n",
       "    </tr>\n",
       "    <tr>\n",
       "      <th>1</th>\n",
       "      <td>190cd92.5</td>\n",
       "      <td>cnn1d_avg</td>\n",
       "      <td>25749</td>\n",
       "      <td>0.153459</td>\n",
       "      <td>0.322751</td>\n",
       "      <td>0.10066</td>\n",
       "      <td>0.186791</td>\n",
       "      <td>0.119865</td>\n",
       "      <td>0.422936</td>\n",
       "      <td>3.15298</td>\n",
       "    </tr>\n",
       "  </tbody>\n",
       "</table>\n",
       "</div>"
      ],
      "text/plain": [
       "     version       model n_weights      w_f1       w_p       w_r      s_f1  \\\n",
       "0  190cd92.0  crnn1d_smp    177237  0.232506  0.367857  0.169967  0.247321   \n",
       "1  190cd92.5   cnn1d_avg     25749  0.153459  0.322751   0.10066  0.186791   \n",
       "\n",
       "        s_p       s_r      s_e  \n",
       "0  0.208288  0.304358  1.34794  \n",
       "1  0.119865  0.422936  3.15298  "
      ]
     },
     "execution_count": 17,
     "metadata": {},
     "output_type": "execute_result"
    }
   ],
   "source": [
    "milsed.eval.compare_results(OUTPUT_PATH, ['190cd92.5', '190cd92.0'])"
   ]
  },
  {
   "cell_type": "code",
   "execution_count": 8,
   "metadata": {
    "scrolled": true
   },
   "outputs": [
    {
     "name": "stderr",
     "output_type": "stream",
     "text": [
      "\n",
      "Evaluating the model:   0%|          | 0/488 [00:00<?, ?it/s]\u001b[A\n",
      "Evaluating the model:   0%|          | 1/488 [00:00<03:00,  2.69it/s]\u001b[A\n",
      "Evaluating the model:   0%|          | 2/488 [00:00<02:40,  3.03it/s]\u001b[A\n",
      "Evaluating the model:   1%|          | 3/488 [00:00<02:26,  3.31it/s]\u001b[A\n",
      "Evaluating the model:   1%|          | 4/488 [00:01<02:14,  3.61it/s]\u001b[A\n",
      "Evaluating the model:   1%|          | 5/488 [00:01<02:05,  3.83it/s]\u001b[A\n",
      "Evaluating the model:   1%|          | 6/488 [00:01<02:03,  3.92it/s]\u001b[A\n",
      "Evaluating the model:   1%|▏         | 7/488 [00:01<01:58,  4.04it/s]\u001b[A\n",
      "Evaluating the model:   2%|▏         | 8/488 [00:02<01:59,  4.03it/s]\u001b[A\n",
      "Evaluating the model:   2%|▏         | 9/488 [00:02<02:00,  3.98it/s]\u001b[A\n",
      "Evaluating the model:   2%|▏         | 10/488 [00:02<01:57,  4.05it/s]\u001b[A\n",
      "Evaluating the model:   2%|▏         | 11/488 [00:02<01:50,  4.30it/s]\u001b[A\n",
      "Evaluating the model:   2%|▏         | 12/488 [00:02<01:48,  4.39it/s]\u001b[A\n",
      "Evaluating the model:   3%|▎         | 13/488 [00:03<01:52,  4.22it/s]\u001b[A\n",
      "Evaluating the model:   3%|▎         | 14/488 [00:03<01:53,  4.19it/s]\u001b[A\n",
      "Evaluating the model:   3%|▎         | 15/488 [00:03<01:55,  4.08it/s]\u001b[A\n",
      "Evaluating the model:   3%|▎         | 16/488 [00:03<01:54,  4.14it/s]\u001b[A\n",
      "Evaluating the model:   3%|▎         | 17/488 [00:04<01:56,  4.05it/s]\u001b[A\n",
      "Evaluating the model:   4%|▎         | 18/488 [00:04<01:59,  3.93it/s]\u001b[A\n",
      "Evaluating the model:   4%|▍         | 19/488 [00:04<01:57,  4.00it/s]\u001b[A\n",
      "Evaluating the model:   4%|▍         | 20/488 [00:04<01:56,  4.03it/s]\u001b[A\n",
      "Evaluating the model:   4%|▍         | 21/488 [00:05<01:59,  3.92it/s]\u001b[A\n",
      "Evaluating the model:   5%|▍         | 22/488 [00:05<01:59,  3.91it/s]\u001b[A\n",
      "Evaluating the model:   5%|▍         | 23/488 [00:05<01:53,  4.11it/s]\u001b[A\n",
      "Evaluating the model:   5%|▍         | 24/488 [00:05<01:58,  3.92it/s]\u001b[A\n",
      "Evaluating the model:   5%|▌         | 25/488 [00:06<01:55,  4.00it/s]\u001b[A\n",
      "Evaluating the model:   5%|▌         | 26/488 [00:06<01:54,  4.04it/s]\u001b[A\n",
      "Evaluating the model:   6%|▌         | 27/488 [00:06<01:49,  4.22it/s]\u001b[A\n",
      "Evaluating the model:   6%|▌         | 28/488 [00:06<01:44,  4.41it/s]\u001b[A\n",
      "Evaluating the model:   6%|▌         | 29/488 [00:07<01:41,  4.53it/s]\u001b[A\n",
      "Evaluating the model:   6%|▌         | 30/488 [00:07<01:47,  4.28it/s]\u001b[A\n",
      "Evaluating the model:   6%|▋         | 31/488 [00:07<01:47,  4.24it/s]\u001b[A\n",
      "Evaluating the model:   7%|▋         | 32/488 [00:07<01:44,  4.35it/s]\u001b[A\n",
      "Evaluating the model:   7%|▋         | 33/488 [00:08<01:51,  4.09it/s]\u001b[A\n",
      "Evaluating the model:   7%|▋         | 34/488 [00:08<01:45,  4.32it/s]\u001b[A\n",
      "Evaluating the model:   7%|▋         | 35/488 [00:08<01:54,  3.96it/s]\u001b[A\n",
      "Evaluating the model:   7%|▋         | 36/488 [00:08<01:52,  4.01it/s]\u001b[A\n",
      "Evaluating the model:   8%|▊         | 37/488 [00:09<01:53,  3.97it/s]\u001b[A\n",
      "Evaluating the model:   8%|▊         | 38/488 [00:09<01:53,  3.96it/s]\u001b[A\n",
      "Evaluating the model:   8%|▊         | 39/488 [00:09<01:51,  4.03it/s]\u001b[A\n",
      "Evaluating the model:   8%|▊         | 40/488 [00:09<01:43,  4.31it/s]\u001b[A\n",
      "Evaluating the model:   8%|▊         | 41/488 [00:09<01:43,  4.34it/s]\u001b[A\n",
      "Evaluating the model:   9%|▊         | 42/488 [00:10<01:45,  4.23it/s]\u001b[A\n",
      "Evaluating the model:   9%|▉         | 43/488 [00:10<01:48,  4.10it/s]\u001b[A\n",
      "Evaluating the model:   9%|▉         | 44/488 [00:10<01:47,  4.13it/s]\u001b[A\n",
      "Evaluating the model:   9%|▉         | 45/488 [00:10<01:41,  4.37it/s]\u001b[A\n",
      "Evaluating the model:   9%|▉         | 46/488 [00:11<01:41,  4.36it/s]\u001b[A\n",
      "Evaluating the model:  10%|▉         | 47/488 [00:11<01:44,  4.24it/s]\u001b[A\n",
      "Evaluating the model:  10%|▉         | 48/488 [00:11<01:43,  4.27it/s]\u001b[A\n",
      "Evaluating the model:  10%|█         | 49/488 [00:11<01:38,  4.47it/s]\u001b[A\n",
      "Evaluating the model:  10%|█         | 50/488 [00:12<01:38,  4.45it/s]\u001b[A\n",
      "Evaluating the model:  10%|█         | 51/488 [00:12<01:39,  4.39it/s]\u001b[A\n",
      "Evaluating the model:  11%|█         | 52/488 [00:12<01:39,  4.40it/s]\u001b[A\n",
      "Evaluating the model:  11%|█         | 53/488 [00:12<01:40,  4.31it/s]\u001b[A\n",
      "Evaluating the model:  11%|█         | 54/488 [00:12<01:38,  4.42it/s]\u001b[A\n",
      "Evaluating the model:  11%|█▏        | 55/488 [00:13<01:36,  4.47it/s]\u001b[A\n",
      "Evaluating the model:  11%|█▏        | 56/488 [00:13<01:42,  4.22it/s]\u001b[A\n",
      "Evaluating the model:  12%|█▏        | 57/488 [00:13<01:48,  3.98it/s]\u001b[A\n",
      "Evaluating the model:  12%|█▏        | 58/488 [00:14<01:49,  3.94it/s]\u001b[A\n",
      "Evaluating the model:  12%|█▏        | 59/488 [00:14<01:53,  3.78it/s]\u001b[A\n",
      "Evaluating the model:  12%|█▏        | 60/488 [00:14<01:50,  3.86it/s]\u001b[A\n",
      "Evaluating the model:  12%|█▎        | 61/488 [00:14<01:49,  3.89it/s]\u001b[A\n",
      "Evaluating the model:  13%|█▎        | 62/488 [00:15<01:52,  3.79it/s]\u001b[A\n",
      "Evaluating the model:  13%|█▎        | 63/488 [00:15<01:49,  3.90it/s]\u001b[A\n",
      "Evaluating the model:  13%|█▎        | 64/488 [00:15<01:47,  3.94it/s]\u001b[A\n",
      "Evaluating the model:  13%|█▎        | 65/488 [00:15<01:45,  4.01it/s]\u001b[A\n",
      "Evaluating the model:  14%|█▎        | 66/488 [00:16<01:47,  3.93it/s]\u001b[A\n",
      "Evaluating the model:  14%|█▎        | 67/488 [00:16<01:49,  3.84it/s]\u001b[A\n",
      "Evaluating the model:  14%|█▍        | 68/488 [00:16<01:44,  4.00it/s]\u001b[A\n",
      "Evaluating the model:  14%|█▍        | 69/488 [00:16<01:44,  4.02it/s]\u001b[A\n",
      "Evaluating the model:  14%|█▍        | 70/488 [00:17<01:44,  4.01it/s]\u001b[A\n",
      "Evaluating the model:  15%|█▍        | 71/488 [00:17<01:42,  4.07it/s]\u001b[A\n",
      "Evaluating the model:  15%|█▍        | 72/488 [00:17<01:42,  4.04it/s]\u001b[A\n",
      "Evaluating the model:  15%|█▍        | 73/488 [00:17<01:35,  4.36it/s]\u001b[A\n",
      "Evaluating the model:  15%|█▌        | 74/488 [00:17<01:35,  4.32it/s]\u001b[A\n",
      "Evaluating the model:  15%|█▌        | 75/488 [00:18<01:36,  4.28it/s]\u001b[A\n",
      "Evaluating the model:  16%|█▌        | 76/488 [00:18<01:36,  4.28it/s]\u001b[A\n",
      "Evaluating the model:  16%|█▌        | 77/488 [00:18<01:36,  4.24it/s]\u001b[A\n",
      "Evaluating the model:  16%|█▌        | 78/488 [00:18<01:39,  4.13it/s]\u001b[A\n",
      "Evaluating the model:  16%|█▌        | 79/488 [00:19<01:41,  4.02it/s]\u001b[A\n",
      "Evaluating the model:  16%|█▋        | 80/488 [00:19<01:38,  4.14it/s]\u001b[A\n",
      "Evaluating the model:  17%|█▋        | 81/488 [00:19<01:37,  4.18it/s]\u001b[A\n",
      "Evaluating the model:  17%|█▋        | 82/488 [00:19<01:39,  4.10it/s]\u001b[A\n",
      "Evaluating the model:  17%|█▋        | 83/488 [00:20<01:37,  4.17it/s]\u001b[A\n",
      "Evaluating the model:  17%|█▋        | 84/488 [00:20<01:37,  4.12it/s]\u001b[A\n",
      "Evaluating the model:  17%|█▋        | 85/488 [00:20<01:35,  4.24it/s]\u001b[A\n",
      "Evaluating the model:  18%|█▊        | 86/488 [00:20<01:35,  4.22it/s]\u001b[A\n",
      "Evaluating the model:  18%|█▊        | 87/488 [00:21<01:32,  4.32it/s]\u001b[A\n",
      "Evaluating the model:  18%|█▊        | 88/488 [00:21<01:32,  4.32it/s]\u001b[A\n",
      "Evaluating the model:  18%|█▊        | 89/488 [00:21<01:29,  4.44it/s]\u001b[A\n",
      "Evaluating the model:  18%|█▊        | 90/488 [00:21<01:31,  4.34it/s]\u001b[A\n",
      "Evaluating the model:  19%|█▊        | 91/488 [00:22<01:35,  4.16it/s]\u001b[A\n",
      "Evaluating the model:  19%|█▉        | 92/488 [00:22<01:32,  4.29it/s]\u001b[A\n",
      "Evaluating the model:  19%|█▉        | 93/488 [00:22<02:18,  2.85it/s]\u001b[A\n",
      "Evaluating the model:  19%|█▉        | 94/488 [00:23<02:47,  2.35it/s]\u001b[A\n",
      "Evaluating the model:  19%|█▉        | 95/488 [00:23<02:35,  2.53it/s]\u001b[A\n",
      "Evaluating the model:  20%|█▉        | 96/488 [00:24<02:22,  2.75it/s]\u001b[A\n",
      "Evaluating the model:  20%|█▉        | 97/488 [00:24<02:17,  2.84it/s]\u001b[A\n",
      "Evaluating the model:  20%|██        | 98/488 [00:25<03:30,  1.85it/s]\u001b[A\n",
      "Evaluating the model:  20%|██        | 99/488 [00:25<03:08,  2.07it/s]\u001b[A\n",
      "Evaluating the model:  20%|██        | 100/488 [00:26<02:51,  2.26it/s]\u001b[A\n",
      "Evaluating the model:  21%|██        | 101/488 [00:27<03:49,  1.68it/s]\u001b[A\n",
      "Evaluating the model:  21%|██        | 102/488 [00:27<03:20,  1.92it/s]\u001b[A\n",
      "Evaluating the model:  21%|██        | 103/488 [00:27<03:01,  2.12it/s]\u001b[A\n",
      "Evaluating the model:  21%|██▏       | 104/488 [00:27<02:35,  2.47it/s]\u001b[A\n",
      "Evaluating the model:  22%|██▏       | 105/488 [00:28<02:21,  2.72it/s]\u001b[A\n",
      "Evaluating the model:  22%|██▏       | 106/488 [00:28<02:14,  2.84it/s]\u001b[A\n",
      "Evaluating the model:  22%|██▏       | 107/488 [00:28<02:07,  3.00it/s]\u001b[A\n",
      "Evaluating the model:  22%|██▏       | 108/488 [00:29<03:19,  1.90it/s]\u001b[A\n",
      "Evaluating the model:  22%|██▏       | 109/488 [00:30<03:01,  2.09it/s]\u001b[A\n",
      "Evaluating the model:  23%|██▎       | 110/488 [00:30<02:48,  2.24it/s]\u001b[A\n",
      "Evaluating the model:  23%|██▎       | 111/488 [00:30<02:28,  2.55it/s]\u001b[A\n",
      "Evaluating the model:  23%|██▎       | 112/488 [00:31<02:15,  2.77it/s]\u001b[A\n",
      "Evaluating the model:  23%|██▎       | 113/488 [00:31<02:03,  3.03it/s]\u001b[A\n",
      "Evaluating the model:  23%|██▎       | 114/488 [00:31<01:52,  3.32it/s]\u001b[A\n",
      "Evaluating the model:  24%|██▎       | 115/488 [00:31<01:43,  3.62it/s]\u001b[A\n",
      "Evaluating the model:  24%|██▍       | 116/488 [00:32<01:37,  3.83it/s]\u001b[A\n",
      "Evaluating the model:  24%|██▍       | 117/488 [00:32<01:32,  4.00it/s]\u001b[A\n",
      "Evaluating the model:  24%|██▍       | 118/488 [00:32<01:33,  3.96it/s]\u001b[A\n",
      "Evaluating the model:  24%|██▍       | 119/488 [00:32<01:32,  3.98it/s]\u001b[A\n",
      "Evaluating the model:  25%|██▍       | 120/488 [00:33<01:34,  3.91it/s]\u001b[A\n",
      "Evaluating the model:  25%|██▍       | 121/488 [00:33<01:34,  3.87it/s]\u001b[A\n",
      "Evaluating the model:  25%|██▌       | 122/488 [00:33<01:32,  3.95it/s]\u001b[A\n",
      "Evaluating the model:  25%|██▌       | 123/488 [00:33<01:30,  4.05it/s]\u001b[A\n",
      "Evaluating the model:  25%|██▌       | 124/488 [00:34<01:34,  3.87it/s]\u001b[A\n",
      "Evaluating the model:  26%|██▌       | 125/488 [00:34<01:34,  3.84it/s]\u001b[A\n",
      "Evaluating the model:  26%|██▌       | 126/488 [00:34<01:29,  4.03it/s]\u001b[A\n",
      "Evaluating the model:  26%|██▌       | 127/488 [00:34<01:30,  4.00it/s]\u001b[A\n",
      "Evaluating the model:  26%|██▌       | 128/488 [00:35<01:29,  4.00it/s]\u001b[A\n",
      "Evaluating the model:  26%|██▋       | 129/488 [00:35<01:28,  4.06it/s]\u001b[A\n",
      "Evaluating the model:  27%|██▋       | 130/488 [00:35<01:24,  4.21it/s]\u001b[A\n",
      "Evaluating the model:  27%|██▋       | 131/488 [00:35<01:25,  4.16it/s]\u001b[A\n",
      "Evaluating the model:  27%|██▋       | 132/488 [00:36<01:24,  4.23it/s]\u001b[A\n",
      "Evaluating the model:  27%|██▋       | 133/488 [00:36<01:35,  3.73it/s]\u001b[A\n",
      "Evaluating the model:  27%|██▋       | 134/488 [00:36<01:34,  3.75it/s]\u001b[A\n",
      "Evaluating the model:  28%|██▊       | 135/488 [00:36<01:31,  3.85it/s]\u001b[A\n",
      "Evaluating the model:  28%|██▊       | 136/488 [00:37<01:30,  3.90it/s]\u001b[A\n",
      "Evaluating the model:  28%|██▊       | 137/488 [00:37<01:29,  3.90it/s]\u001b[A\n",
      "Evaluating the model:  28%|██▊       | 138/488 [00:37<01:28,  3.94it/s]\u001b[A\n",
      "Evaluating the model:  28%|██▊       | 139/488 [00:37<01:26,  4.05it/s]\u001b[A\n",
      "Evaluating the model:  29%|██▊       | 140/488 [00:38<01:27,  3.97it/s]\u001b[A\n",
      "Evaluating the model:  29%|██▉       | 141/488 [00:38<01:23,  4.14it/s]\u001b[A\n",
      "Evaluating the model:  29%|██▉       | 142/488 [00:38<01:22,  4.19it/s]\u001b[A\n",
      "Evaluating the model:  29%|██▉       | 143/488 [00:38<01:34,  3.63it/s]\u001b[A\n",
      "Evaluating the model:  30%|██▉       | 144/488 [00:39<01:31,  3.78it/s]\u001b[A\n",
      "Evaluating the model:  30%|██▉       | 145/488 [00:39<01:24,  4.06it/s]\u001b[A\n",
      "Evaluating the model:  30%|██▉       | 146/488 [00:39<01:25,  4.01it/s]\u001b[A\n",
      "Evaluating the model:  30%|███       | 147/488 [00:39<01:26,  3.95it/s]\u001b[A\n",
      "Evaluating the model:  30%|███       | 148/488 [00:40<01:24,  4.04it/s]\u001b[A\n",
      "Evaluating the model:  31%|███       | 149/488 [00:40<01:21,  4.14it/s]\u001b[A\n",
      "Evaluating the model:  31%|███       | 150/488 [00:40<02:00,  2.80it/s]\u001b[A\n",
      "Evaluating the model:  31%|███       | 151/488 [00:41<02:33,  2.19it/s]\u001b[A\n",
      "Evaluating the model:  31%|███       | 152/488 [00:41<02:20,  2.40it/s]\u001b[A\n",
      "Evaluating the model:  31%|███▏      | 153/488 [00:42<02:46,  2.02it/s]\u001b[A\n",
      "Evaluating the model:  32%|███▏      | 154/488 [00:43<03:02,  1.83it/s]\u001b[A\n",
      "Evaluating the model:  32%|███▏      | 155/488 [00:43<02:38,  2.10it/s]\u001b[A\n",
      "Evaluating the model:  32%|███▏      | 156/488 [00:43<02:20,  2.36it/s]\u001b[A\n",
      "Evaluating the model:  32%|███▏      | 157/488 [00:44<03:14,  1.70it/s]\u001b[A\n",
      "Evaluating the model:  32%|███▏      | 158/488 [00:45<02:58,  1.85it/s]\u001b[A\n",
      "Evaluating the model:  33%|███▎      | 159/488 [00:45<02:39,  2.06it/s]\u001b[A\n",
      "Evaluating the model:  33%|███▎      | 160/488 [00:45<02:18,  2.37it/s]\u001b[A\n",
      "Evaluating the model:  33%|███▎      | 161/488 [00:46<02:07,  2.56it/s]\u001b[A\n",
      "Evaluating the model:  33%|███▎      | 162/488 [00:46<01:59,  2.73it/s]\u001b[A\n",
      "Evaluating the model:  33%|███▎      | 163/488 [00:46<01:51,  2.92it/s]\u001b[A\n",
      "Evaluating the model:  34%|███▎      | 164/488 [00:47<02:52,  1.88it/s]\u001b[A\n",
      "Evaluating the model:  34%|███▍      | 165/488 [00:48<02:36,  2.06it/s]\u001b[A\n",
      "Evaluating the model:  34%|███▍      | 166/488 [00:48<02:22,  2.26it/s]\u001b[A\n",
      "Evaluating the model:  34%|███▍      | 167/488 [00:48<02:10,  2.45it/s]\u001b[A\n",
      "Evaluating the model:  34%|███▍      | 168/488 [00:49<01:58,  2.71it/s]\u001b[A\n",
      "Evaluating the model:  35%|███▍      | 169/488 [00:49<02:26,  2.17it/s]\u001b[A\n",
      "Evaluating the model:  35%|███▍      | 170/488 [00:50<02:45,  1.92it/s]\u001b[A\n",
      "Evaluating the model:  35%|███▌      | 171/488 [00:50<02:34,  2.05it/s]\u001b[A\n",
      "Evaluating the model:  35%|███▌      | 172/488 [00:51<02:22,  2.22it/s]\u001b[A\n",
      "Evaluating the model:  35%|███▌      | 173/488 [00:51<02:04,  2.53it/s]\u001b[A\n",
      "Evaluating the model:  36%|███▌      | 174/488 [00:51<01:47,  2.91it/s]\u001b[A\n",
      "Evaluating the model:  36%|███▌      | 175/488 [00:52<01:39,  3.15it/s]\u001b[A\n",
      "Evaluating the model:  36%|███▌      | 176/488 [00:52<01:31,  3.41it/s]\u001b[A\n",
      "Evaluating the model:  36%|███▋      | 177/488 [00:52<01:25,  3.65it/s]\u001b[A\n",
      "Evaluating the model:  36%|███▋      | 178/488 [00:52<01:16,  4.08it/s]\u001b[A\n",
      "Evaluating the model:  37%|███▋      | 179/488 [00:52<01:15,  4.11it/s]\u001b[A\n",
      "Evaluating the model:  37%|███▋      | 180/488 [00:53<01:14,  4.13it/s]\u001b[A\n",
      "Evaluating the model:  37%|███▋      | 181/488 [00:53<01:12,  4.21it/s]\u001b[A\n",
      "Evaluating the model:  37%|███▋      | 182/488 [00:53<01:11,  4.26it/s]\u001b[A\n",
      "Evaluating the model:  38%|███▊      | 183/488 [00:53<01:12,  4.20it/s]\u001b[A\n",
      "Evaluating the model:  38%|███▊      | 184/488 [00:54<01:13,  4.16it/s]\u001b[A\n",
      "Evaluating the model:  38%|███▊      | 185/488 [00:54<01:13,  4.14it/s]\u001b[A\n",
      "Evaluating the model:  38%|███▊      | 186/488 [00:54<01:19,  3.79it/s]\u001b[A\n",
      "Evaluating the model:  38%|███▊      | 187/488 [00:54<01:19,  3.79it/s]\u001b[A\n",
      "Evaluating the model:  39%|███▊      | 188/488 [00:55<01:15,  3.95it/s]\u001b[A\n",
      "Evaluating the model:  39%|███▊      | 189/488 [00:55<01:16,  3.91it/s]\u001b[A\n",
      "Evaluating the model:  39%|███▉      | 190/488 [00:55<01:11,  4.18it/s]\u001b[A\n",
      "Evaluating the model:  39%|███▉      | 191/488 [00:55<01:09,  4.26it/s]\u001b[A\n",
      "Evaluating the model:  39%|███▉      | 192/488 [00:56<01:07,  4.36it/s]\u001b[A\n",
      "Evaluating the model:  40%|███▉      | 193/488 [00:56<01:05,  4.54it/s]\u001b[A\n",
      "Evaluating the model:  40%|███▉      | 194/488 [00:56<01:07,  4.36it/s]\u001b[A\n",
      "Evaluating the model:  40%|███▉      | 195/488 [00:56<01:09,  4.25it/s]\u001b[A\n",
      "Evaluating the model:  40%|████      | 196/488 [00:57<01:09,  4.22it/s]\u001b[A\n",
      "Evaluating the model:  40%|████      | 197/488 [00:57<01:09,  4.18it/s]\u001b[A\n",
      "Evaluating the model:  41%|████      | 198/488 [00:57<01:07,  4.30it/s]\u001b[A\n",
      "Evaluating the model:  41%|████      | 199/488 [00:57<01:05,  4.39it/s]\u001b[A\n",
      "Evaluating the model:  41%|████      | 200/488 [00:57<01:06,  4.36it/s]\u001b[A\n",
      "Evaluating the model:  41%|████      | 201/488 [00:58<01:07,  4.26it/s]\u001b[A\n",
      "Evaluating the model:  41%|████▏     | 202/488 [00:58<01:08,  4.15it/s]\u001b[A\n",
      "Evaluating the model:  42%|████▏     | 203/488 [00:58<01:06,  4.32it/s]\u001b[A\n",
      "Evaluating the model:  42%|████▏     | 204/488 [00:58<01:05,  4.34it/s]\u001b[A\n",
      "Evaluating the model:  42%|████▏     | 205/488 [00:59<01:05,  4.34it/s]\u001b[A\n",
      "Evaluating the model:  42%|████▏     | 206/488 [00:59<01:03,  4.44it/s]\u001b[A\n",
      "Evaluating the model:  42%|████▏     | 207/488 [00:59<01:00,  4.61it/s]\u001b[A\n",
      "Evaluating the model:  43%|████▎     | 208/488 [00:59<01:00,  4.60it/s]\u001b[A\n",
      "Evaluating the model:  43%|████▎     | 209/488 [00:59<01:03,  4.43it/s]\u001b[A\n",
      "Evaluating the model:  43%|████▎     | 210/488 [01:00<01:06,  4.17it/s]\u001b[A\n",
      "Evaluating the model:  43%|████▎     | 211/488 [01:00<01:07,  4.09it/s]\u001b[A\n",
      "Evaluating the model:  43%|████▎     | 212/488 [01:00<01:01,  4.45it/s]\u001b[A\n",
      "Evaluating the model:  44%|████▎     | 213/488 [01:00<01:01,  4.45it/s]\u001b[A\n",
      "Evaluating the model:  44%|████▍     | 214/488 [01:01<01:06,  4.10it/s]\u001b[A\n",
      "Evaluating the model:  44%|████▍     | 215/488 [01:01<01:06,  4.13it/s]\u001b[A\n",
      "Evaluating the model:  44%|████▍     | 216/488 [01:01<01:03,  4.28it/s]\u001b[A\n",
      "Evaluating the model:  44%|████▍     | 217/488 [01:01<01:01,  4.43it/s]\u001b[A\n",
      "Evaluating the model:  45%|████▍     | 218/488 [01:02<01:06,  4.08it/s]\u001b[A\n"
     ]
    },
    {
     "name": "stderr",
     "output_type": "stream",
     "text": [
      "Evaluating the model:  45%|████▍     | 219/488 [01:02<01:05,  4.08it/s]\u001b[A\n",
      "Evaluating the model:  45%|████▌     | 220/488 [01:02<01:07,  3.95it/s]\u001b[A\n",
      "Evaluating the model:  45%|████▌     | 221/488 [01:02<01:10,  3.80it/s]\u001b[A\n",
      "Evaluating the model:  45%|████▌     | 222/488 [01:03<01:09,  3.83it/s]\u001b[A\n",
      "Evaluating the model:  46%|████▌     | 223/488 [01:03<01:03,  4.14it/s]\u001b[A\n",
      "Evaluating the model:  46%|████▌     | 224/488 [01:03<01:05,  4.01it/s]\u001b[A\n",
      "Evaluating the model:  46%|████▌     | 225/488 [01:03<01:03,  4.12it/s]\u001b[A\n",
      "Evaluating the model:  46%|████▋     | 226/488 [01:04<01:04,  4.03it/s]\u001b[A\n",
      "Evaluating the model:  47%|████▋     | 227/488 [01:04<01:05,  4.01it/s]\u001b[A\n",
      "Evaluating the model:  47%|████▋     | 228/488 [01:04<01:06,  3.94it/s]\u001b[A\n",
      "Evaluating the model:  47%|████▋     | 229/488 [01:04<01:04,  4.03it/s]\u001b[A\n",
      "Evaluating the model:  47%|████▋     | 230/488 [01:05<01:01,  4.19it/s]\u001b[A\n",
      "Evaluating the model:  47%|████▋     | 231/488 [01:05<00:59,  4.33it/s]\u001b[A\n",
      "Evaluating the model:  48%|████▊     | 232/488 [01:05<01:00,  4.26it/s]\u001b[A\n",
      "Evaluating the model:  48%|████▊     | 233/488 [01:05<00:58,  4.34it/s]\u001b[A\n",
      "Evaluating the model:  48%|████▊     | 234/488 [01:06<00:57,  4.41it/s]\u001b[A\n",
      "Evaluating the model:  48%|████▊     | 235/488 [01:06<01:01,  4.15it/s]\u001b[A\n",
      "Evaluating the model:  48%|████▊     | 236/488 [01:06<01:06,  3.79it/s]\u001b[A\n",
      "Evaluating the model:  49%|████▊     | 237/488 [01:06<01:04,  3.90it/s]\u001b[A\n",
      "Evaluating the model:  49%|████▉     | 238/488 [01:07<01:05,  3.82it/s]\u001b[A\n",
      "Evaluating the model:  49%|████▉     | 239/488 [01:07<01:02,  4.00it/s]\u001b[A\n",
      "Evaluating the model:  49%|████▉     | 240/488 [01:07<01:02,  4.00it/s]\u001b[A\n",
      "Evaluating the model:  49%|████▉     | 241/488 [01:07<01:04,  3.84it/s]\u001b[A\n",
      "Evaluating the model:  50%|████▉     | 242/488 [01:08<01:02,  3.91it/s]\u001b[A\n",
      "Evaluating the model:  50%|████▉     | 243/488 [01:08<01:02,  3.90it/s]\u001b[A\n",
      "Evaluating the model:  50%|█████     | 244/488 [01:08<00:58,  4.17it/s]\u001b[A\n",
      "Evaluating the model:  50%|█████     | 245/488 [01:08<00:54,  4.45it/s]\u001b[A\n",
      "Evaluating the model:  50%|█████     | 246/488 [01:09<00:55,  4.36it/s]\u001b[A\n",
      "Evaluating the model:  51%|█████     | 247/488 [01:09<00:54,  4.41it/s]\u001b[A\n",
      "Evaluating the model:  51%|█████     | 248/488 [01:09<00:52,  4.61it/s]\u001b[A\n",
      "Evaluating the model:  51%|█████     | 249/488 [01:09<00:52,  4.59it/s]\u001b[A\n",
      "Evaluating the model:  51%|█████     | 250/488 [01:09<00:53,  4.46it/s]\u001b[A\n",
      "Evaluating the model:  51%|█████▏    | 251/488 [01:10<00:55,  4.28it/s]\u001b[A\n",
      "Evaluating the model:  52%|█████▏    | 252/488 [01:10<00:55,  4.25it/s]\u001b[A\n",
      "Evaluating the model:  52%|█████▏    | 253/488 [01:10<00:56,  4.17it/s]\u001b[A\n",
      "Evaluating the model:  52%|█████▏    | 254/488 [01:10<00:55,  4.19it/s]\u001b[A\n",
      "Evaluating the model:  52%|█████▏    | 255/488 [01:11<00:56,  4.09it/s]\u001b[A\n",
      "Evaluating the model:  52%|█████▏    | 256/488 [01:11<00:58,  3.95it/s]\u001b[A\n",
      "Evaluating the model:  53%|█████▎    | 257/488 [01:11<00:54,  4.22it/s]\u001b[A\n",
      "Evaluating the model:  53%|█████▎    | 258/488 [01:11<00:54,  4.19it/s]\u001b[A\n",
      "Evaluating the model:  53%|█████▎    | 259/488 [01:12<00:55,  4.12it/s]\u001b[A\n",
      "Evaluating the model:  53%|█████▎    | 260/488 [01:12<00:56,  4.03it/s]\u001b[A\n",
      "Evaluating the model:  53%|█████▎    | 261/488 [01:12<00:55,  4.08it/s]\u001b[A\n",
      "Evaluating the model:  54%|█████▎    | 262/488 [01:12<00:53,  4.19it/s]\u001b[A\n",
      "Evaluating the model:  54%|█████▍    | 263/488 [01:13<00:51,  4.39it/s]\u001b[A\n",
      "Evaluating the model:  54%|█████▍    | 264/488 [01:13<00:53,  4.18it/s]\u001b[A\n",
      "Evaluating the model:  54%|█████▍    | 265/488 [01:13<00:54,  4.11it/s]\u001b[A\n",
      "Evaluating the model:  55%|█████▍    | 266/488 [01:13<00:56,  3.92it/s]\u001b[A\n",
      "Evaluating the model:  55%|█████▍    | 267/488 [01:14<00:55,  3.98it/s]\u001b[A\n",
      "Evaluating the model:  55%|█████▍    | 268/488 [01:14<00:53,  4.12it/s]\u001b[A\n",
      "Evaluating the model:  55%|█████▌    | 269/488 [01:14<00:49,  4.44it/s]\u001b[A\n",
      "Evaluating the model:  55%|█████▌    | 270/488 [01:14<00:48,  4.45it/s]\u001b[A\n",
      "Evaluating the model:  56%|█████▌    | 271/488 [01:14<00:49,  4.40it/s]\u001b[A\n",
      "Evaluating the model:  56%|█████▌    | 272/488 [01:15<00:47,  4.54it/s]\u001b[A\n",
      "Evaluating the model:  56%|█████▌    | 273/488 [01:15<00:50,  4.24it/s]\u001b[A\n",
      "Evaluating the model:  56%|█████▌    | 274/488 [01:15<00:50,  4.28it/s]\u001b[A\n",
      "Evaluating the model:  56%|█████▋    | 275/488 [01:15<00:48,  4.37it/s]\u001b[A\n",
      "Evaluating the model:  57%|█████▋    | 276/488 [01:16<00:52,  4.06it/s]\u001b[A\n",
      "Evaluating the model:  57%|█████▋    | 277/488 [01:16<00:51,  4.06it/s]\u001b[A\n",
      "Evaluating the model:  57%|█████▋    | 278/488 [01:16<00:50,  4.12it/s]\u001b[A\n",
      "Evaluating the model:  57%|█████▋    | 279/488 [01:16<00:49,  4.19it/s]\u001b[A\n",
      "Evaluating the model:  57%|█████▋    | 280/488 [01:17<00:53,  3.89it/s]\u001b[A\n",
      "Evaluating the model:  58%|█████▊    | 281/488 [01:17<00:52,  3.96it/s]\u001b[A\n",
      "Evaluating the model:  58%|█████▊    | 282/488 [01:17<00:52,  3.93it/s]\u001b[A\n",
      "Evaluating the model:  58%|█████▊    | 283/488 [01:17<00:50,  4.05it/s]\u001b[A\n",
      "Evaluating the model:  58%|█████▊    | 284/488 [01:18<00:49,  4.15it/s]\u001b[A\n",
      "Evaluating the model:  58%|█████▊    | 285/488 [01:18<00:47,  4.31it/s]\u001b[A\n",
      "Evaluating the model:  59%|█████▊    | 286/488 [01:18<00:45,  4.47it/s]\u001b[A\n",
      "Evaluating the model:  59%|█████▉    | 287/488 [01:18<00:43,  4.60it/s]\u001b[A\n",
      "Evaluating the model:  59%|█████▉    | 288/488 [01:18<00:45,  4.39it/s]\u001b[A\n",
      "Evaluating the model:  59%|█████▉    | 289/488 [01:19<00:45,  4.34it/s]\u001b[A\n",
      "Evaluating the model:  59%|█████▉    | 290/488 [01:19<00:45,  4.37it/s]\u001b[A\n",
      "Evaluating the model:  60%|█████▉    | 291/488 [01:19<00:44,  4.45it/s]\u001b[A\n",
      "Evaluating the model:  60%|█████▉    | 292/488 [01:19<00:46,  4.23it/s]\u001b[A\n",
      "Evaluating the model:  60%|██████    | 293/488 [01:20<00:47,  4.10it/s]\u001b[A\n",
      "Evaluating the model:  60%|██████    | 294/488 [01:20<00:46,  4.21it/s]\u001b[A\n",
      "Evaluating the model:  60%|██████    | 295/488 [01:20<00:44,  4.30it/s]\u001b[A\n",
      "Evaluating the model:  61%|██████    | 296/488 [01:20<00:45,  4.25it/s]\u001b[A\n",
      "Evaluating the model:  61%|██████    | 297/488 [01:21<00:44,  4.28it/s]\u001b[A\n",
      "Evaluating the model:  61%|██████    | 298/488 [01:21<00:43,  4.34it/s]\u001b[A\n",
      "Evaluating the model:  61%|██████▏   | 299/488 [01:21<00:41,  4.57it/s]\u001b[A\n",
      "Evaluating the model:  61%|██████▏   | 300/488 [01:21<00:43,  4.29it/s]\u001b[A\n",
      "Evaluating the model:  62%|██████▏   | 301/488 [01:21<00:42,  4.40it/s]\u001b[A\n",
      "Evaluating the model:  62%|██████▏   | 302/488 [01:22<00:44,  4.21it/s]\u001b[A\n",
      "Evaluating the model:  62%|██████▏   | 303/488 [01:22<00:43,  4.24it/s]\u001b[A\n",
      "Evaluating the model:  62%|██████▏   | 304/488 [01:22<00:42,  4.30it/s]\u001b[A\n",
      "Evaluating the model:  62%|██████▎   | 305/488 [01:22<00:43,  4.24it/s]\u001b[A\n",
      "Evaluating the model:  63%|██████▎   | 306/488 [01:23<00:41,  4.37it/s]\u001b[A\n",
      "Evaluating the model:  63%|██████▎   | 307/488 [01:23<00:42,  4.24it/s]\u001b[A\n",
      "Evaluating the model:  63%|██████▎   | 308/488 [01:23<00:43,  4.18it/s]\u001b[A\n",
      "Evaluating the model:  63%|██████▎   | 309/488 [01:23<00:42,  4.17it/s]\u001b[A\n",
      "Evaluating the model:  64%|██████▎   | 310/488 [01:24<00:40,  4.41it/s]\u001b[A\n",
      "Evaluating the model:  64%|██████▎   | 311/488 [01:24<00:40,  4.34it/s]\u001b[A\n",
      "Evaluating the model:  64%|██████▍   | 312/488 [01:24<00:40,  4.31it/s]\u001b[A\n",
      "Evaluating the model:  64%|██████▍   | 313/488 [01:24<00:42,  4.15it/s]\u001b[A\n",
      "Evaluating the model:  64%|██████▍   | 314/488 [01:25<00:42,  4.05it/s]\u001b[A\n",
      "Evaluating the model:  65%|██████▍   | 315/488 [01:25<00:42,  4.10it/s]\u001b[A\n",
      "Evaluating the model:  65%|██████▍   | 316/488 [01:25<00:39,  4.38it/s]\u001b[A\n",
      "Evaluating the model:  65%|██████▍   | 317/488 [01:25<00:41,  4.15it/s]\u001b[A\n",
      "Evaluating the model:  65%|██████▌   | 318/488 [01:26<00:43,  3.91it/s]\u001b[A\n",
      "Evaluating the model:  65%|██████▌   | 319/488 [01:26<00:42,  4.01it/s]\u001b[A\n",
      "Evaluating the model:  66%|██████▌   | 320/488 [01:26<00:39,  4.22it/s]\u001b[A\n",
      "Evaluating the model:  66%|██████▌   | 321/488 [01:26<00:39,  4.25it/s]\u001b[A\n",
      "Evaluating the model:  66%|██████▌   | 322/488 [01:27<00:41,  3.98it/s]\u001b[A\n",
      "Evaluating the model:  66%|██████▌   | 323/488 [01:27<00:39,  4.15it/s]\u001b[A\n",
      "Evaluating the model:  66%|██████▋   | 324/488 [01:27<00:40,  4.01it/s]\u001b[A\n",
      "Evaluating the model:  67%|██████▋   | 325/488 [01:27<00:40,  4.06it/s]\u001b[A\n",
      "Evaluating the model:  67%|██████▋   | 326/488 [01:27<00:38,  4.23it/s]\u001b[A\n",
      "Evaluating the model:  67%|██████▋   | 327/488 [01:28<00:37,  4.32it/s]\u001b[A\n",
      "Evaluating the model:  67%|██████▋   | 328/488 [01:28<00:37,  4.28it/s]\u001b[A\n",
      "Evaluating the model:  67%|██████▋   | 329/488 [01:28<00:37,  4.23it/s]\u001b[A\n",
      "Evaluating the model:  68%|██████▊   | 330/488 [01:28<00:35,  4.43it/s]\u001b[A\n",
      "Evaluating the model:  68%|██████▊   | 331/488 [01:29<00:35,  4.45it/s]\u001b[A\n",
      "Evaluating the model:  68%|██████▊   | 332/488 [01:29<00:35,  4.34it/s]\u001b[A\n",
      "Evaluating the model:  68%|██████▊   | 333/488 [01:29<00:37,  4.15it/s]\u001b[A\n",
      "Evaluating the model:  68%|██████▊   | 334/488 [01:29<00:38,  4.02it/s]\u001b[A\n",
      "Evaluating the model:  69%|██████▊   | 335/488 [01:30<00:37,  4.06it/s]\u001b[A\n",
      "Evaluating the model:  69%|██████▉   | 336/488 [01:30<00:35,  4.26it/s]\u001b[A\n",
      "Evaluating the model:  69%|██████▉   | 337/488 [01:30<00:36,  4.16it/s]\u001b[A\n",
      "Evaluating the model:  69%|██████▉   | 338/488 [01:30<00:34,  4.30it/s]\u001b[A\n",
      "Evaluating the model:  69%|██████▉   | 339/488 [01:31<00:33,  4.43it/s]\u001b[A\n",
      "Evaluating the model:  70%|██████▉   | 340/488 [01:31<00:34,  4.26it/s]\u001b[A\n",
      "Evaluating the model:  70%|██████▉   | 341/488 [01:31<00:34,  4.25it/s]\u001b[A\n",
      "Evaluating the model:  70%|███████   | 342/488 [01:31<00:31,  4.59it/s]\u001b[A\n",
      "Evaluating the model:  70%|███████   | 343/488 [01:31<00:32,  4.49it/s]\u001b[A\n",
      "Evaluating the model:  70%|███████   | 344/488 [01:32<00:31,  4.58it/s]\u001b[A\n",
      "Evaluating the model:  71%|███████   | 345/488 [01:32<00:34,  4.13it/s]\u001b[A\n",
      "Evaluating the model:  71%|███████   | 346/488 [01:32<00:34,  4.13it/s]\u001b[A\n",
      "Evaluating the model:  71%|███████   | 347/488 [01:32<00:34,  4.08it/s]\u001b[A\n",
      "Evaluating the model:  71%|███████▏  | 348/488 [01:33<00:33,  4.13it/s]\u001b[A\n",
      "Evaluating the model:  72%|███████▏  | 349/488 [01:33<00:36,  3.83it/s]\u001b[A\n",
      "Evaluating the model:  72%|███████▏  | 350/488 [01:33<00:35,  3.89it/s]\u001b[A\n",
      "Evaluating the model:  72%|███████▏  | 351/488 [01:33<00:35,  3.87it/s]\u001b[A\n",
      "Evaluating the model:  72%|███████▏  | 352/488 [01:34<00:34,  3.96it/s]\u001b[A\n",
      "Evaluating the model:  72%|███████▏  | 353/488 [01:34<00:34,  3.95it/s]\u001b[A\n",
      "Evaluating the model:  73%|███████▎  | 354/488 [01:34<00:33,  3.95it/s]\u001b[A\n",
      "Evaluating the model:  73%|███████▎  | 355/488 [01:34<00:34,  3.88it/s]\u001b[A\n",
      "Evaluating the model:  73%|███████▎  | 356/488 [01:35<00:32,  4.04it/s]\u001b[A\n",
      "Evaluating the model:  73%|███████▎  | 357/488 [01:35<00:31,  4.16it/s]\u001b[A\n",
      "Evaluating the model:  73%|███████▎  | 358/488 [01:35<00:32,  3.98it/s]\u001b[A\n",
      "Evaluating the model:  74%|███████▎  | 359/488 [01:35<00:31,  4.08it/s]\u001b[A\n",
      "Evaluating the model:  74%|███████▍  | 360/488 [01:36<00:30,  4.15it/s]\u001b[A\n",
      "Evaluating the model:  74%|███████▍  | 361/488 [01:36<00:32,  3.89it/s]\u001b[A\n",
      "Evaluating the model:  74%|███████▍  | 362/488 [01:36<00:32,  3.83it/s]\u001b[A\n",
      "Evaluating the model:  74%|███████▍  | 363/488 [01:36<00:31,  3.94it/s]\u001b[A\n",
      "Evaluating the model:  75%|███████▍  | 364/488 [01:37<00:30,  4.10it/s]\u001b[A\n",
      "Evaluating the model:  75%|███████▍  | 365/488 [01:37<00:29,  4.11it/s]\u001b[A\n",
      "Evaluating the model:  75%|███████▌  | 366/488 [01:37<00:30,  3.95it/s]\u001b[A\n",
      "Evaluating the model:  75%|███████▌  | 367/488 [01:37<00:28,  4.19it/s]\u001b[A\n",
      "Evaluating the model:  75%|███████▌  | 368/488 [01:38<00:29,  4.06it/s]\u001b[A\n",
      "Evaluating the model:  76%|███████▌  | 369/488 [01:38<00:28,  4.12it/s]\u001b[A\n",
      "Evaluating the model:  76%|███████▌  | 370/488 [01:38<00:28,  4.18it/s]\u001b[A\n",
      "Evaluating the model:  76%|███████▌  | 371/488 [01:38<00:28,  4.16it/s]\u001b[A\n",
      "Evaluating the model:  76%|███████▌  | 372/488 [01:39<00:27,  4.22it/s]\u001b[A\n",
      "Evaluating the model:  76%|███████▋  | 373/488 [01:39<00:27,  4.20it/s]\u001b[A\n",
      "Evaluating the model:  77%|███████▋  | 374/488 [01:39<00:27,  4.20it/s]\u001b[A\n",
      "Evaluating the model:  77%|███████▋  | 375/488 [01:39<00:26,  4.31it/s]\u001b[A\n",
      "Evaluating the model:  77%|███████▋  | 376/488 [01:40<00:26,  4.21it/s]\u001b[A\n",
      "Evaluating the model:  77%|███████▋  | 377/488 [01:40<00:26,  4.17it/s]\u001b[A\n",
      "Evaluating the model:  77%|███████▋  | 378/488 [01:40<00:25,  4.25it/s]\u001b[A\n",
      "Evaluating the model:  78%|███████▊  | 379/488 [01:40<00:24,  4.51it/s]\u001b[A\n",
      "Evaluating the model:  78%|███████▊  | 380/488 [01:41<00:26,  4.13it/s]\u001b[A\n",
      "Evaluating the model:  78%|███████▊  | 381/488 [01:41<00:26,  4.11it/s]\u001b[A\n",
      "Evaluating the model:  78%|███████▊  | 382/488 [01:41<00:26,  4.03it/s]\u001b[A\n",
      "Evaluating the model:  78%|███████▊  | 383/488 [01:41<00:24,  4.21it/s]\u001b[A\n",
      "Evaluating the model:  79%|███████▊  | 384/488 [01:41<00:25,  4.13it/s]\u001b[A\n",
      "Evaluating the model:  79%|███████▉  | 385/488 [01:42<00:25,  4.01it/s]\u001b[A\n",
      "Evaluating the model:  79%|███████▉  | 386/488 [01:42<00:24,  4.13it/s]\u001b[A\n",
      "Evaluating the model:  79%|███████▉  | 387/488 [01:42<00:26,  3.79it/s]\u001b[A\n",
      "Evaluating the model:  80%|███████▉  | 388/488 [01:43<00:25,  3.97it/s]\u001b[A\n",
      "Evaluating the model:  80%|███████▉  | 389/488 [01:43<00:23,  4.14it/s]\u001b[A\n",
      "Evaluating the model:  80%|███████▉  | 390/488 [01:43<00:22,  4.29it/s]\u001b[A\n",
      "Evaluating the model:  80%|████████  | 391/488 [01:43<00:23,  4.18it/s]\u001b[A\n",
      "Evaluating the model:  80%|████████  | 392/488 [01:44<00:25,  3.79it/s]\u001b[A\n",
      "Evaluating the model:  81%|████████  | 393/488 [01:44<00:23,  4.01it/s]\u001b[A\n",
      "Evaluating the model:  81%|████████  | 394/488 [01:44<00:21,  4.30it/s]\u001b[A\n",
      "Evaluating the model:  81%|████████  | 395/488 [01:44<00:20,  4.49it/s]\u001b[A\n",
      "Evaluating the model:  81%|████████  | 396/488 [01:44<00:20,  4.41it/s]\u001b[A\n",
      "Evaluating the model:  81%|████████▏ | 397/488 [01:45<00:21,  4.30it/s]\u001b[A\n",
      "Evaluating the model:  82%|████████▏ | 398/488 [01:45<00:22,  3.99it/s]\u001b[A\n",
      "Evaluating the model:  82%|████████▏ | 399/488 [01:45<00:21,  4.15it/s]\u001b[A\n",
      "Evaluating the model:  82%|████████▏ | 400/488 [01:45<00:20,  4.26it/s]\u001b[A\n",
      "Evaluating the model:  82%|████████▏ | 401/488 [01:46<00:21,  4.09it/s]\u001b[A\n",
      "Evaluating the model:  82%|████████▏ | 402/488 [01:46<00:19,  4.35it/s]\u001b[A\n",
      "Evaluating the model:  83%|████████▎ | 403/488 [01:46<00:19,  4.38it/s]\u001b[A\n",
      "Evaluating the model:  83%|████████▎ | 404/488 [01:46<00:20,  4.18it/s]\u001b[A\n",
      "Evaluating the model:  83%|████████▎ | 405/488 [01:46<00:19,  4.34it/s]\u001b[A\n",
      "Evaluating the model:  83%|████████▎ | 406/488 [01:47<00:19,  4.28it/s]\u001b[A\n",
      "Evaluating the model:  83%|████████▎ | 407/488 [01:47<00:18,  4.39it/s]\u001b[A\n",
      "Evaluating the model:  84%|████████▎ | 408/488 [01:47<00:18,  4.37it/s]\u001b[A\n",
      "Evaluating the model:  84%|████████▍ | 409/488 [01:47<00:18,  4.30it/s]\u001b[A\n",
      "Evaluating the model:  84%|████████▍ | 410/488 [01:48<00:17,  4.34it/s]\u001b[A\n",
      "Evaluating the model:  84%|████████▍ | 411/488 [01:48<00:18,  4.13it/s]\u001b[A\n",
      "Evaluating the model:  84%|████████▍ | 412/488 [01:48<00:19,  3.99it/s]\u001b[A\n",
      "Evaluating the model:  85%|████████▍ | 413/488 [01:48<00:18,  4.07it/s]\u001b[A\n",
      "Evaluating the model:  85%|████████▍ | 414/488 [01:49<00:18,  4.08it/s]\u001b[A\n",
      "Evaluating the model:  85%|████████▌ | 415/488 [01:49<00:16,  4.36it/s]\u001b[A\n",
      "Evaluating the model:  85%|████████▌ | 416/488 [01:49<00:16,  4.24it/s]\u001b[A\n",
      "Evaluating the model:  85%|████████▌ | 417/488 [01:49<00:16,  4.20it/s]\u001b[A\n",
      "Evaluating the model:  86%|████████▌ | 418/488 [01:50<00:16,  4.32it/s]\u001b[A\n",
      "Evaluating the model:  86%|████████▌ | 419/488 [01:50<00:15,  4.35it/s]\u001b[A\n",
      "Evaluating the model:  86%|████████▌ | 420/488 [01:50<00:15,  4.34it/s]\u001b[A\n",
      "Evaluating the model:  86%|████████▋ | 421/488 [01:50<00:15,  4.20it/s]\u001b[A\n",
      "Evaluating the model:  86%|████████▋ | 422/488 [01:50<00:15,  4.35it/s]\u001b[A\n",
      "Evaluating the model:  87%|████████▋ | 423/488 [01:51<00:14,  4.39it/s]\u001b[A\n",
      "Evaluating the model:  87%|████████▋ | 424/488 [01:51<00:14,  4.36it/s]\u001b[A\n",
      "Evaluating the model:  87%|████████▋ | 425/488 [01:51<00:14,  4.50it/s]\u001b[A\n",
      "Evaluating the model:  87%|████████▋ | 426/488 [01:51<00:13,  4.43it/s]\u001b[A\n",
      "Evaluating the model:  88%|████████▊ | 427/488 [01:52<00:14,  4.31it/s]\u001b[A\n",
      "Evaluating the model:  88%|████████▊ | 428/488 [01:52<00:18,  3.30it/s]\u001b[A\n",
      "Evaluating the model:  88%|████████▊ | 429/488 [01:52<00:16,  3.58it/s]\u001b[A\n",
      "Evaluating the model:  88%|████████▊ | 430/488 [01:53<00:15,  3.82it/s]\u001b[A\n",
      "Evaluating the model:  88%|████████▊ | 431/488 [01:53<00:15,  3.70it/s]\u001b[A\n",
      "Evaluating the model:  89%|████████▊ | 432/488 [01:53<00:14,  3.93it/s]\u001b[A\n",
      "Evaluating the model:  89%|████████▊ | 433/488 [01:53<00:13,  4.09it/s]\u001b[A\n",
      "Evaluating the model:  89%|████████▉ | 434/488 [01:53<00:12,  4.22it/s]\u001b[A\n",
      "Evaluating the model:  89%|████████▉ | 435/488 [01:54<00:12,  4.29it/s]\u001b[A\n",
      "Evaluating the model:  89%|████████▉ | 436/488 [01:54<00:12,  4.14it/s]\u001b[A\n"
     ]
    },
    {
     "name": "stderr",
     "output_type": "stream",
     "text": [
      "Evaluating the model:  90%|████████▉ | 437/488 [01:54<00:12,  4.18it/s]\u001b[A\n",
      "Evaluating the model:  90%|████████▉ | 438/488 [01:54<00:12,  4.13it/s]\u001b[A\n",
      "Evaluating the model:  90%|████████▉ | 439/488 [01:55<00:12,  3.92it/s]\u001b[A\n",
      "Evaluating the model:  90%|█████████ | 440/488 [01:55<00:11,  4.14it/s]\u001b[A\n",
      "Evaluating the model:  90%|█████████ | 441/488 [01:55<00:10,  4.34it/s]\u001b[A\n",
      "Evaluating the model:  91%|█████████ | 442/488 [01:55<00:10,  4.27it/s]\u001b[A\n",
      "Evaluating the model:  91%|█████████ | 443/488 [01:56<00:10,  4.30it/s]\u001b[A\n",
      "Evaluating the model:  91%|█████████ | 444/488 [01:56<00:10,  4.31it/s]\u001b[A\n",
      "Evaluating the model:  91%|█████████ | 445/488 [01:56<00:10,  4.16it/s]\u001b[A\n",
      "Evaluating the model:  91%|█████████▏| 446/488 [01:56<00:10,  4.10it/s]\u001b[A\n",
      "Evaluating the model:  92%|█████████▏| 447/488 [01:57<00:09,  4.16it/s]\u001b[A\n",
      "Evaluating the model:  92%|█████████▏| 448/488 [01:57<00:09,  4.29it/s]\u001b[A\n",
      "Evaluating the model:  92%|█████████▏| 449/488 [01:57<00:08,  4.47it/s]\u001b[A\n",
      "Evaluating the model:  92%|█████████▏| 450/488 [01:57<00:08,  4.51it/s]\u001b[A\n",
      "Evaluating the model:  92%|█████████▏| 451/488 [01:57<00:08,  4.47it/s]\u001b[A\n",
      "Evaluating the model:  93%|█████████▎| 452/488 [01:58<00:08,  4.21it/s]\u001b[A\n",
      "Evaluating the model:  93%|█████████▎| 453/488 [01:58<00:08,  4.16it/s]\u001b[A\n",
      "Evaluating the model:  93%|█████████▎| 454/488 [01:58<00:07,  4.28it/s]\u001b[A\n",
      "Evaluating the model:  93%|█████████▎| 455/488 [01:58<00:08,  4.08it/s]\u001b[A\n",
      "Evaluating the model:  93%|█████████▎| 456/488 [01:59<00:07,  4.09it/s]\u001b[A\n",
      "Evaluating the model:  94%|█████████▎| 457/488 [01:59<00:07,  4.32it/s]\u001b[A\n",
      "Evaluating the model:  94%|█████████▍| 458/488 [01:59<00:06,  4.48it/s]\u001b[A\n",
      "Evaluating the model:  94%|█████████▍| 459/488 [01:59<00:06,  4.28it/s]\u001b[A\n",
      "Evaluating the model:  94%|█████████▍| 460/488 [02:00<00:06,  4.51it/s]\u001b[A\n",
      "Evaluating the model:  94%|█████████▍| 461/488 [02:00<00:06,  4.40it/s]\u001b[A\n",
      "Evaluating the model:  95%|█████████▍| 462/488 [02:00<00:06,  4.28it/s]\u001b[A\n",
      "Evaluating the model:  95%|█████████▍| 463/488 [02:00<00:05,  4.24it/s]\u001b[A\n",
      "Evaluating the model:  95%|█████████▌| 464/488 [02:01<00:05,  4.19it/s]\u001b[A\n",
      "Evaluating the model:  95%|█████████▌| 465/488 [02:01<00:05,  4.35it/s]\u001b[A\n",
      "Evaluating the model:  95%|█████████▌| 466/488 [02:01<00:05,  4.40it/s]\u001b[A\n",
      "Evaluating the model:  96%|█████████▌| 467/488 [02:01<00:04,  4.24it/s]\u001b[A\n",
      "Evaluating the model:  96%|█████████▌| 468/488 [02:01<00:04,  4.14it/s]\u001b[A\n",
      "Evaluating the model:  96%|█████████▌| 469/488 [02:02<00:04,  4.11it/s]\u001b[A\n",
      "Evaluating the model:  96%|█████████▋| 470/488 [02:02<00:04,  3.97it/s]\u001b[A\n",
      "Evaluating the model:  97%|█████████▋| 471/488 [02:02<00:04,  3.94it/s]\u001b[A\n",
      "Evaluating the model:  97%|█████████▋| 472/488 [02:02<00:03,  4.15it/s]\u001b[A\n",
      "Evaluating the model:  97%|█████████▋| 473/488 [02:03<00:03,  4.17it/s]\u001b[A\n",
      "Evaluating the model:  97%|█████████▋| 474/488 [02:03<00:03,  4.12it/s]\u001b[A\n",
      "Evaluating the model:  97%|█████████▋| 475/488 [02:03<00:03,  4.13it/s]\u001b[A\n",
      "Evaluating the model:  98%|█████████▊| 476/488 [02:03<00:02,  4.32it/s]\u001b[A\n",
      "Evaluating the model:  98%|█████████▊| 477/488 [02:04<00:02,  4.23it/s]\u001b[A\n",
      "Evaluating the model:  98%|█████████▊| 478/488 [02:04<00:02,  4.17it/s]\u001b[A\n",
      "Evaluating the model:  98%|█████████▊| 479/488 [02:04<00:02,  4.14it/s]\u001b[A\n",
      "Evaluating the model:  98%|█████████▊| 480/488 [02:04<00:01,  4.16it/s]\u001b[A\n",
      "Evaluating the model:  99%|█████████▊| 481/488 [02:05<00:01,  4.10it/s]\u001b[A\n",
      "Evaluating the model:  99%|█████████▉| 482/488 [02:05<00:01,  4.17it/s]\u001b[A\n",
      "Evaluating the model:  99%|█████████▉| 483/488 [02:05<00:01,  4.11it/s]\u001b[A\n",
      "Evaluating the model:  99%|█████████▉| 484/488 [02:05<00:00,  4.18it/s]\u001b[A\n",
      "Evaluating the model:  99%|█████████▉| 485/488 [02:06<00:00,  4.38it/s]\u001b[A\n",
      "Evaluating the model: 100%|█████████▉| 486/488 [02:06<00:00,  4.30it/s]\u001b[A\n",
      "Evaluating the model: 100%|█████████▉| 487/488 [02:06<00:00,  4.24it/s]\u001b[A\n",
      "Evaluating the model: 100%|██████████| 488/488 [02:06<00:00,  4.01it/s]\u001b[A\n",
      "\u001b[A/home/js7561/miniconda3/envs/py35milsed/lib/python3.5/site-packages/sklearn/metrics/classification.py:1113: UndefinedMetricWarning: F-score is ill-defined and being set to 0.0 in labels with no predicted samples.\n",
      "  'precision', 'predicted', average, warn_for)\n",
      "/home/js7561/miniconda3/envs/py35milsed/lib/python3.5/site-packages/sklearn/metrics/classification.py:1113: UndefinedMetricWarning: Precision is ill-defined and being set to 0.0 in labels with no predicted samples.\n",
      "  'precision', 'predicted', average, warn_for)\n",
      "/home/js7561/miniconda3/envs/py35milsed/lib/python3.5/site-packages/sklearn/metrics/classification.py:1113: UndefinedMetricWarning: F-score is ill-defined and being set to 0.0 in samples with no predicted labels.\n",
      "  'precision', 'predicted', average, warn_for)\n",
      "/home/js7561/miniconda3/envs/py35milsed/lib/python3.5/site-packages/sklearn/metrics/classification.py:1113: UndefinedMetricWarning: Precision is ill-defined and being set to 0.0 in samples with no predicted labels.\n",
      "  'precision', 'predicted', average, warn_for)\n",
      "\n",
      "Evaluating the model:   0%|          | 0/488 [00:00<?, ?it/s]\u001b[A\n",
      "Evaluating the model:   0%|          | 1/488 [00:00<07:46,  1.04it/s]\u001b[A\n",
      "Evaluating the model:   0%|          | 2/488 [00:01<07:31,  1.08it/s]\u001b[A\n",
      "Evaluating the model:   1%|          | 3/488 [00:02<07:13,  1.12it/s]\u001b[A\n",
      "Evaluating the model:   1%|          | 4/488 [00:03<06:59,  1.15it/s]\u001b[A\n",
      "Evaluating the model:   1%|          | 5/488 [00:04<06:52,  1.17it/s]\u001b[A\n",
      "Evaluating the model:   1%|          | 6/488 [00:05<06:49,  1.18it/s]\u001b[A\n",
      "Evaluating the model:   1%|▏         | 7/488 [00:05<06:49,  1.17it/s]\u001b[A\n",
      "Evaluating the model:   2%|▏         | 8/488 [00:06<06:41,  1.19it/s]\u001b[A\n",
      "Evaluating the model:   2%|▏         | 9/488 [00:07<06:43,  1.19it/s]\u001b[A\n",
      "Evaluating the model:   2%|▏         | 10/488 [00:08<06:49,  1.17it/s]\u001b[A\n",
      "Evaluating the model:   2%|▏         | 11/488 [00:09<06:51,  1.16it/s]\u001b[A\n",
      "Evaluating the model:   2%|▏         | 12/488 [00:10<06:51,  1.16it/s]\u001b[A\n",
      "Evaluating the model:   3%|▎         | 13/488 [00:11<07:10,  1.10it/s]\u001b[A\n",
      "Evaluating the model:   3%|▎         | 14/488 [00:12<07:13,  1.09it/s]\u001b[A\n",
      "Evaluating the model:   3%|▎         | 15/488 [00:13<07:12,  1.09it/s]\u001b[A\n",
      "Evaluating the model:   3%|▎         | 16/488 [00:13<07:07,  1.10it/s]\u001b[A\n",
      "Evaluating the model:   3%|▎         | 17/488 [00:14<07:00,  1.12it/s]\u001b[A\n",
      "Evaluating the model:   4%|▎         | 18/488 [00:15<06:52,  1.14it/s]\u001b[A\n",
      "Evaluating the model:   4%|▍         | 19/488 [00:16<06:45,  1.16it/s]\u001b[A\n",
      "Evaluating the model:   4%|▍         | 20/488 [00:17<06:35,  1.18it/s]\u001b[A\n",
      "Evaluating the model:   4%|▍         | 21/488 [00:18<06:31,  1.19it/s]\u001b[A\n",
      "Evaluating the model:   5%|▍         | 22/488 [00:18<06:30,  1.19it/s]\u001b[A\n",
      "Evaluating the model:   5%|▍         | 23/488 [00:19<06:35,  1.18it/s]\u001b[A\n",
      "Evaluating the model:   5%|▍         | 24/488 [00:20<06:47,  1.14it/s]\u001b[A\n",
      "Evaluating the model:   5%|▌         | 25/488 [00:21<06:47,  1.14it/s]\u001b[A\n",
      "Evaluating the model:   5%|▌         | 26/488 [00:22<06:51,  1.12it/s]\u001b[A\n",
      "Evaluating the model:   6%|▌         | 27/488 [00:23<06:47,  1.13it/s]\u001b[A\n",
      "Evaluating the model:   6%|▌         | 28/488 [00:24<06:33,  1.17it/s]\u001b[A\n",
      "Evaluating the model:   6%|▌         | 29/488 [00:25<06:32,  1.17it/s]\u001b[A\n",
      "Evaluating the model:   6%|▌         | 30/488 [00:25<06:31,  1.17it/s]\u001b[A\n",
      "Evaluating the model:   6%|▋         | 31/488 [00:26<06:24,  1.19it/s]\u001b[A\n",
      "Evaluating the model:   7%|▋         | 32/488 [00:27<06:25,  1.18it/s]\u001b[A\n",
      "Evaluating the model:   7%|▋         | 33/488 [00:28<06:29,  1.17it/s]\u001b[A\n",
      "Evaluating the model:   7%|▋         | 34/488 [00:29<06:21,  1.19it/s]\u001b[A\n",
      "Evaluating the model:   7%|▋         | 35/488 [00:30<06:36,  1.14it/s]\u001b[A\n",
      "Evaluating the model:   7%|▋         | 36/488 [00:31<06:30,  1.16it/s]\u001b[A\n",
      "Evaluating the model:   8%|▊         | 37/488 [00:32<06:44,  1.11it/s]\u001b[A\n",
      "Evaluating the model:   8%|▊         | 38/488 [00:32<06:39,  1.13it/s]\u001b[A\n",
      "Evaluating the model:   8%|▊         | 39/488 [00:33<06:33,  1.14it/s]\u001b[A\n",
      "Evaluating the model:   8%|▊         | 40/488 [00:34<06:29,  1.15it/s]\u001b[A\n",
      "Evaluating the model:   8%|▊         | 41/488 [00:35<06:24,  1.16it/s]\u001b[A\n",
      "Evaluating the model:   9%|▊         | 42/488 [00:36<06:26,  1.15it/s]\u001b[A\n",
      "Evaluating the model:   9%|▉         | 43/488 [00:37<06:24,  1.16it/s]\u001b[A\n",
      "Evaluating the model:   9%|▉         | 44/488 [00:38<06:21,  1.17it/s]\u001b[A\n",
      "Evaluating the model:   9%|▉         | 45/488 [00:38<06:16,  1.18it/s]\u001b[A\n",
      "Evaluating the model:   9%|▉         | 46/488 [00:39<06:20,  1.16it/s]\u001b[A\n",
      "Evaluating the model:  10%|▉         | 47/488 [00:40<06:17,  1.17it/s]\u001b[A\n",
      "Evaluating the model:  10%|▉         | 48/488 [00:41<06:22,  1.15it/s]\u001b[A\n",
      "Evaluating the model:  10%|█         | 49/488 [00:42<06:07,  1.20it/s]\u001b[A\n",
      "Evaluating the model:  10%|█         | 50/488 [00:43<06:09,  1.19it/s]\u001b[A\n",
      "Evaluating the model:  10%|█         | 51/488 [00:43<06:07,  1.19it/s]\u001b[A\n",
      "Evaluating the model:  11%|█         | 52/488 [00:44<06:08,  1.18it/s]\u001b[A\n",
      "Evaluating the model:  11%|█         | 53/488 [00:45<06:08,  1.18it/s]\u001b[A\n",
      "Evaluating the model:  11%|█         | 54/488 [00:46<06:00,  1.20it/s]\u001b[A\n",
      "Evaluating the model:  11%|█▏        | 55/488 [00:47<05:59,  1.20it/s]\u001b[A\n",
      "Evaluating the model:  11%|█▏        | 56/488 [00:48<05:57,  1.21it/s]\u001b[A\n",
      "Evaluating the model:  12%|█▏        | 57/488 [00:49<06:07,  1.17it/s]\u001b[A\n",
      "Evaluating the model:  12%|█▏        | 58/488 [00:49<06:05,  1.18it/s]\u001b[A\n",
      "Evaluating the model:  12%|█▏        | 59/488 [00:50<06:12,  1.15it/s]\u001b[A\n",
      "Evaluating the model:  12%|█▏        | 60/488 [00:51<06:30,  1.10it/s]\u001b[A\n",
      "Evaluating the model:  12%|█▎        | 61/488 [00:52<06:20,  1.12it/s]\u001b[A\n",
      "Evaluating the model:  13%|█▎        | 62/488 [00:53<06:14,  1.14it/s]\u001b[A\n",
      "Evaluating the model:  13%|█▎        | 63/488 [00:54<06:09,  1.15it/s]\u001b[A\n",
      "Evaluating the model:  13%|█▎        | 64/488 [00:55<06:01,  1.17it/s]\u001b[A\n",
      "Evaluating the model:  13%|█▎        | 65/488 [00:56<06:07,  1.15it/s]\u001b[A\n",
      "Evaluating the model:  14%|█▎        | 66/488 [00:56<06:10,  1.14it/s]\u001b[A\n",
      "Evaluating the model:  14%|█▎        | 67/488 [00:57<06:11,  1.13it/s]\u001b[A\n",
      "Evaluating the model:  14%|█▍        | 68/488 [00:58<06:04,  1.15it/s]\u001b[A\n",
      "Evaluating the model:  14%|█▍        | 69/488 [00:59<06:04,  1.15it/s]\u001b[A\n",
      "Evaluating the model:  14%|█▍        | 70/488 [01:00<05:57,  1.17it/s]\u001b[A\n",
      "Evaluating the model:  15%|█▍        | 71/488 [01:01<06:04,  1.14it/s]\u001b[A\n",
      "Evaluating the model:  15%|█▍        | 72/488 [01:02<05:56,  1.17it/s]\u001b[A\n",
      "Evaluating the model:  15%|█▍        | 73/488 [01:03<05:56,  1.17it/s]\u001b[A\n",
      "Evaluating the model:  15%|█▌        | 74/488 [01:03<05:51,  1.18it/s]\u001b[A\n",
      "Evaluating the model:  15%|█▌        | 75/488 [01:04<05:45,  1.20it/s]\u001b[A\n",
      "Evaluating the model:  16%|█▌        | 76/488 [01:05<05:43,  1.20it/s]\u001b[A\n",
      "Evaluating the model:  16%|█▌        | 77/488 [01:06<05:49,  1.18it/s]\u001b[A\n",
      "Evaluating the model:  16%|█▌        | 78/488 [01:07<05:51,  1.17it/s]\u001b[A\n",
      "Evaluating the model:  16%|█▌        | 79/488 [01:08<05:51,  1.16it/s]\u001b[A\n",
      "Evaluating the model:  16%|█▋        | 80/488 [01:08<05:51,  1.16it/s]\u001b[A\n",
      "Evaluating the model:  17%|█▋        | 81/488 [01:09<05:47,  1.17it/s]\u001b[A\n",
      "Evaluating the model:  17%|█▋        | 82/488 [01:10<05:48,  1.16it/s]\u001b[A\n",
      "Evaluating the model:  17%|█▋        | 83/488 [01:11<05:46,  1.17it/s]\u001b[A\n",
      "Evaluating the model:  17%|█▋        | 84/488 [01:12<05:45,  1.17it/s]\u001b[A\n",
      "Evaluating the model:  17%|█▋        | 85/488 [01:13<05:45,  1.17it/s]\u001b[A\n",
      "Evaluating the model:  18%|█▊        | 86/488 [01:14<05:44,  1.17it/s]\u001b[A\n",
      "Evaluating the model:  18%|█▊        | 87/488 [01:14<05:41,  1.17it/s]\u001b[A\n",
      "Evaluating the model:  18%|█▊        | 88/488 [01:15<05:45,  1.16it/s]\u001b[A\n",
      "Evaluating the model:  18%|█▊        | 89/488 [01:16<05:47,  1.15it/s]\u001b[A\n",
      "Evaluating the model:  18%|█▊        | 90/488 [01:17<05:48,  1.14it/s]\u001b[A\n",
      "Evaluating the model:  19%|█▊        | 91/488 [01:18<05:44,  1.15it/s]\u001b[A\n",
      "Evaluating the model:  19%|█▉        | 92/488 [01:19<05:40,  1.16it/s]\u001b[A\n",
      "Evaluating the model:  19%|█▉        | 93/488 [01:20<05:39,  1.16it/s]\u001b[A\n",
      "Evaluating the model:  19%|█▉        | 94/488 [01:20<05:35,  1.17it/s]\u001b[A\n",
      "Evaluating the model:  19%|█▉        | 95/488 [01:21<05:36,  1.17it/s]\u001b[A\n",
      "Evaluating the model:  20%|█▉        | 96/488 [01:22<05:38,  1.16it/s]\u001b[A\n",
      "Evaluating the model:  20%|█▉        | 97/488 [01:23<05:39,  1.15it/s]\u001b[A\n",
      "Evaluating the model:  20%|██        | 98/488 [01:24<05:42,  1.14it/s]\u001b[A\n",
      "Evaluating the model:  20%|██        | 99/488 [01:25<05:41,  1.14it/s]\u001b[A\n",
      "Evaluating the model:  20%|██        | 100/488 [01:26<05:32,  1.17it/s]\u001b[A\n",
      "Evaluating the model:  21%|██        | 101/488 [01:27<05:34,  1.16it/s]\u001b[A\n",
      "Evaluating the model:  21%|██        | 102/488 [01:27<05:30,  1.17it/s]\u001b[A\n",
      "Evaluating the model:  21%|██        | 103/488 [01:28<05:36,  1.14it/s]\u001b[A\n",
      "Evaluating the model:  21%|██▏       | 104/488 [01:29<05:34,  1.15it/s]\u001b[A\n",
      "Evaluating the model:  22%|██▏       | 105/488 [01:30<05:25,  1.18it/s]\u001b[A\n",
      "Evaluating the model:  22%|██▏       | 106/488 [01:31<05:25,  1.17it/s]\u001b[A\n",
      "Evaluating the model:  22%|██▏       | 107/488 [01:32<05:23,  1.18it/s]\u001b[A\n",
      "Evaluating the model:  22%|██▏       | 108/488 [01:33<05:21,  1.18it/s]\u001b[A\n",
      "Evaluating the model:  22%|██▏       | 109/488 [01:34<05:41,  1.11it/s]\u001b[A\n",
      "Evaluating the model:  23%|██▎       | 110/488 [01:35<05:49,  1.08it/s]\u001b[A\n",
      "Evaluating the model:  23%|██▎       | 111/488 [01:35<05:34,  1.13it/s]\u001b[A\n",
      "Evaluating the model:  23%|██▎       | 112/488 [01:36<05:25,  1.15it/s]\u001b[A\n",
      "Evaluating the model:  23%|██▎       | 113/488 [01:37<05:22,  1.16it/s]\u001b[A\n",
      "Evaluating the model:  23%|██▎       | 114/488 [01:38<05:20,  1.17it/s]\u001b[A\n",
      "Evaluating the model:  24%|██▎       | 115/488 [01:39<05:26,  1.14it/s]\u001b[A\n",
      "Evaluating the model:  24%|██▍       | 116/488 [01:40<05:26,  1.14it/s]\u001b[A\n",
      "Evaluating the model:  24%|██▍       | 117/488 [01:40<05:22,  1.15it/s]\u001b[A\n",
      "Evaluating the model:  24%|██▍       | 118/488 [01:41<05:15,  1.17it/s]\u001b[A\n",
      "Evaluating the model:  24%|██▍       | 119/488 [01:42<05:13,  1.18it/s]\u001b[A\n",
      "Evaluating the model:  25%|██▍       | 120/488 [01:43<05:11,  1.18it/s]\u001b[A\n",
      "Evaluating the model:  25%|██▍       | 121/488 [01:44<05:28,  1.12it/s]\u001b[A\n",
      "Evaluating the model:  25%|██▌       | 122/488 [01:45<05:24,  1.13it/s]\u001b[A\n",
      "Evaluating the model:  25%|██▌       | 123/488 [01:46<05:17,  1.15it/s]\u001b[A\n",
      "Evaluating the model:  25%|██▌       | 124/488 [01:47<05:10,  1.17it/s]\u001b[A\n",
      "Evaluating the model:  26%|██▌       | 125/488 [01:47<05:07,  1.18it/s]\u001b[A\n",
      "Evaluating the model:  26%|██▌       | 126/488 [01:48<05:03,  1.19it/s]\u001b[A\n",
      "Evaluating the model:  26%|██▌       | 127/488 [01:49<05:03,  1.19it/s]\u001b[A\n",
      "Evaluating the model:  26%|██▌       | 128/488 [01:50<05:08,  1.17it/s]\u001b[A\n",
      "Evaluating the model:  26%|██▋       | 129/488 [01:51<05:07,  1.17it/s]\u001b[A\n",
      "Evaluating the model:  27%|██▋       | 130/488 [01:52<05:09,  1.16it/s]\u001b[A\n",
      "Evaluating the model:  27%|██▋       | 131/488 [01:52<05:05,  1.17it/s]\u001b[A\n",
      "Evaluating the model:  27%|██▋       | 132/488 [01:53<05:07,  1.16it/s]\u001b[A\n",
      "Evaluating the model:  27%|██▋       | 133/488 [01:54<05:07,  1.16it/s]\u001b[A\n",
      "Evaluating the model:  27%|██▋       | 134/488 [01:55<05:12,  1.13it/s]\u001b[A\n",
      "Evaluating the model:  28%|██▊       | 135/488 [01:56<05:10,  1.14it/s]\u001b[A\n",
      "Evaluating the model:  28%|██▊       | 136/488 [01:57<05:12,  1.13it/s]\u001b[A\n",
      "Evaluating the model:  28%|██▊       | 137/488 [01:58<05:08,  1.14it/s]\u001b[A\n",
      "Evaluating the model:  28%|██▊       | 138/488 [01:59<05:08,  1.13it/s]\u001b[A\n",
      "Evaluating the model:  28%|██▊       | 139/488 [02:00<05:11,  1.12it/s]\u001b[A\n",
      "Evaluating the model:  29%|██▊       | 140/488 [02:00<05:10,  1.12it/s]\u001b[A\n",
      "Evaluating the model:  29%|██▉       | 141/488 [02:01<05:03,  1.14it/s]\u001b[A\n",
      "Evaluating the model:  29%|██▉       | 142/488 [02:02<04:59,  1.16it/s]\u001b[A\n",
      "Evaluating the model:  29%|██▉       | 143/488 [02:03<05:07,  1.12it/s]\u001b[A\n",
      "Evaluating the model:  30%|██▉       | 144/488 [02:04<04:59,  1.15it/s]\u001b[A\n",
      "Evaluating the model:  30%|██▉       | 145/488 [02:05<04:57,  1.15it/s]\u001b[A\n",
      "Evaluating the model:  30%|██▉       | 146/488 [02:06<04:53,  1.17it/s]\u001b[A\n",
      "Evaluating the model:  30%|███       | 147/488 [02:06<04:51,  1.17it/s]\u001b[A\n",
      "Evaluating the model:  30%|███       | 148/488 [02:07<04:50,  1.17it/s]\u001b[A\n",
      "Evaluating the model:  31%|███       | 149/488 [02:08<04:50,  1.17it/s]\u001b[A\n",
      "Evaluating the model:  31%|███       | 150/488 [02:09<04:48,  1.17it/s]\u001b[A\n",
      "Evaluating the model:  31%|███       | 151/488 [02:10<04:50,  1.16it/s]\u001b[A\n",
      "Evaluating the model:  31%|███       | 152/488 [02:11<04:46,  1.17it/s]\u001b[A\n"
     ]
    },
    {
     "name": "stderr",
     "output_type": "stream",
     "text": [
      "Evaluating the model:  31%|███▏      | 153/488 [02:12<04:45,  1.17it/s]\u001b[A\n",
      "Evaluating the model:  32%|███▏      | 154/488 [02:12<04:43,  1.18it/s]\u001b[A\n",
      "Evaluating the model:  32%|███▏      | 155/488 [02:13<04:41,  1.18it/s]\u001b[A\n",
      "Evaluating the model:  32%|███▏      | 156/488 [02:14<04:38,  1.19it/s]\u001b[A\n",
      "Evaluating the model:  32%|███▏      | 157/488 [02:15<04:35,  1.20it/s]\u001b[A\n",
      "Evaluating the model:  32%|███▏      | 158/488 [02:16<04:34,  1.20it/s]\u001b[A\n",
      "Evaluating the model:  33%|███▎      | 159/488 [02:17<04:35,  1.19it/s]\u001b[A\n",
      "Evaluating the model:  33%|███▎      | 160/488 [02:18<04:41,  1.17it/s]\u001b[A\n",
      "Evaluating the model:  33%|███▎      | 161/488 [02:18<04:38,  1.18it/s]\u001b[A\n",
      "Evaluating the model:  33%|███▎      | 162/488 [02:19<04:40,  1.16it/s]\u001b[A\n",
      "Evaluating the model:  33%|███▎      | 163/488 [02:20<04:35,  1.18it/s]\u001b[A\n",
      "Evaluating the model:  34%|███▎      | 164/488 [02:21<04:36,  1.17it/s]\u001b[A\n",
      "Evaluating the model:  34%|███▍      | 165/488 [02:22<04:38,  1.16it/s]\u001b[A\n",
      "Evaluating the model:  34%|███▍      | 166/488 [02:23<04:37,  1.16it/s]\u001b[A\n",
      "Evaluating the model:  34%|███▍      | 167/488 [02:24<04:36,  1.16it/s]\u001b[A\n",
      "Evaluating the model:  34%|███▍      | 168/488 [02:24<04:28,  1.19it/s]\u001b[A\n",
      "Evaluating the model:  35%|███▍      | 169/488 [02:25<04:29,  1.18it/s]\u001b[A\n",
      "Evaluating the model:  35%|███▍      | 170/488 [02:26<04:30,  1.17it/s]\u001b[A\n",
      "Evaluating the model:  35%|███▌      | 171/488 [02:27<04:36,  1.15it/s]\u001b[A\n",
      "Evaluating the model:  35%|███▌      | 172/488 [02:28<04:35,  1.15it/s]\u001b[A\n",
      "Evaluating the model:  35%|███▌      | 173/488 [02:29<04:33,  1.15it/s]\u001b[A\n",
      "Evaluating the model:  36%|███▌      | 174/488 [02:30<04:29,  1.16it/s]\u001b[A\n",
      "Evaluating the model:  36%|███▌      | 175/488 [02:30<04:25,  1.18it/s]\u001b[A\n",
      "Evaluating the model:  36%|███▌      | 176/488 [02:31<04:27,  1.17it/s]\u001b[A\n",
      "Evaluating the model:  36%|███▋      | 177/488 [02:32<04:32,  1.14it/s]\u001b[A\n",
      "Evaluating the model:  36%|███▋      | 178/488 [02:33<04:23,  1.18it/s]\u001b[A\n",
      "Evaluating the model:  37%|███▋      | 179/488 [02:34<04:22,  1.18it/s]\u001b[A\n",
      "Evaluating the model:  37%|███▋      | 180/488 [02:35<04:26,  1.15it/s]\u001b[A\n",
      "Evaluating the model:  37%|███▋      | 181/488 [02:36<04:22,  1.17it/s]\u001b[A\n",
      "Evaluating the model:  37%|███▋      | 182/488 [02:36<04:19,  1.18it/s]\u001b[A\n",
      "Evaluating the model:  38%|███▊      | 183/488 [02:37<04:17,  1.19it/s]\u001b[A\n",
      "Evaluating the model:  38%|███▊      | 184/488 [02:38<04:17,  1.18it/s]\u001b[A\n",
      "Evaluating the model:  38%|███▊      | 185/488 [02:39<04:22,  1.16it/s]\u001b[A\n",
      "Evaluating the model:  38%|███▊      | 186/488 [02:40<04:24,  1.14it/s]\u001b[A\n",
      "Evaluating the model:  38%|███▊      | 187/488 [02:41<04:25,  1.13it/s]\u001b[A\n",
      "Evaluating the model:  39%|███▊      | 188/488 [02:42<04:22,  1.14it/s]\u001b[A\n",
      "Evaluating the model:  39%|███▊      | 189/488 [02:43<04:25,  1.12it/s]\u001b[A\n",
      "Evaluating the model:  39%|███▉      | 190/488 [02:43<04:18,  1.15it/s]\u001b[A\n",
      "Evaluating the model:  39%|███▉      | 191/488 [02:44<04:18,  1.15it/s]\u001b[A\n",
      "Evaluating the model:  39%|███▉      | 192/488 [02:45<04:15,  1.16it/s]\u001b[A\n",
      "Evaluating the model:  40%|███▉      | 193/488 [02:46<04:12,  1.17it/s]\u001b[A\n",
      "Evaluating the model:  40%|███▉      | 194/488 [02:47<04:14,  1.16it/s]\u001b[A\n",
      "Evaluating the model:  40%|███▉      | 195/488 [02:48<04:07,  1.18it/s]\u001b[A\n",
      "Evaluating the model:  40%|████      | 196/488 [02:48<04:04,  1.19it/s]\u001b[A\n",
      "Evaluating the model:  40%|████      | 197/488 [02:49<04:10,  1.16it/s]\u001b[A\n",
      "Evaluating the model:  41%|████      | 198/488 [02:50<04:04,  1.18it/s]\u001b[A\n",
      "Evaluating the model:  41%|████      | 199/488 [02:51<04:05,  1.18it/s]\u001b[A\n",
      "Evaluating the model:  41%|████      | 200/488 [02:52<04:05,  1.18it/s]\u001b[A\n",
      "Evaluating the model:  41%|████      | 201/488 [02:53<04:10,  1.15it/s]\u001b[A\n",
      "Evaluating the model:  41%|████▏     | 202/488 [02:54<04:08,  1.15it/s]\u001b[A\n",
      "Evaluating the model:  42%|████▏     | 203/488 [02:54<04:04,  1.16it/s]\u001b[A\n",
      "Evaluating the model:  42%|████▏     | 204/488 [02:55<04:04,  1.16it/s]\u001b[A\n",
      "Evaluating the model:  42%|████▏     | 205/488 [02:56<04:02,  1.17it/s]\u001b[A\n",
      "Evaluating the model:  42%|████▏     | 206/488 [02:57<04:01,  1.17it/s]\u001b[A\n",
      "Evaluating the model:  42%|████▏     | 207/488 [02:58<03:59,  1.17it/s]\u001b[A\n",
      "Evaluating the model:  43%|████▎     | 208/488 [02:59<03:58,  1.18it/s]\u001b[A\n",
      "Evaluating the model:  43%|████▎     | 209/488 [03:00<03:58,  1.17it/s]\u001b[A\n",
      "Evaluating the model:  43%|████▎     | 210/488 [03:01<04:04,  1.14it/s]\u001b[A\n",
      "Evaluating the model:  43%|████▎     | 211/488 [03:01<04:03,  1.14it/s]\u001b[A\n",
      "Evaluating the model:  43%|████▎     | 212/488 [03:02<03:57,  1.16it/s]\u001b[A\n",
      "Evaluating the model:  44%|████▎     | 213/488 [03:03<03:59,  1.15it/s]\u001b[A\n",
      "Evaluating the model:  44%|████▍     | 214/488 [03:04<04:04,  1.12it/s]\u001b[A\n",
      "Evaluating the model:  44%|████▍     | 215/488 [03:05<04:00,  1.14it/s]\u001b[A\n",
      "Evaluating the model:  44%|████▍     | 216/488 [03:06<03:53,  1.16it/s]\u001b[A\n",
      "Evaluating the model:  44%|████▍     | 217/488 [03:07<03:50,  1.17it/s]\u001b[A\n",
      "Evaluating the model:  45%|████▍     | 218/488 [03:08<04:09,  1.08it/s]\u001b[A\n",
      "Evaluating the model:  45%|████▍     | 219/488 [03:08<04:02,  1.11it/s]\u001b[A\n",
      "Evaluating the model:  45%|████▌     | 220/488 [03:09<04:00,  1.11it/s]\u001b[A\n",
      "Evaluating the model:  45%|████▌     | 221/488 [03:10<03:53,  1.14it/s]\u001b[A\n",
      "Evaluating the model:  45%|████▌     | 222/488 [03:11<03:50,  1.16it/s]\u001b[A\n",
      "Evaluating the model:  46%|████▌     | 223/488 [03:12<03:43,  1.19it/s]\u001b[A\n",
      "Evaluating the model:  46%|████▌     | 224/488 [03:13<03:43,  1.18it/s]\u001b[A\n",
      "Evaluating the model:  46%|████▌     | 225/488 [03:14<03:44,  1.17it/s]\u001b[A\n",
      "Evaluating the model:  46%|████▋     | 226/488 [03:14<03:46,  1.16it/s]\u001b[A\n",
      "Evaluating the model:  47%|████▋     | 227/488 [03:15<03:41,  1.18it/s]\u001b[A\n",
      "Evaluating the model:  47%|████▋     | 228/488 [03:16<03:37,  1.19it/s]\u001b[A\n",
      "Evaluating the model:  47%|████▋     | 229/488 [03:17<03:37,  1.19it/s]\u001b[A\n",
      "Evaluating the model:  47%|████▋     | 230/488 [03:18<03:37,  1.19it/s]\u001b[A\n",
      "Evaluating the model:  47%|████▋     | 231/488 [03:19<03:40,  1.17it/s]\u001b[A\n",
      "Evaluating the model:  48%|████▊     | 232/488 [03:20<03:44,  1.14it/s]\u001b[A\n",
      "Evaluating the model:  48%|████▊     | 233/488 [03:20<03:42,  1.15it/s]\u001b[A\n",
      "Evaluating the model:  48%|████▊     | 234/488 [03:21<03:41,  1.15it/s]\u001b[A\n",
      "Evaluating the model:  48%|████▊     | 235/488 [03:22<03:44,  1.13it/s]\u001b[A\n",
      "Evaluating the model:  48%|████▊     | 236/488 [03:23<03:50,  1.09it/s]\u001b[A\n",
      "Evaluating the model:  49%|████▊     | 237/488 [03:24<03:44,  1.12it/s]\u001b[A\n",
      "Evaluating the model:  49%|████▉     | 238/488 [03:25<03:40,  1.13it/s]\u001b[A\n",
      "Evaluating the model:  49%|████▉     | 239/488 [03:26<03:38,  1.14it/s]\u001b[A\n",
      "Evaluating the model:  49%|████▉     | 240/488 [03:27<03:38,  1.13it/s]\u001b[A\n",
      "Evaluating the model:  49%|████▉     | 241/488 [03:28<03:36,  1.14it/s]\u001b[A\n",
      "Evaluating the model:  50%|████▉     | 242/488 [03:28<03:37,  1.13it/s]\u001b[A\n",
      "Evaluating the model:  50%|████▉     | 243/488 [03:29<03:35,  1.13it/s]\u001b[A\n",
      "Evaluating the model:  50%|█████     | 244/488 [03:30<03:31,  1.16it/s]\u001b[A\n",
      "Evaluating the model:  50%|█████     | 245/488 [03:31<03:29,  1.16it/s]\u001b[A\n",
      "Evaluating the model:  50%|█████     | 246/488 [03:32<03:26,  1.17it/s]\u001b[A\n",
      "Evaluating the model:  51%|█████     | 247/488 [03:33<03:24,  1.18it/s]\u001b[A\n",
      "Evaluating the model:  51%|█████     | 248/488 [03:33<03:18,  1.21it/s]\u001b[A\n",
      "Evaluating the model:  51%|█████     | 249/488 [03:34<03:17,  1.21it/s]\u001b[A\n",
      "Evaluating the model:  51%|█████     | 250/488 [03:35<03:17,  1.20it/s]\u001b[A\n",
      "Evaluating the model:  51%|█████▏    | 251/488 [03:36<03:14,  1.22it/s]\u001b[A\n",
      "Evaluating the model:  52%|█████▏    | 252/488 [03:37<03:13,  1.22it/s]\u001b[A\n",
      "Evaluating the model:  52%|█████▏    | 253/488 [03:38<03:15,  1.20it/s]\u001b[A\n",
      "Evaluating the model:  52%|█████▏    | 254/488 [03:38<03:15,  1.19it/s]\u001b[A\n",
      "Evaluating the model:  52%|█████▏    | 255/488 [03:39<03:14,  1.20it/s]\u001b[A\n",
      "Evaluating the model:  52%|█████▏    | 256/488 [03:40<03:15,  1.19it/s]\u001b[A\n",
      "Evaluating the model:  53%|█████▎    | 257/488 [03:41<03:20,  1.15it/s]\u001b[A\n",
      "Evaluating the model:  53%|█████▎    | 258/488 [03:42<03:16,  1.17it/s]\u001b[A\n",
      "Evaluating the model:  53%|█████▎    | 259/488 [03:43<03:16,  1.16it/s]\u001b[A\n",
      "Evaluating the model:  53%|█████▎    | 260/488 [03:44<03:17,  1.15it/s]\u001b[A\n",
      "Evaluating the model:  53%|█████▎    | 261/488 [03:44<03:15,  1.16it/s]\u001b[A\n",
      "Evaluating the model:  54%|█████▎    | 262/488 [03:45<03:12,  1.17it/s]\u001b[A\n",
      "Evaluating the model:  54%|█████▍    | 263/488 [03:46<03:12,  1.17it/s]\u001b[A\n",
      "Evaluating the model:  54%|█████▍    | 264/488 [03:47<03:12,  1.16it/s]\u001b[A\n",
      "Evaluating the model:  54%|█████▍    | 265/488 [03:48<03:14,  1.15it/s]\u001b[A\n",
      "Evaluating the model:  55%|█████▍    | 266/488 [03:49<03:13,  1.14it/s]\u001b[A\n",
      "Evaluating the model:  55%|█████▍    | 267/488 [03:50<03:09,  1.16it/s]\u001b[A\n",
      "Evaluating the model:  55%|█████▍    | 268/488 [03:50<03:07,  1.17it/s]\u001b[A\n",
      "Evaluating the model:  55%|█████▌    | 269/488 [03:51<03:05,  1.18it/s]\u001b[A\n",
      "Evaluating the model:  55%|█████▌    | 270/488 [03:52<03:01,  1.20it/s]\u001b[A\n",
      "Evaluating the model:  56%|█████▌    | 271/488 [03:53<03:03,  1.18it/s]\u001b[A\n",
      "Evaluating the model:  56%|█████▌    | 272/488 [03:54<03:05,  1.16it/s]\u001b[A\n",
      "Evaluating the model:  56%|█████▌    | 273/488 [03:55<03:05,  1.16it/s]\u001b[A\n",
      "Evaluating the model:  56%|█████▌    | 274/488 [03:56<03:05,  1.16it/s]\u001b[A\n",
      "Evaluating the model:  56%|█████▋    | 275/488 [03:56<03:03,  1.16it/s]\u001b[A\n",
      "Evaluating the model:  57%|█████▋    | 276/488 [03:57<03:02,  1.16it/s]\u001b[A\n",
      "Evaluating the model:  57%|█████▋    | 277/488 [03:58<03:06,  1.13it/s]\u001b[A\n",
      "Evaluating the model:  57%|█████▋    | 278/488 [03:59<03:03,  1.15it/s]\u001b[A\n",
      "Evaluating the model:  57%|█████▋    | 279/488 [04:00<03:00,  1.16it/s]\u001b[A\n",
      "Evaluating the model:  57%|█████▋    | 280/488 [04:01<03:01,  1.15it/s]\u001b[A\n",
      "Evaluating the model:  58%|█████▊    | 281/488 [04:02<03:00,  1.15it/s]\u001b[A\n",
      "Evaluating the model:  58%|█████▊    | 282/488 [04:03<02:56,  1.17it/s]\u001b[A\n",
      "Evaluating the model:  58%|█████▊    | 283/488 [04:03<02:52,  1.19it/s]\u001b[A\n",
      "Evaluating the model:  58%|█████▊    | 284/488 [04:04<02:54,  1.17it/s]\u001b[A\n",
      "Evaluating the model:  58%|█████▊    | 285/488 [04:05<02:53,  1.17it/s]\u001b[A\n",
      "Evaluating the model:  59%|█████▊    | 286/488 [04:06<02:52,  1.17it/s]\u001b[A\n",
      "Evaluating the model:  59%|█████▉    | 287/488 [04:07<02:51,  1.18it/s]\u001b[A\n",
      "Evaluating the model:  59%|█████▉    | 288/488 [04:08<02:52,  1.16it/s]\u001b[A\n",
      "Evaluating the model:  59%|█████▉    | 289/488 [04:08<02:49,  1.17it/s]\u001b[A\n",
      "Evaluating the model:  59%|█████▉    | 290/488 [04:09<02:47,  1.18it/s]\u001b[A\n",
      "Evaluating the model:  60%|█████▉    | 291/488 [04:10<02:47,  1.18it/s]\u001b[A\n",
      "Evaluating the model:  60%|█████▉    | 292/488 [04:11<02:47,  1.17it/s]\u001b[A\n",
      "Evaluating the model:  60%|██████    | 293/488 [04:12<02:46,  1.17it/s]\u001b[A\n",
      "Evaluating the model:  60%|██████    | 294/488 [04:13<02:46,  1.17it/s]\u001b[A\n",
      "Evaluating the model:  60%|██████    | 295/488 [04:14<02:45,  1.16it/s]\u001b[A\n",
      "Evaluating the model:  61%|██████    | 296/488 [04:14<02:43,  1.18it/s]\u001b[A\n",
      "Evaluating the model:  61%|██████    | 297/488 [04:15<02:43,  1.16it/s]\u001b[A\n",
      "Evaluating the model:  61%|██████    | 298/488 [04:16<02:43,  1.16it/s]\u001b[A\n",
      "Evaluating the model:  61%|██████▏   | 299/488 [04:17<02:42,  1.17it/s]\u001b[A\n",
      "Evaluating the model:  61%|██████▏   | 300/488 [04:18<02:41,  1.16it/s]\u001b[A\n",
      "Evaluating the model:  62%|██████▏   | 301/488 [04:19<02:37,  1.18it/s]\u001b[A\n",
      "Evaluating the model:  62%|██████▏   | 302/488 [04:20<02:37,  1.18it/s]\u001b[A\n",
      "Evaluating the model:  62%|██████▏   | 303/488 [04:20<02:36,  1.18it/s]\u001b[A\n",
      "Evaluating the model:  62%|██████▏   | 304/488 [04:21<02:35,  1.18it/s]\u001b[A\n",
      "Evaluating the model:  62%|██████▎   | 305/488 [04:22<02:40,  1.14it/s]\u001b[A\n",
      "Evaluating the model:  63%|██████▎   | 306/488 [04:23<02:38,  1.15it/s]\u001b[A\n",
      "Evaluating the model:  63%|██████▎   | 307/488 [04:24<02:35,  1.16it/s]\u001b[A\n",
      "Evaluating the model:  63%|██████▎   | 308/488 [04:25<02:35,  1.16it/s]\u001b[A\n",
      "Evaluating the model:  63%|██████▎   | 309/488 [04:26<02:33,  1.17it/s]\u001b[A\n",
      "Evaluating the model:  64%|██████▎   | 310/488 [04:26<02:29,  1.19it/s]\u001b[A\n",
      "Evaluating the model:  64%|██████▎   | 311/488 [04:27<02:31,  1.17it/s]\u001b[A\n",
      "Evaluating the model:  64%|██████▍   | 312/488 [04:28<02:29,  1.18it/s]\u001b[A\n",
      "Evaluating the model:  64%|██████▍   | 313/488 [04:29<02:31,  1.15it/s]\u001b[A\n",
      "Evaluating the model:  64%|██████▍   | 314/488 [04:30<02:29,  1.16it/s]\u001b[A\n",
      "Evaluating the model:  65%|██████▍   | 315/488 [04:31<02:29,  1.16it/s]\u001b[A\n",
      "Evaluating the model:  65%|██████▍   | 316/488 [04:32<02:26,  1.18it/s]\u001b[A\n",
      "Evaluating the model:  65%|██████▍   | 317/488 [04:32<02:26,  1.17it/s]\u001b[A\n",
      "Evaluating the model:  65%|██████▌   | 318/488 [04:33<02:26,  1.16it/s]\u001b[A\n",
      "Evaluating the model:  65%|██████▌   | 319/488 [04:34<02:24,  1.17it/s]\u001b[A\n",
      "Evaluating the model:  66%|██████▌   | 320/488 [04:35<02:21,  1.19it/s]\u001b[A\n",
      "Evaluating the model:  66%|██████▌   | 321/488 [04:36<02:20,  1.19it/s]\u001b[A\n",
      "Evaluating the model:  66%|██████▌   | 322/488 [04:37<02:16,  1.22it/s]\u001b[A\n",
      "Evaluating the model:  66%|██████▌   | 323/488 [04:37<02:16,  1.21it/s]\u001b[A\n",
      "Evaluating the model:  66%|██████▋   | 324/488 [04:38<02:16,  1.20it/s]\u001b[A\n",
      "Evaluating the model:  67%|██████▋   | 325/488 [04:39<02:14,  1.21it/s]\u001b[A\n",
      "Evaluating the model:  67%|██████▋   | 326/488 [04:40<02:12,  1.22it/s]\u001b[A\n",
      "Evaluating the model:  67%|██████▋   | 327/488 [04:41<02:12,  1.22it/s]\u001b[A\n",
      "Evaluating the model:  67%|██████▋   | 328/488 [04:42<02:13,  1.20it/s]\u001b[A\n",
      "Evaluating the model:  67%|██████▋   | 329/488 [04:42<02:13,  1.19it/s]\u001b[A\n",
      "Evaluating the model:  68%|██████▊   | 330/488 [04:43<02:13,  1.18it/s]\u001b[A\n",
      "Evaluating the model:  68%|██████▊   | 331/488 [04:44<02:12,  1.18it/s]\u001b[A\n",
      "Evaluating the model:  68%|██████▊   | 332/488 [04:45<02:15,  1.15it/s]\u001b[A\n",
      "Evaluating the model:  68%|██████▊   | 333/488 [04:46<02:14,  1.15it/s]\u001b[A\n",
      "Evaluating the model:  68%|██████▊   | 334/488 [04:47<02:14,  1.14it/s]\u001b[A\n",
      "Evaluating the model:  69%|██████▊   | 335/488 [04:48<02:15,  1.13it/s]\u001b[A\n",
      "Evaluating the model:  69%|██████▉   | 336/488 [04:49<02:14,  1.13it/s]\u001b[A\n",
      "Evaluating the model:  69%|██████▉   | 337/488 [04:50<02:13,  1.13it/s]\u001b[A\n",
      "Evaluating the model:  69%|██████▉   | 338/488 [04:50<02:10,  1.15it/s]\u001b[A\n",
      "Evaluating the model:  69%|██████▉   | 339/488 [04:51<02:09,  1.15it/s]\u001b[A\n",
      "Evaluating the model:  70%|██████▉   | 340/488 [04:52<02:08,  1.15it/s]\u001b[A\n",
      "Evaluating the model:  70%|██████▉   | 341/488 [04:53<02:07,  1.16it/s]\u001b[A\n",
      "Evaluating the model:  70%|███████   | 342/488 [04:54<02:06,  1.15it/s]\u001b[A\n",
      "Evaluating the model:  70%|███████   | 343/488 [04:55<02:06,  1.15it/s]\u001b[A\n",
      "Evaluating the model:  70%|███████   | 344/488 [04:55<02:02,  1.17it/s]\u001b[A\n",
      "Evaluating the model:  71%|███████   | 345/488 [04:56<01:59,  1.19it/s]\u001b[A\n",
      "Evaluating the model:  71%|███████   | 346/488 [04:57<01:58,  1.20it/s]\u001b[A\n",
      "Evaluating the model:  71%|███████   | 347/488 [04:58<01:57,  1.20it/s]\u001b[A\n",
      "Evaluating the model:  71%|███████▏  | 348/488 [04:59<01:56,  1.20it/s]\u001b[A\n",
      "Evaluating the model:  72%|███████▏  | 349/488 [05:00<01:57,  1.18it/s]\u001b[A\n",
      "Evaluating the model:  72%|███████▏  | 350/488 [05:01<01:58,  1.17it/s]\u001b[A\n",
      "Evaluating the model:  72%|███████▏  | 351/488 [05:01<02:01,  1.13it/s]\u001b[A\n",
      "Evaluating the model:  72%|███████▏  | 352/488 [05:02<01:59,  1.14it/s]\u001b[A\n",
      "Evaluating the model:  72%|███████▏  | 353/488 [05:03<02:03,  1.09it/s]\u001b[A\n",
      "Evaluating the model:  73%|███████▎  | 354/488 [05:04<02:00,  1.11it/s]\u001b[A\n",
      "Evaluating the model:  73%|███████▎  | 355/488 [05:05<01:59,  1.11it/s]\u001b[A\n",
      "Evaluating the model:  73%|███████▎  | 356/488 [05:06<01:57,  1.12it/s]\u001b[A\n",
      "Evaluating the model:  73%|███████▎  | 357/488 [05:07<01:56,  1.13it/s]\u001b[A\n",
      "Evaluating the model:  73%|███████▎  | 358/488 [05:08<01:54,  1.14it/s]\u001b[A\n",
      "Evaluating the model:  74%|███████▎  | 359/488 [05:09<01:50,  1.16it/s]\u001b[A\n",
      "Evaluating the model:  74%|███████▍  | 360/488 [05:09<01:49,  1.17it/s]\u001b[A\n",
      "Evaluating the model:  74%|███████▍  | 361/488 [05:10<01:48,  1.17it/s]\u001b[A\n",
      "Evaluating the model:  74%|███████▍  | 362/488 [05:11<01:47,  1.17it/s]\u001b[A\n",
      "Evaluating the model:  74%|███████▍  | 363/488 [05:12<01:44,  1.19it/s]\u001b[A\n",
      "Evaluating the model:  75%|███████▍  | 364/488 [05:13<01:44,  1.19it/s]\u001b[A\n",
      "Evaluating the model:  75%|███████▍  | 365/488 [05:14<01:42,  1.20it/s]\u001b[A\n",
      "Evaluating the model:  75%|███████▌  | 366/488 [05:14<01:42,  1.20it/s]\u001b[A\n",
      "Evaluating the model:  75%|███████▌  | 367/488 [05:15<01:40,  1.20it/s]\u001b[A\n",
      "Evaluating the model:  75%|███████▌  | 368/488 [05:16<01:42,  1.17it/s]\u001b[A\n",
      "Evaluating the model:  76%|███████▌  | 369/488 [05:17<01:41,  1.17it/s]\u001b[A\n",
      "Evaluating the model:  76%|███████▌  | 370/488 [05:18<01:39,  1.19it/s]\u001b[A\n"
     ]
    },
    {
     "name": "stderr",
     "output_type": "stream",
     "text": [
      "Evaluating the model:  76%|███████▌  | 371/488 [05:19<01:38,  1.19it/s]\u001b[A\n",
      "Evaluating the model:  76%|███████▌  | 372/488 [05:19<01:37,  1.19it/s]\u001b[A\n",
      "Evaluating the model:  76%|███████▋  | 373/488 [05:20<01:37,  1.18it/s]\u001b[A\n",
      "Evaluating the model:  77%|███████▋  | 374/488 [05:21<01:35,  1.19it/s]\u001b[A\n",
      "Evaluating the model:  77%|███████▋  | 375/488 [05:22<01:33,  1.20it/s]\u001b[A\n",
      "Evaluating the model:  77%|███████▋  | 376/488 [05:23<01:35,  1.17it/s]\u001b[A\n",
      "Evaluating the model:  77%|███████▋  | 377/488 [05:24<01:34,  1.18it/s]\u001b[A\n",
      "Evaluating the model:  77%|███████▋  | 378/488 [05:25<01:36,  1.14it/s]\u001b[A\n",
      "Evaluating the model:  78%|███████▊  | 379/488 [05:26<01:39,  1.09it/s]\u001b[A\n",
      "Evaluating the model:  78%|███████▊  | 380/488 [05:27<01:39,  1.09it/s]\u001b[A\n",
      "Evaluating the model:  78%|███████▊  | 381/488 [05:27<01:35,  1.12it/s]\u001b[A\n",
      "Evaluating the model:  78%|███████▊  | 382/488 [05:28<01:32,  1.15it/s]\u001b[A\n",
      "Evaluating the model:  78%|███████▊  | 383/488 [05:29<01:30,  1.16it/s]\u001b[A\n",
      "Evaluating the model:  79%|███████▊  | 384/488 [05:30<01:28,  1.18it/s]\u001b[A\n",
      "Evaluating the model:  79%|███████▉  | 385/488 [05:31<01:31,  1.13it/s]\u001b[A\n",
      "Evaluating the model:  79%|███████▉  | 386/488 [05:32<01:33,  1.09it/s]\u001b[A\n",
      "Evaluating the model:  79%|███████▉  | 387/488 [05:33<01:30,  1.11it/s]\u001b[A\n",
      "Evaluating the model:  80%|███████▉  | 388/488 [05:34<01:29,  1.12it/s]\u001b[A\n",
      "Evaluating the model:  80%|███████▉  | 389/488 [05:34<01:27,  1.13it/s]\u001b[A\n",
      "Evaluating the model:  80%|███████▉  | 390/488 [05:35<01:25,  1.15it/s]\u001b[A\n",
      "Evaluating the model:  80%|████████  | 391/488 [05:36<01:22,  1.17it/s]\u001b[A\n",
      "Evaluating the model:  80%|████████  | 392/488 [05:37<01:22,  1.16it/s]\u001b[A\n",
      "Evaluating the model:  81%|████████  | 393/488 [05:38<01:21,  1.16it/s]\u001b[A\n",
      "Evaluating the model:  81%|████████  | 394/488 [05:39<01:19,  1.18it/s]\u001b[A\n",
      "Evaluating the model:  81%|████████  | 395/488 [05:39<01:18,  1.19it/s]\u001b[A\n",
      "Evaluating the model:  81%|████████  | 396/488 [05:40<01:17,  1.19it/s]\u001b[A\n",
      "Evaluating the model:  81%|████████▏ | 397/488 [05:41<01:15,  1.21it/s]\u001b[A\n",
      "Evaluating the model:  82%|████████▏ | 398/488 [05:42<01:15,  1.20it/s]\u001b[A\n",
      "Evaluating the model:  82%|████████▏ | 399/488 [05:43<01:14,  1.20it/s]\u001b[A\n",
      "Evaluating the model:  82%|████████▏ | 400/488 [05:44<01:15,  1.17it/s]\u001b[A\n",
      "Evaluating the model:  82%|████████▏ | 401/488 [05:45<01:17,  1.12it/s]\u001b[A\n",
      "Evaluating the model:  82%|████████▏ | 402/488 [05:46<01:16,  1.12it/s]\u001b[A\n",
      "Evaluating the model:  83%|████████▎ | 403/488 [05:46<01:13,  1.16it/s]\u001b[A\n",
      "Evaluating the model:  83%|████████▎ | 404/488 [05:47<01:12,  1.16it/s]\u001b[A\n",
      "Evaluating the model:  83%|████████▎ | 405/488 [05:48<01:10,  1.18it/s]\u001b[A\n",
      "Evaluating the model:  83%|████████▎ | 406/488 [05:49<01:09,  1.19it/s]\u001b[A\n",
      "Evaluating the model:  83%|████████▎ | 407/488 [05:50<01:09,  1.16it/s]\u001b[A\n",
      "Evaluating the model:  84%|████████▎ | 408/488 [05:51<01:09,  1.16it/s]\u001b[A\n",
      "Evaluating the model:  84%|████████▍ | 409/488 [05:52<01:08,  1.15it/s]\u001b[A\n",
      "Evaluating the model:  84%|████████▍ | 410/488 [05:52<01:08,  1.14it/s]\u001b[A\n",
      "Evaluating the model:  84%|████████▍ | 411/488 [05:53<01:06,  1.15it/s]\u001b[A\n",
      "Evaluating the model:  84%|████████▍ | 412/488 [05:54<01:06,  1.14it/s]\u001b[A\n",
      "Evaluating the model:  85%|████████▍ | 413/488 [05:55<01:05,  1.15it/s]\u001b[A\n",
      "Evaluating the model:  85%|████████▍ | 414/488 [05:56<01:04,  1.14it/s]\u001b[A\n",
      "Evaluating the model:  85%|████████▌ | 415/488 [05:57<01:02,  1.17it/s]\u001b[A\n",
      "Evaluating the model:  85%|████████▌ | 416/488 [05:58<01:01,  1.18it/s]\u001b[A\n",
      "Evaluating the model:  85%|████████▌ | 417/488 [05:58<01:00,  1.17it/s]\u001b[A\n",
      "Evaluating the model:  86%|████████▌ | 418/488 [05:59<01:00,  1.16it/s]\u001b[A\n",
      "Evaluating the model:  86%|████████▌ | 419/488 [06:00<00:59,  1.15it/s]\u001b[A\n",
      "Evaluating the model:  86%|████████▌ | 420/488 [06:01<00:58,  1.17it/s]\u001b[A\n",
      "Evaluating the model:  86%|████████▋ | 421/488 [06:02<00:57,  1.16it/s]\u001b[A\n",
      "Evaluating the model:  86%|████████▋ | 422/488 [06:03<00:55,  1.18it/s]\u001b[A\n",
      "Evaluating the model:  87%|████████▋ | 423/488 [06:04<00:55,  1.18it/s]\u001b[A\n",
      "Evaluating the model:  87%|████████▋ | 424/488 [06:04<00:55,  1.16it/s]\u001b[A\n",
      "Evaluating the model:  87%|████████▋ | 425/488 [06:05<00:53,  1.17it/s]\u001b[A\n",
      "Evaluating the model:  87%|████████▋ | 426/488 [06:06<00:52,  1.17it/s]\u001b[A\n",
      "Evaluating the model:  88%|████████▊ | 427/488 [06:07<00:51,  1.17it/s]\u001b[A\n",
      "Evaluating the model:  88%|████████▊ | 428/488 [06:08<00:55,  1.08it/s]\u001b[A\n",
      "Evaluating the model:  88%|████████▊ | 429/488 [06:09<00:53,  1.10it/s]\u001b[A\n",
      "Evaluating the model:  88%|████████▊ | 430/488 [06:10<00:51,  1.13it/s]\u001b[A\n",
      "Evaluating the model:  88%|████████▊ | 431/488 [06:11<00:49,  1.16it/s]\u001b[A\n",
      "Evaluating the model:  89%|████████▊ | 432/488 [06:11<00:47,  1.17it/s]\u001b[A\n",
      "Evaluating the model:  89%|████████▊ | 433/488 [06:12<00:47,  1.16it/s]\u001b[A\n",
      "Evaluating the model:  89%|████████▉ | 434/488 [06:13<00:46,  1.17it/s]\u001b[A\n",
      "Evaluating the model:  89%|████████▉ | 435/488 [06:14<00:45,  1.17it/s]\u001b[A\n",
      "Evaluating the model:  89%|████████▉ | 436/488 [06:15<00:44,  1.16it/s]\u001b[A\n",
      "Evaluating the model:  90%|████████▉ | 437/488 [06:16<00:44,  1.15it/s]\u001b[A\n",
      "Evaluating the model:  90%|████████▉ | 438/488 [06:17<00:43,  1.14it/s]\u001b[A\n",
      "Evaluating the model:  90%|████████▉ | 439/488 [06:18<00:43,  1.11it/s]\u001b[A\n",
      "Evaluating the model:  90%|█████████ | 440/488 [06:18<00:41,  1.15it/s]\u001b[A\n",
      "Evaluating the model:  90%|█████████ | 441/488 [06:19<00:40,  1.16it/s]\u001b[A\n",
      "Evaluating the model:  91%|█████████ | 442/488 [06:20<00:39,  1.16it/s]\u001b[A\n",
      "Evaluating the model:  91%|█████████ | 443/488 [06:21<00:38,  1.16it/s]\u001b[A\n",
      "Evaluating the model:  91%|█████████ | 444/488 [06:22<00:38,  1.14it/s]\u001b[A\n",
      "Evaluating the model:  91%|█████████ | 445/488 [06:23<00:37,  1.15it/s]\u001b[A\n",
      "Evaluating the model:  91%|█████████▏| 446/488 [06:24<00:37,  1.13it/s]\u001b[A\n",
      "Evaluating the model:  92%|█████████▏| 447/488 [06:25<00:35,  1.15it/s]\u001b[A\n",
      "Evaluating the model:  92%|█████████▏| 448/488 [06:25<00:34,  1.16it/s]\u001b[A\n",
      "Evaluating the model:  92%|█████████▏| 449/488 [06:26<00:33,  1.17it/s]\u001b[A\n",
      "Evaluating the model:  92%|█████████▏| 450/488 [06:27<00:32,  1.15it/s]\u001b[A\n",
      "Evaluating the model:  92%|█████████▏| 451/488 [06:28<00:31,  1.16it/s]\u001b[A\n",
      "Evaluating the model:  93%|█████████▎| 452/488 [06:29<00:31,  1.15it/s]\u001b[A\n",
      "Evaluating the model:  93%|█████████▎| 453/488 [06:30<00:30,  1.14it/s]\u001b[A\n",
      "Evaluating the model:  93%|█████████▎| 454/488 [06:31<00:29,  1.17it/s]\u001b[A\n",
      "Evaluating the model:  93%|█████████▎| 455/488 [06:31<00:28,  1.16it/s]\u001b[A\n",
      "Evaluating the model:  93%|█████████▎| 456/488 [06:32<00:27,  1.17it/s]\u001b[A\n",
      "Evaluating the model:  94%|█████████▎| 457/488 [06:33<00:26,  1.19it/s]\u001b[A\n",
      "Evaluating the model:  94%|█████████▍| 458/488 [06:34<00:25,  1.19it/s]\u001b[A\n",
      "Evaluating the model:  94%|█████████▍| 459/488 [06:35<00:24,  1.19it/s]\u001b[A\n",
      "Evaluating the model:  94%|█████████▍| 460/488 [06:36<00:23,  1.17it/s]\u001b[A\n",
      "Evaluating the model:  94%|█████████▍| 461/488 [06:36<00:23,  1.17it/s]\u001b[A\n",
      "Evaluating the model:  95%|█████████▍| 462/488 [06:37<00:22,  1.17it/s]\u001b[A\n",
      "Evaluating the model:  95%|█████████▍| 463/488 [06:38<00:21,  1.16it/s]\u001b[A\n",
      "Evaluating the model:  95%|█████████▌| 464/488 [06:39<00:20,  1.16it/s]\u001b[A\n",
      "Evaluating the model:  95%|█████████▌| 465/488 [06:40<00:20,  1.14it/s]\u001b[A\n",
      "Evaluating the model:  95%|█████████▌| 466/488 [06:41<00:18,  1.16it/s]\u001b[A\n",
      "Evaluating the model:  96%|█████████▌| 467/488 [06:42<00:17,  1.19it/s]\u001b[A\n",
      "Evaluating the model:  96%|█████████▌| 468/488 [06:43<00:17,  1.15it/s]\u001b[A\n",
      "Evaluating the model:  96%|█████████▌| 469/488 [06:43<00:16,  1.13it/s]\u001b[A\n",
      "Evaluating the model:  96%|█████████▋| 470/488 [06:44<00:15,  1.14it/s]\u001b[A\n",
      "Evaluating the model:  97%|█████████▋| 471/488 [06:45<00:14,  1.15it/s]\u001b[A\n",
      "Evaluating the model:  97%|█████████▋| 472/488 [06:46<00:13,  1.16it/s]\u001b[A\n",
      "Evaluating the model:  97%|█████████▋| 473/488 [06:47<00:12,  1.17it/s]\u001b[A\n",
      "Evaluating the model:  97%|█████████▋| 474/488 [06:48<00:11,  1.17it/s]\u001b[A\n",
      "Evaluating the model:  97%|█████████▋| 475/488 [06:49<00:10,  1.18it/s]\u001b[A\n",
      "Evaluating the model:  98%|█████████▊| 476/488 [06:49<00:09,  1.21it/s]\u001b[A\n",
      "Evaluating the model:  98%|█████████▊| 477/488 [06:50<00:09,  1.17it/s]\u001b[A\n",
      "Evaluating the model:  98%|█████████▊| 478/488 [06:51<00:08,  1.17it/s]\u001b[A\n",
      "Evaluating the model:  98%|█████████▊| 479/488 [06:52<00:07,  1.16it/s]\u001b[A\n",
      "Evaluating the model:  98%|█████████▊| 480/488 [06:53<00:06,  1.15it/s]\u001b[A\n",
      "Evaluating the model:  99%|█████████▊| 481/488 [06:54<00:06,  1.14it/s]\u001b[A\n",
      "Evaluating the model:  99%|█████████▉| 482/488 [06:55<00:05,  1.10it/s]\u001b[A\n",
      "Evaluating the model:  99%|█████████▉| 483/488 [06:56<00:04,  1.12it/s]\u001b[A\n",
      "Evaluating the model:  99%|█████████▉| 484/488 [06:57<00:03,  1.10it/s]\u001b[A\n",
      "Evaluating the model:  99%|█████████▉| 485/488 [06:58<00:02,  1.07it/s]\u001b[A\n",
      "Evaluating the model: 100%|█████████▉| 486/488 [06:58<00:01,  1.10it/s]\u001b[A\n",
      "Evaluating the model: 100%|█████████▉| 487/488 [06:59<00:00,  1.14it/s]\u001b[A\n",
      "Evaluating the model: 100%|██████████| 488/488 [07:00<00:00,  1.13it/s]\u001b[A\n",
      "\u001b[A"
     ]
    }
   ],
   "source": [
    "r = []\n",
    "for n, version in enumerate(['32e1f20.0', 'bb949b2.4']):\n",
    "    r.append(recompute_results(version, save=True))"
   ]
  },
  {
   "cell_type": "code",
   "execution_count": 6,
   "metadata": {},
   "outputs": [
    {
     "name": "stderr",
     "output_type": "stream",
     "text": [
      "Evaluating the model: 100%|██████████| 488/488 [00:40<00:00, 12.00it/s]\n",
      "/home/js7561/miniconda3/envs/py35milsed/lib/python3.5/site-packages/sklearn/metrics/classification.py:1113: UndefinedMetricWarning: F-score is ill-defined and being set to 0.0 in labels with no predicted samples.\n",
      "  'precision', 'predicted', average, warn_for)\n",
      "/home/js7561/miniconda3/envs/py35milsed/lib/python3.5/site-packages/sklearn/metrics/classification.py:1113: UndefinedMetricWarning: Precision is ill-defined and being set to 0.0 in labels with no predicted samples.\n",
      "  'precision', 'predicted', average, warn_for)\n",
      "/home/js7561/miniconda3/envs/py35milsed/lib/python3.5/site-packages/sklearn/metrics/classification.py:1113: UndefinedMetricWarning: F-score is ill-defined and being set to 0.0 in samples with no predicted labels.\n",
      "  'precision', 'predicted', average, warn_for)\n",
      "/home/js7561/miniconda3/envs/py35milsed/lib/python3.5/site-packages/sklearn/metrics/classification.py:1113: UndefinedMetricWarning: Precision is ill-defined and being set to 0.0 in samples with no predicted labels.\n",
      "  'precision', 'predicted', average, warn_for)\n",
      "Evaluating the model: 100%|██████████| 488/488 [02:15<00:00,  3.46it/s]\n"
     ]
    }
   ],
   "source": [
    "r = []\n",
    "for n, version in enumerate(['.0', '.2']):\n",
    "    r.append(recompute_results(version, save=True))"
   ]
  },
  {
   "cell_type": "code",
   "execution_count": 5,
   "metadata": {},
   "outputs": [
    {
     "name": "stderr",
     "output_type": "stream",
     "text": [
      "Evaluating the model: 100%|██████████| 488/488 [02:04<00:00,  3.96it/s]\n",
      "/home/js7561/miniconda3/envs/py35milsed/lib/python3.5/site-packages/sklearn/metrics/classification.py:1113: UndefinedMetricWarning: F-score is ill-defined and being set to 0.0 in labels with no predicted samples.\n",
      "  'precision', 'predicted', average, warn_for)\n",
      "/home/js7561/miniconda3/envs/py35milsed/lib/python3.5/site-packages/sklearn/metrics/classification.py:1113: UndefinedMetricWarning: Precision is ill-defined and being set to 0.0 in labels with no predicted samples.\n",
      "  'precision', 'predicted', average, warn_for)\n",
      "/home/js7561/miniconda3/envs/py35milsed/lib/python3.5/site-packages/sklearn/metrics/classification.py:1113: UndefinedMetricWarning: F-score is ill-defined and being set to 0.0 in samples with no predicted labels.\n",
      "  'precision', 'predicted', average, warn_for)\n",
      "/home/js7561/miniconda3/envs/py35milsed/lib/python3.5/site-packages/sklearn/metrics/classification.py:1113: UndefinedMetricWarning: Precision is ill-defined and being set to 0.0 in samples with no predicted labels.\n",
      "  'precision', 'predicted', average, warn_for)\n"
     ]
    }
   ],
   "source": [
    "r = []\n",
    "for n, version in enumerate(['model002']):\n",
    "    r.append(recompute_results(version, save=True))"
   ]
  },
  {
   "cell_type": "code",
   "execution_count": 6,
   "metadata": {},
   "outputs": [
    {
     "name": "stderr",
     "output_type": "stream",
     "text": [
      "Evaluating the model: 100%|██████████| 488/488 [01:15<00:00,  6.72it/s]\n",
      "/home/js7561/miniconda3/envs/py35milsed/lib/python3.5/site-packages/sklearn/metrics/classification.py:1113: UndefinedMetricWarning: F-score is ill-defined and being set to 0.0 in labels with no predicted samples.\n",
      "  'precision', 'predicted', average, warn_for)\n",
      "/home/js7561/miniconda3/envs/py35milsed/lib/python3.5/site-packages/sklearn/metrics/classification.py:1113: UndefinedMetricWarning: Precision is ill-defined and being set to 0.0 in labels with no predicted samples.\n",
      "  'precision', 'predicted', average, warn_for)\n",
      "/home/js7561/miniconda3/envs/py35milsed/lib/python3.5/site-packages/sklearn/metrics/classification.py:1113: UndefinedMetricWarning: F-score is ill-defined and being set to 0.0 in samples with no predicted labels.\n",
      "  'precision', 'predicted', average, warn_for)\n",
      "/home/js7561/miniconda3/envs/py35milsed/lib/python3.5/site-packages/sklearn/metrics/classification.py:1113: UndefinedMetricWarning: Precision is ill-defined and being set to 0.0 in samples with no predicted labels.\n",
      "  'precision', 'predicted', average, warn_for)\n",
      "Evaluating the model: 100%|██████████| 488/488 [01:14<00:00,  7.10it/s]\n",
      "Evaluating the model: 100%|██████████| 488/488 [01:27<00:00,  5.77it/s]\n",
      "Evaluating the model: 100%|██████████| 488/488 [02:22<00:00,  3.41it/s]\n",
      "Evaluating the model: 100%|██████████| 488/488 [00:48<00:00, 10.09it/s]\n"
     ]
    },
    {
     "ename": "KeyError",
     "evalue": "'crnnL3_3_smp'",
     "output_type": "error",
     "traceback": [
      "\u001b[0;31m---------------------------------------------------------------------------\u001b[0m",
      "\u001b[0;31mKeyError\u001b[0m                                  Traceback (most recent call last)",
      "\u001b[0;32m<ipython-input-6-f4c0c58a9321>\u001b[0m in \u001b[0;36m<module>\u001b[0;34m()\u001b[0m\n\u001b[1;32m      1\u001b[0m \u001b[0mr\u001b[0m \u001b[0;34m=\u001b[0m \u001b[0;34m[\u001b[0m\u001b[0;34m]\u001b[0m\u001b[0;34m\u001b[0m\u001b[0m\n\u001b[1;32m      2\u001b[0m \u001b[0;32mfor\u001b[0m \u001b[0mn\u001b[0m\u001b[0;34m,\u001b[0m \u001b[0mversion\u001b[0m \u001b[0;32min\u001b[0m \u001b[0menumerate\u001b[0m\u001b[0;34m(\u001b[0m\u001b[0;34m[\u001b[0m\u001b[0;34m'model002'\u001b[0m\u001b[0;34m,\u001b[0m \u001b[0;34m'model003'\u001b[0m\u001b[0;34m,\u001b[0m \u001b[0;34m'model004'\u001b[0m\u001b[0;34m,\u001b[0m \u001b[0;34m'model005'\u001b[0m\u001b[0;34m,\u001b[0m \u001b[0;34m'model006'\u001b[0m\u001b[0;34m,\u001b[0m \u001b[0;34m'model007'\u001b[0m\u001b[0;34m]\u001b[0m\u001b[0;34m)\u001b[0m\u001b[0;34m:\u001b[0m\u001b[0;34m\u001b[0m\u001b[0m\n\u001b[0;32m----> 3\u001b[0;31m     \u001b[0mr\u001b[0m\u001b[0;34m.\u001b[0m\u001b[0mappend\u001b[0m\u001b[0;34m(\u001b[0m\u001b[0mrecompute_results\u001b[0m\u001b[0;34m(\u001b[0m\u001b[0mversion\u001b[0m\u001b[0;34m,\u001b[0m \u001b[0msave\u001b[0m\u001b[0;34m=\u001b[0m\u001b[0;32mTrue\u001b[0m\u001b[0;34m)\u001b[0m\u001b[0;34m)\u001b[0m\u001b[0;34m\u001b[0m\u001b[0m\n\u001b[0m",
      "\u001b[0;32m<ipython-input-4-07d9cf272c5f>\u001b[0m in \u001b[0;36mrecompute_results\u001b[0;34m(version, save)\u001b[0m\n\u001b[1;32m      3\u001b[0m     \u001b[0mweight_path\u001b[0m \u001b[0;34m=\u001b[0m \u001b[0mos\u001b[0m\u001b[0;34m.\u001b[0m\u001b[0mpath\u001b[0m\u001b[0;34m.\u001b[0m\u001b[0mjoin\u001b[0m\u001b[0;34m(\u001b[0m\u001b[0mOUTPUT_PATH\u001b[0m\u001b[0;34m,\u001b[0m \u001b[0mversion\u001b[0m\u001b[0;34m,\u001b[0m \u001b[0;34m'model.h5'\u001b[0m\u001b[0;34m)\u001b[0m\u001b[0;34m\u001b[0m\u001b[0m\n\u001b[1;32m      4\u001b[0m     \u001b[0mparams\u001b[0m \u001b[0;34m=\u001b[0m \u001b[0mjson\u001b[0m\u001b[0;34m.\u001b[0m\u001b[0mload\u001b[0m\u001b[0;34m(\u001b[0m\u001b[0mopen\u001b[0m\u001b[0;34m(\u001b[0m\u001b[0mos\u001b[0m\u001b[0;34m.\u001b[0m\u001b[0mpath\u001b[0m\u001b[0;34m.\u001b[0m\u001b[0mjoin\u001b[0m\u001b[0;34m(\u001b[0m\u001b[0mOUTPUT_PATH\u001b[0m\u001b[0;34m,\u001b[0m \u001b[0mversion\u001b[0m\u001b[0;34m,\u001b[0m \u001b[0;34m'params.json'\u001b[0m\u001b[0;34m)\u001b[0m\u001b[0;34m,\u001b[0m \u001b[0;34m'r'\u001b[0m\u001b[0;34m)\u001b[0m\u001b[0;34m)\u001b[0m\u001b[0;34m\u001b[0m\u001b[0m\n\u001b[0;32m----> 5\u001b[0;31m     \u001b[0mmodel\u001b[0m\u001b[0;34m,\u001b[0m \u001b[0minputs\u001b[0m\u001b[0;34m,\u001b[0m \u001b[0moutputs\u001b[0m \u001b[0;34m=\u001b[0m \u001b[0mtrain\u001b[0m\u001b[0;34m.\u001b[0m\u001b[0mMODELS\u001b[0m\u001b[0;34m[\u001b[0m\u001b[0mparams\u001b[0m\u001b[0;34m[\u001b[0m\u001b[0;34m'modelname'\u001b[0m\u001b[0;34m]\u001b[0m\u001b[0;34m]\u001b[0m\u001b[0;34m(\u001b[0m\u001b[0mpump\u001b[0m\u001b[0;34m,\u001b[0m \u001b[0malpha\u001b[0m\u001b[0;34m=\u001b[0m\u001b[0;36m1.0\u001b[0m\u001b[0;34m)\u001b[0m\u001b[0;34m\u001b[0m\u001b[0m\n\u001b[0m\u001b[1;32m      6\u001b[0m     \u001b[0mmodel\u001b[0m\u001b[0;34m.\u001b[0m\u001b[0mload_weights\u001b[0m\u001b[0;34m(\u001b[0m\u001b[0mweight_path\u001b[0m\u001b[0;34m)\u001b[0m\u001b[0;34m\u001b[0m\u001b[0m\n\u001b[1;32m      7\u001b[0m     \u001b[0mresults\u001b[0m \u001b[0;34m=\u001b[0m \u001b[0mmilsed\u001b[0m\u001b[0;34m.\u001b[0m\u001b[0meval\u001b[0m\u001b[0;34m.\u001b[0m\u001b[0mscore_model\u001b[0m\u001b[0;34m(\u001b[0m\u001b[0mOUTPUT_PATH\u001b[0m\u001b[0;34m,\u001b[0m \u001b[0mpump\u001b[0m\u001b[0;34m,\u001b[0m \u001b[0mmodel\u001b[0m\u001b[0;34m,\u001b[0m \u001b[0mtest_idx\u001b[0m\u001b[0;34m,\u001b[0m \u001b[0mpumpfolder\u001b[0m\u001b[0;34m,\u001b[0m \u001b[0mlabelfile\u001b[0m\u001b[0;34m,\u001b[0m \u001b[0mduration\u001b[0m\u001b[0;34m,\u001b[0m \u001b[0mversion\u001b[0m\u001b[0;34m,\u001b[0m \u001b[0muse_tqdm\u001b[0m\u001b[0;34m=\u001b[0m\u001b[0;32mTrue\u001b[0m\u001b[0;34m)\u001b[0m\u001b[0;34m\u001b[0m\u001b[0m\n",
      "\u001b[0;31mKeyError\u001b[0m: 'crnnL3_3_smp'"
     ]
    }
   ],
   "source": [
    "r = []\n",
    "for n, version in enumerate(['model002', 'model003', 'model004', 'model005', 'model006', 'model007']):\n",
    "    r.append(recompute_results(version, save=True))"
   ]
  },
  {
   "cell_type": "code",
   "execution_count": 6,
   "metadata": {
    "collapsed": true
   },
   "outputs": [],
   "source": [
    "L3, _, _ = milsed.models.MODELS['crnnL3_smp'](pump, 1.0)"
   ]
  },
  {
   "cell_type": "code",
   "execution_count": 7,
   "metadata": {},
   "outputs": [
    {
     "name": "stdout",
     "output_type": "stream",
     "text": [
      "_________________________________________________________________\n",
      "Layer (type)                 Output Shape              Param #   \n",
      "=================================================================\n",
      "mel/mag (InputLayer)         (None, None, 128, 1)      0         \n",
      "_________________________________________________________________\n",
      "batch_normalization_11 (Batc (None, None, 128, 1)      4         \n",
      "_________________________________________________________________\n",
      "conv2d_10 (Conv2D)           (None, None, 128, 64)     640       \n",
      "_________________________________________________________________\n",
      "batch_normalization_12 (Batc (None, None, 128, 64)     256       \n",
      "_________________________________________________________________\n",
      "conv2d_11 (Conv2D)           (None, None, 128, 64)     36928     \n",
      "_________________________________________________________________\n",
      "batch_normalization_13 (Batc (None, None, 128, 64)     256       \n",
      "_________________________________________________________________\n",
      "max_pooling2d_5 (MaxPooling2 (None, None, 64, 64)      0         \n",
      "_________________________________________________________________\n",
      "conv2d_12 (Conv2D)           (None, None, 64, 128)     73856     \n",
      "_________________________________________________________________\n",
      "batch_normalization_14 (Batc (None, None, 64, 128)     512       \n",
      "_________________________________________________________________\n",
      "conv2d_13 (Conv2D)           (None, None, 64, 128)     147584    \n",
      "_________________________________________________________________\n",
      "batch_normalization_15 (Batc (None, None, 64, 128)     512       \n",
      "_________________________________________________________________\n",
      "max_pooling2d_6 (MaxPooling2 (None, None, 32, 128)     0         \n",
      "_________________________________________________________________\n",
      "conv2d_14 (Conv2D)           (None, None, 32, 256)     295168    \n",
      "_________________________________________________________________\n",
      "batch_normalization_16 (Batc (None, None, 32, 256)     1024      \n",
      "_________________________________________________________________\n",
      "conv2d_15 (Conv2D)           (None, None, 32, 256)     590080    \n",
      "_________________________________________________________________\n",
      "batch_normalization_17 (Batc (None, None, 32, 256)     1024      \n",
      "_________________________________________________________________\n",
      "max_pooling2d_7 (MaxPooling2 (None, None, 16, 256)     0         \n",
      "_________________________________________________________________\n",
      "conv2d_16 (Conv2D)           (None, None, 16, 512)     1180160   \n",
      "_________________________________________________________________\n",
      "batch_normalization_18 (Batc (None, None, 16, 512)     2048      \n",
      "_________________________________________________________________\n",
      "conv2d_17 (Conv2D)           (None, None, 16, 512)     2359808   \n",
      "_________________________________________________________________\n",
      "batch_normalization_19 (Batc (None, None, 16, 512)     2048      \n",
      "_________________________________________________________________\n",
      "max_pooling2d_8 (MaxPooling2 (None, None, 8, 512)      0         \n",
      "_________________________________________________________________\n",
      "conv2d_18 (Conv2D)           (None, None, 1, 1024)     4195328   \n",
      "_________________________________________________________________\n",
      "batch_normalization_20 (Batc (None, None, 1, 1024)     4096      \n",
      "_________________________________________________________________\n",
      "squeeze_layer_2 (SqueezeLaye (None, None, 1024)        0         \n",
      "_________________________________________________________________\n",
      "bidirectional_2 (Bidirection (None, None, 256)         885504    \n",
      "_________________________________________________________________\n",
      "dynamic/tags (TimeDistribute (None, None, 17)          4369      \n",
      "_________________________________________________________________\n",
      "static/tags (SoftMaxPool)    (None, 17)                0         \n",
      "=================================================================\n",
      "Total params: 9,781,205\n",
      "Trainable params: 9,775,315\n",
      "Non-trainable params: 5,890\n",
      "_________________________________________________________________\n"
     ]
    }
   ],
   "source": [
    "L3.summary()"
   ]
  },
  {
   "cell_type": "code",
   "execution_count": 8,
   "metadata": {
    "collapsed": true
   },
   "outputs": [],
   "source": [
    "L3_2, _, _ = milsed.models.MODELS['crnnL3_2_smp'](pump, 1.0)"
   ]
  },
  {
   "cell_type": "code",
   "execution_count": 9,
   "metadata": {},
   "outputs": [
    {
     "name": "stdout",
     "output_type": "stream",
     "text": [
      "_________________________________________________________________\n",
      "Layer (type)                 Output Shape              Param #   \n",
      "=================================================================\n",
      "mel/mag (InputLayer)         (None, None, 128, 1)      0         \n",
      "_________________________________________________________________\n",
      "batch_normalization_21 (Batc (None, None, 128, 1)      4         \n",
      "_________________________________________________________________\n",
      "conv2d_19 (Conv2D)           (None, None, 128, 16)     160       \n",
      "_________________________________________________________________\n",
      "batch_normalization_22 (Batc (None, None, 128, 16)     64        \n",
      "_________________________________________________________________\n",
      "conv2d_20 (Conv2D)           (None, None, 128, 16)     2320      \n",
      "_________________________________________________________________\n",
      "batch_normalization_23 (Batc (None, None, 128, 16)     64        \n",
      "_________________________________________________________________\n",
      "max_pooling2d_9 (MaxPooling2 (None, None, 64, 16)      0         \n",
      "_________________________________________________________________\n",
      "conv2d_21 (Conv2D)           (None, None, 64, 32)      4640      \n",
      "_________________________________________________________________\n",
      "batch_normalization_24 (Batc (None, None, 64, 32)      128       \n",
      "_________________________________________________________________\n",
      "conv2d_22 (Conv2D)           (None, None, 64, 32)      9248      \n",
      "_________________________________________________________________\n",
      "batch_normalization_25 (Batc (None, None, 64, 32)      128       \n",
      "_________________________________________________________________\n",
      "max_pooling2d_10 (MaxPooling (None, None, 32, 32)      0         \n",
      "_________________________________________________________________\n",
      "conv2d_23 (Conv2D)           (None, None, 32, 64)      18496     \n",
      "_________________________________________________________________\n",
      "batch_normalization_26 (Batc (None, None, 32, 64)      256       \n",
      "_________________________________________________________________\n",
      "conv2d_24 (Conv2D)           (None, None, 32, 64)      36928     \n",
      "_________________________________________________________________\n",
      "batch_normalization_27 (Batc (None, None, 32, 64)      256       \n",
      "_________________________________________________________________\n",
      "max_pooling2d_11 (MaxPooling (None, None, 16, 64)      0         \n",
      "_________________________________________________________________\n",
      "conv2d_25 (Conv2D)           (None, None, 16, 128)     73856     \n",
      "_________________________________________________________________\n",
      "batch_normalization_28 (Batc (None, None, 16, 128)     512       \n",
      "_________________________________________________________________\n",
      "conv2d_26 (Conv2D)           (None, None, 16, 128)     147584    \n",
      "_________________________________________________________________\n",
      "batch_normalization_29 (Batc (None, None, 16, 128)     512       \n",
      "_________________________________________________________________\n",
      "max_pooling2d_12 (MaxPooling (None, None, 8, 128)      0         \n",
      "_________________________________________________________________\n",
      "conv2d_27 (Conv2D)           (None, None, 1, 256)      262400    \n",
      "_________________________________________________________________\n",
      "batch_normalization_30 (Batc (None, None, 1, 256)      1024      \n",
      "_________________________________________________________________\n",
      "squeeze_layer_3 (SqueezeLaye (None, None, 256)         0         \n",
      "_________________________________________________________________\n",
      "bidirectional_3 (Bidirection (None, None, 256)         295680    \n",
      "_________________________________________________________________\n",
      "dynamic/tags (TimeDistribute (None, None, 17)          4369      \n",
      "_________________________________________________________________\n",
      "static/tags (SoftMaxPool)    (None, 17)                0         \n",
      "=================================================================\n",
      "Total params: 858,629\n",
      "Trainable params: 857,155\n",
      "Non-trainable params: 1,474\n",
      "_________________________________________________________________\n"
     ]
    }
   ],
   "source": [
    "L3_2.summary()"
   ]
  },
  {
   "cell_type": "code",
   "execution_count": 5,
   "metadata": {},
   "outputs": [
    {
     "name": "stderr",
     "output_type": "stream",
     "text": [
      "Evaluating the model: 100%|██████████| 488/488 [01:27<00:00,  5.87it/s]\n",
      "/home/js7561/miniconda3/envs/py35milsed/lib/python3.5/site-packages/sklearn/metrics/classification.py:1113: UndefinedMetricWarning: F-score is ill-defined and being set to 0.0 in labels with no predicted samples.\n",
      "  'precision', 'predicted', average, warn_for)\n",
      "/home/js7561/miniconda3/envs/py35milsed/lib/python3.5/site-packages/sklearn/metrics/classification.py:1113: UndefinedMetricWarning: Precision is ill-defined and being set to 0.0 in labels with no predicted samples.\n",
      "  'precision', 'predicted', average, warn_for)\n",
      "/home/js7561/miniconda3/envs/py35milsed/lib/python3.5/site-packages/sklearn/metrics/classification.py:1113: UndefinedMetricWarning: F-score is ill-defined and being set to 0.0 in samples with no predicted labels.\n",
      "  'precision', 'predicted', average, warn_for)\n",
      "/home/js7561/miniconda3/envs/py35milsed/lib/python3.5/site-packages/sklearn/metrics/classification.py:1113: UndefinedMetricWarning: Precision is ill-defined and being set to 0.0 in samples with no predicted labels.\n",
      "  'precision', 'predicted', average, warn_for)\n",
      "Evaluating the model: 100%|██████████| 488/488 [02:22<00:00,  3.46it/s]\n",
      "Evaluating the model: 100%|██████████| 488/488 [00:48<00:00, 10.09it/s]\n",
      "Evaluating the model: 100%|██████████| 488/488 [00:48<00:00, 10.20it/s]\n"
     ]
    }
   ],
   "source": [
    "r = []\n",
    "for n, version in enumerate(['model004', 'model005', 'model006', 'model007']):\n",
    "    r.append(recompute_results(version, save=True))"
   ]
  },
  {
   "cell_type": "code",
   "execution_count": 5,
   "metadata": {},
   "outputs": [
    {
     "name": "stderr",
     "output_type": "stream",
     "text": [
      "Evaluating the model: 100%|██████████| 488/488 [01:27<00:00,  5.79it/s]\n",
      "/home/js7561/miniconda3/envs/py35milsed/lib/python3.5/site-packages/sklearn/metrics/classification.py:1113: UndefinedMetricWarning: F-score is ill-defined and being set to 0.0 in labels with no predicted samples.\n",
      "  'precision', 'predicted', average, warn_for)\n",
      "/home/js7561/miniconda3/envs/py35milsed/lib/python3.5/site-packages/sklearn/metrics/classification.py:1113: UndefinedMetricWarning: Precision is ill-defined and being set to 0.0 in labels with no predicted samples.\n",
      "  'precision', 'predicted', average, warn_for)\n",
      "/home/js7561/miniconda3/envs/py35milsed/lib/python3.5/site-packages/sklearn/metrics/classification.py:1113: UndefinedMetricWarning: F-score is ill-defined and being set to 0.0 in samples with no predicted labels.\n",
      "  'precision', 'predicted', average, warn_for)\n",
      "/home/js7561/miniconda3/envs/py35milsed/lib/python3.5/site-packages/sklearn/metrics/classification.py:1113: UndefinedMetricWarning: Precision is ill-defined and being set to 0.0 in samples with no predicted labels.\n",
      "  'precision', 'predicted', average, warn_for)\n",
      "Evaluating the model: 100%|██████████| 488/488 [02:12<00:00,  3.70it/s]\n",
      "Evaluating the model: 100%|██████████| 488/488 [00:39<00:00, 12.35it/s]\n",
      "Evaluating the model: 100%|██████████| 488/488 [00:39<00:00, 12.40it/s]\n",
      "Evaluating the model: 100%|██████████| 488/488 [00:39<00:00, 12.25it/s]\n",
      "Evaluating the model: 100%|██████████| 488/488 [00:38<00:00, 12.53it/s]\n",
      "Evaluating the model: 100%|██████████| 488/488 [00:39<00:00, 12.29it/s]\n",
      "Evaluating the model: 100%|██████████| 488/488 [00:39<00:00, 12.28it/s]\n",
      "Evaluating the model: 100%|██████████| 488/488 [00:40<00:00, 12.00it/s]\n"
     ]
    }
   ],
   "source": [
    "r = []\n",
    "models = (['model004', 'model005', 'model006', 'model007', 'model008', 'model009', \n",
    "           'model010', 'model011', 'model012'])\n",
    "for n, version in enumerate(models):\n",
    "    r.append(recompute_results(version, save=True))"
   ]
  },
  {
   "cell_type": "code",
   "execution_count": 6,
   "metadata": {},
   "outputs": [
    {
     "name": "stderr",
     "output_type": "stream",
     "text": [
      "Evaluating the model: 100%|██████████| 488/488 [00:39<00:00, 12.26it/s]\n",
      "/home/js7561/miniconda3/envs/py35milsed/lib/python3.5/site-packages/sklearn/metrics/classification.py:1113: UndefinedMetricWarning: F-score is ill-defined and being set to 0.0 in labels with no predicted samples.\n",
      "  'precision', 'predicted', average, warn_for)\n",
      "/home/js7561/miniconda3/envs/py35milsed/lib/python3.5/site-packages/sklearn/metrics/classification.py:1113: UndefinedMetricWarning: Precision is ill-defined and being set to 0.0 in labels with no predicted samples.\n",
      "  'precision', 'predicted', average, warn_for)\n",
      "/home/js7561/miniconda3/envs/py35milsed/lib/python3.5/site-packages/sklearn/metrics/classification.py:1113: UndefinedMetricWarning: F-score is ill-defined and being set to 0.0 in samples with no predicted labels.\n",
      "  'precision', 'predicted', average, warn_for)\n",
      "/home/js7561/miniconda3/envs/py35milsed/lib/python3.5/site-packages/sklearn/metrics/classification.py:1113: UndefinedMetricWarning: Precision is ill-defined and being set to 0.0 in samples with no predicted labels.\n",
      "  'precision', 'predicted', average, warn_for)\n",
      "Evaluating the model: 100%|██████████| 488/488 [00:39<00:00, 12.24it/s]\n",
      "Evaluating the model: 100%|██████████| 488/488 [00:49<00:00, 10.07it/s]\n",
      "Evaluating the model: 100%|██████████| 488/488 [00:48<00:00, 10.04it/s]\n"
     ]
    }
   ],
   "source": [
    "r = []\n",
    "models = (['model013', 'model014', 'model015', 'model016'])\n",
    "for n, version in enumerate(models):\n",
    "    r.append(recompute_results(version, save=True))"
   ]
  },
  {
   "cell_type": "code",
   "execution_count": 5,
   "metadata": {},
   "outputs": [
    {
     "name": "stderr",
     "output_type": "stream",
     "text": [
      "Evaluating the model: 100%|██████████| 488/488 [02:16<00:00,  3.57it/s]\n",
      "/home/js7561/miniconda3/envs/py35milsed/lib/python3.5/site-packages/sklearn/metrics/classification.py:1113: UndefinedMetricWarning: F-score is ill-defined and being set to 0.0 in labels with no predicted samples.\n",
      "  'precision', 'predicted', average, warn_for)\n",
      "/home/js7561/miniconda3/envs/py35milsed/lib/python3.5/site-packages/sklearn/metrics/classification.py:1113: UndefinedMetricWarning: Precision is ill-defined and being set to 0.0 in labels with no predicted samples.\n",
      "  'precision', 'predicted', average, warn_for)\n",
      "/home/js7561/miniconda3/envs/py35milsed/lib/python3.5/site-packages/sklearn/metrics/classification.py:1113: UndefinedMetricWarning: F-score is ill-defined and being set to 0.0 in samples with no predicted labels.\n",
      "  'precision', 'predicted', average, warn_for)\n",
      "/home/js7561/miniconda3/envs/py35milsed/lib/python3.5/site-packages/sklearn/metrics/classification.py:1113: UndefinedMetricWarning: Precision is ill-defined and being set to 0.0 in samples with no predicted labels.\n",
      "  'precision', 'predicted', average, warn_for)\n",
      "Evaluating the model: 100%|██████████| 488/488 [00:40<00:00, 12.08it/s]\n",
      "Evaluating the model: 100%|██████████| 488/488 [00:40<00:00, 12.12it/s]\n",
      "Evaluating the model: 100%|██████████| 488/488 [00:40<00:00, 12.08it/s]\n",
      "Evaluating the model: 100%|██████████| 488/488 [00:40<00:00, 12.15it/s]\n",
      "Evaluating the model: 100%|██████████| 488/488 [00:40<00:00, 12.00it/s]\n",
      "Evaluating the model: 100%|██████████| 488/488 [00:40<00:00, 11.98it/s]\n",
      "Evaluating the model: 100%|██████████| 488/488 [00:41<00:00, 11.80it/s]\n",
      "Evaluating the model: 100%|██████████| 488/488 [00:40<00:00, 11.91it/s]\n",
      "Evaluating the model: 100%|██████████| 488/488 [00:41<00:00, 11.74it/s]\n",
      "Evaluating the model: 100%|██████████| 488/488 [01:18<00:00,  9.60it/s]\n",
      "Evaluating the model: 100%|██████████| 488/488 [00:50<00:00,  9.79it/s]\n"
     ]
    }
   ],
   "source": [
    "r = []\n",
    "models = []\n",
    "for i in range(5, 10):\n",
    "    models.append('model00{}'.format(i))\n",
    "for i in range(10, 17):\n",
    "    models.append('model0{}'.format(i))\n",
    "    \n",
    "for n, version in enumerate(models):\n",
    "    r.append(recompute_results(version, save=True, use_orig_duration=True))"
   ]
  },
  {
   "cell_type": "code",
   "execution_count": 5,
   "metadata": {},
   "outputs": [
    {
     "name": "stderr",
     "output_type": "stream",
     "text": [
      "Evaluating the model: 100%|██████████| 488/488 [01:04<00:00,  7.73it/s]\n",
      "/home/js7561/miniconda3/envs/py35milsed/lib/python3.5/site-packages/sklearn/metrics/classification.py:1113: UndefinedMetricWarning: F-score is ill-defined and being set to 0.0 in samples with no predicted labels.\n",
      "  'precision', 'predicted', average, warn_for)\n",
      "/home/js7561/miniconda3/envs/py35milsed/lib/python3.5/site-packages/sklearn/metrics/classification.py:1113: UndefinedMetricWarning: Precision is ill-defined and being set to 0.0 in samples with no predicted labels.\n",
      "  'precision', 'predicted', average, warn_for)\n",
      "Evaluating the model: 100%|██████████| 488/488 [01:03<00:00,  7.71it/s]\n",
      "/home/js7561/miniconda3/envs/py35milsed/lib/python3.5/site-packages/sklearn/metrics/classification.py:1113: UndefinedMetricWarning: F-score is ill-defined and being set to 0.0 in labels with no predicted samples.\n",
      "  'precision', 'predicted', average, warn_for)\n",
      "/home/js7561/miniconda3/envs/py35milsed/lib/python3.5/site-packages/sklearn/metrics/classification.py:1113: UndefinedMetricWarning: Precision is ill-defined and being set to 0.0 in labels with no predicted samples.\n",
      "  'precision', 'predicted', average, warn_for)\n",
      "Evaluating the model: 100%|██████████| 488/488 [01:04<00:00,  7.33it/s]\n",
      "Evaluating the model: 100%|██████████| 488/488 [01:08<00:00,  7.46it/s]\n",
      "Evaluating the model: 100%|██████████| 488/488 [01:06<00:00,  7.12it/s]\n"
     ]
    }
   ],
   "source": [
    "r = []\n",
    "models = []\n",
    "for i in range(12, 17):\n",
    "    models.append('model0{}'.format(i))\n",
    "    \n",
    "for n, version in enumerate(models):\n",
    "    r.append(recompute_results(version, save=True, use_orig_duration=True))"
   ]
  },
  {
   "cell_type": "code",
   "execution_count": 5,
   "metadata": {},
   "outputs": [
    {
     "name": "stdout",
     "output_type": "stream",
     "text": [
      "model007\n"
     ]
    },
    {
     "name": "stderr",
     "output_type": "stream",
     "text": [
      "Evaluating the model: 100%|██████████| 488/488 [01:10<00:00,  7.29it/s]\n",
      "/home/js7561/miniconda3/envs/py35milsed/lib/python3.5/site-packages/sklearn/metrics/classification.py:1113: UndefinedMetricWarning: F-score is ill-defined and being set to 0.0 in samples with no predicted labels.\n",
      "  'precision', 'predicted', average, warn_for)\n",
      "/home/js7561/miniconda3/envs/py35milsed/lib/python3.5/site-packages/sklearn/metrics/classification.py:1113: UndefinedMetricWarning: Precision is ill-defined and being set to 0.0 in samples with no predicted labels.\n",
      "  'precision', 'predicted', average, warn_for)\n"
     ]
    },
    {
     "name": "stdout",
     "output_type": "stream",
     "text": [
      "model009\n"
     ]
    },
    {
     "name": "stderr",
     "output_type": "stream",
     "text": [
      "Evaluating the model: 100%|██████████| 488/488 [01:07<00:00,  7.11it/s]\n"
     ]
    },
    {
     "name": "stdout",
     "output_type": "stream",
     "text": [
      "model011\n"
     ]
    },
    {
     "name": "stderr",
     "output_type": "stream",
     "text": [
      "Evaluating the model: 100%|██████████| 488/488 [01:13<00:00,  7.78it/s]\n"
     ]
    },
    {
     "name": "stdout",
     "output_type": "stream",
     "text": [
      "model013\n"
     ]
    },
    {
     "name": "stderr",
     "output_type": "stream",
     "text": [
      "Evaluating the model: 100%|██████████| 488/488 [01:01<00:00,  8.62it/s]\n",
      "/home/js7561/miniconda3/envs/py35milsed/lib/python3.5/site-packages/sklearn/metrics/classification.py:1113: UndefinedMetricWarning: F-score is ill-defined and being set to 0.0 in labels with no predicted samples.\n",
      "  'precision', 'predicted', average, warn_for)\n",
      "/home/js7561/miniconda3/envs/py35milsed/lib/python3.5/site-packages/sklearn/metrics/classification.py:1113: UndefinedMetricWarning: Precision is ill-defined and being set to 0.0 in labels with no predicted samples.\n",
      "  'precision', 'predicted', average, warn_for)\n"
     ]
    },
    {
     "name": "stdout",
     "output_type": "stream",
     "text": [
      "model015\n"
     ]
    },
    {
     "name": "stderr",
     "output_type": "stream",
     "text": [
      "Evaluating the model: 100%|██████████| 488/488 [01:17<00:00,  6.04it/s]\n"
     ]
    }
   ],
   "source": [
    "r = []\n",
    "models = []\n",
    "for i in range(7, 10, 2):\n",
    "    models.append('model00{}'.format(i))\n",
    "for i in range(11, 16, 2):\n",
    "    models.append('model0{}'.format(i))\n",
    "    \n",
    "for n, version in enumerate(models):\n",
    "    print(version)\n",
    "    r.append(recompute_results(version, save=True, use_orig_duration=True))"
   ]
  },
  {
   "cell_type": "code",
   "execution_count": 6,
   "metadata": {},
   "outputs": [
    {
     "name": "stdout",
     "output_type": "stream",
     "text": [
      "model017\n"
     ]
    },
    {
     "name": "stderr",
     "output_type": "stream",
     "text": [
      "Evaluating the model: 100%|██████████| 488/488 [01:37<00:00,  4.52it/s]\n",
      "/home/js7561/miniconda3/envs/py35milsed/lib/python3.5/site-packages/sklearn/metrics/classification.py:1113: UndefinedMetricWarning: F-score is ill-defined and being set to 0.0 in labels with no predicted samples.\n",
      "  'precision', 'predicted', average, warn_for)\n",
      "/home/js7561/miniconda3/envs/py35milsed/lib/python3.5/site-packages/sklearn/metrics/classification.py:1113: UndefinedMetricWarning: Precision is ill-defined and being set to 0.0 in labels with no predicted samples.\n",
      "  'precision', 'predicted', average, warn_for)\n",
      "/home/js7561/miniconda3/envs/py35milsed/lib/python3.5/site-packages/sklearn/metrics/classification.py:1113: UndefinedMetricWarning: F-score is ill-defined and being set to 0.0 in samples with no predicted labels.\n",
      "  'precision', 'predicted', average, warn_for)\n",
      "/home/js7561/miniconda3/envs/py35milsed/lib/python3.5/site-packages/sklearn/metrics/classification.py:1113: UndefinedMetricWarning: Precision is ill-defined and being set to 0.0 in samples with no predicted labels.\n",
      "  'precision', 'predicted', average, warn_for)\n"
     ]
    },
    {
     "name": "stdout",
     "output_type": "stream",
     "text": [
      "model018\n"
     ]
    },
    {
     "name": "stderr",
     "output_type": "stream",
     "text": [
      "Evaluating the model: 100%|██████████| 488/488 [01:34<00:00,  5.02it/s]\n"
     ]
    }
   ],
   "source": [
    "r = []\n",
    "for n, version in enumerate(['model017', 'model018']):\n",
    "    print(version)\n",
    "    r.append(recompute_results(version, save=True, use_orig_duration=True))"
   ]
  },
  {
   "cell_type": "code",
   "execution_count": null,
   "metadata": {},
   "outputs": [
    {
     "name": "stdout",
     "output_type": "stream",
     "text": [
      "model001\n"
     ]
    },
    {
     "name": "stderr",
     "output_type": "stream",
     "text": [
      "Evaluating the model: 100%|██████████| 488/488 [01:05<00:00,  6.73it/s]\n",
      "/home/js7561/miniconda3/envs/py35milsed/lib/python3.5/site-packages/sklearn/metrics/classification.py:1113: UndefinedMetricWarning: F-score is ill-defined and being set to 0.0 in labels with no predicted samples.\n",
      "  'precision', 'predicted', average, warn_for)\n",
      "/home/js7561/miniconda3/envs/py35milsed/lib/python3.5/site-packages/sklearn/metrics/classification.py:1113: UndefinedMetricWarning: Precision is ill-defined and being set to 0.0 in labels with no predicted samples.\n",
      "  'precision', 'predicted', average, warn_for)\n",
      "/home/js7561/miniconda3/envs/py35milsed/lib/python3.5/site-packages/sklearn/metrics/classification.py:1113: UndefinedMetricWarning: F-score is ill-defined and being set to 0.0 in samples with no predicted labels.\n",
      "  'precision', 'predicted', average, warn_for)\n",
      "/home/js7561/miniconda3/envs/py35milsed/lib/python3.5/site-packages/sklearn/metrics/classification.py:1113: UndefinedMetricWarning: Precision is ill-defined and being set to 0.0 in samples with no predicted labels.\n",
      "  'precision', 'predicted', average, warn_for)\n"
     ]
    },
    {
     "name": "stdout",
     "output_type": "stream",
     "text": [
      "model002\n"
     ]
    },
    {
     "name": "stderr",
     "output_type": "stream",
     "text": [
      "Evaluating the model: 100%|██████████| 488/488 [01:26<00:00,  6.20it/s]\n"
     ]
    },
    {
     "name": "stdout",
     "output_type": "stream",
     "text": [
      "model003\n"
     ]
    },
    {
     "name": "stderr",
     "output_type": "stream",
     "text": [
      "Evaluating the model: 100%|██████████| 488/488 [01:33<00:00,  4.45it/s]\n"
     ]
    },
    {
     "name": "stdout",
     "output_type": "stream",
     "text": [
      "model004\n"
     ]
    },
    {
     "name": "stderr",
     "output_type": "stream",
     "text": [
      "Evaluating the model: 100%|██████████| 488/488 [02:20<00:00,  3.56it/s]\n"
     ]
    },
    {
     "name": "stdout",
     "output_type": "stream",
     "text": [
      "model005\n"
     ]
    },
    {
     "name": "stderr",
     "output_type": "stream",
     "text": [
      "Evaluating the model:  58%|█████▊    | 282/488 [03:49<02:19,  1.47it/s]"
     ]
    }
   ],
   "source": [
    "r = []\n",
    "models = []\n",
    "for i in range(1, 10):\n",
    "    models.append('model00{}'.format(i))\n",
    "for i in range(10, 17):\n",
    "    models.append('model0{}'.format(i))\n",
    "    \n",
    "for n, version in enumerate(models):\n",
    "    print(version)\n",
    "    r.append(recompute_results(version, save=True, use_orig_duration=True))"
   ]
  },
  {
   "cell_type": "code",
   "execution_count": 5,
   "metadata": {},
   "outputs": [
    {
     "name": "stdout",
     "output_type": "stream",
     "text": [
      "model005\n"
     ]
    },
    {
     "name": "stderr",
     "output_type": "stream",
     "text": [
      "Evaluating the model: 100%|██████████| 488/488 [03:21<00:00,  2.60it/s]\n",
      "/home/js7561/miniconda3/envs/py35milsed/lib/python3.5/site-packages/sklearn/metrics/classification.py:1113: UndefinedMetricWarning: F-score is ill-defined and being set to 0.0 in labels with no predicted samples.\n",
      "  'precision', 'predicted', average, warn_for)\n",
      "/home/js7561/miniconda3/envs/py35milsed/lib/python3.5/site-packages/sklearn/metrics/classification.py:1113: UndefinedMetricWarning: Precision is ill-defined and being set to 0.0 in labels with no predicted samples.\n",
      "  'precision', 'predicted', average, warn_for)\n",
      "/home/js7561/miniconda3/envs/py35milsed/lib/python3.5/site-packages/sklearn/metrics/classification.py:1113: UndefinedMetricWarning: F-score is ill-defined and being set to 0.0 in samples with no predicted labels.\n",
      "  'precision', 'predicted', average, warn_for)\n",
      "/home/js7561/miniconda3/envs/py35milsed/lib/python3.5/site-packages/sklearn/metrics/classification.py:1113: UndefinedMetricWarning: Precision is ill-defined and being set to 0.0 in samples with no predicted labels.\n",
      "  'precision', 'predicted', average, warn_for)\n"
     ]
    },
    {
     "name": "stdout",
     "output_type": "stream",
     "text": [
      "model006\n"
     ]
    },
    {
     "name": "stderr",
     "output_type": "stream",
     "text": [
      "Evaluating the model: 100%|██████████| 488/488 [00:48<00:00, 12.08it/s]\n"
     ]
    },
    {
     "name": "stdout",
     "output_type": "stream",
     "text": [
      "model007\n"
     ]
    },
    {
     "name": "stderr",
     "output_type": "stream",
     "text": [
      "Evaluating the model: 100%|██████████| 488/488 [00:41<00:00,  8.85it/s]\n"
     ]
    },
    {
     "name": "stdout",
     "output_type": "stream",
     "text": [
      "model008\n"
     ]
    },
    {
     "name": "stderr",
     "output_type": "stream",
     "text": [
      "Evaluating the model: 100%|██████████| 488/488 [00:42<00:00, 11.50it/s]\n"
     ]
    },
    {
     "name": "stdout",
     "output_type": "stream",
     "text": [
      "model009\n"
     ]
    },
    {
     "name": "stderr",
     "output_type": "stream",
     "text": [
      "Evaluating the model: 100%|██████████| 488/488 [03:14<00:00,  2.51it/s]\n"
     ]
    },
    {
     "name": "stdout",
     "output_type": "stream",
     "text": [
      "model010\n"
     ]
    },
    {
     "name": "stderr",
     "output_type": "stream",
     "text": [
      "Evaluating the model: 100%|██████████| 488/488 [00:40<00:00, 11.92it/s]\n"
     ]
    },
    {
     "name": "stdout",
     "output_type": "stream",
     "text": [
      "model011\n"
     ]
    },
    {
     "name": "stderr",
     "output_type": "stream",
     "text": [
      "Evaluating the model: 100%|██████████| 488/488 [00:41<00:00, 11.86it/s]\n"
     ]
    },
    {
     "name": "stdout",
     "output_type": "stream",
     "text": [
      "model012\n"
     ]
    },
    {
     "name": "stderr",
     "output_type": "stream",
     "text": [
      "Evaluating the model: 100%|██████████| 488/488 [00:41<00:00, 11.70it/s]\n"
     ]
    },
    {
     "name": "stdout",
     "output_type": "stream",
     "text": [
      "model013\n"
     ]
    },
    {
     "name": "stderr",
     "output_type": "stream",
     "text": [
      "Evaluating the model: 100%|██████████| 488/488 [00:41<00:00, 11.86it/s]\n"
     ]
    },
    {
     "name": "stdout",
     "output_type": "stream",
     "text": [
      "model014\n"
     ]
    },
    {
     "name": "stderr",
     "output_type": "stream",
     "text": [
      "Evaluating the model: 100%|██████████| 488/488 [00:41<00:00, 11.65it/s]\n"
     ]
    },
    {
     "name": "stdout",
     "output_type": "stream",
     "text": [
      "model015\n"
     ]
    },
    {
     "name": "stderr",
     "output_type": "stream",
     "text": [
      "Evaluating the model: 100%|██████████| 488/488 [00:51<00:00,  9.88it/s]\n"
     ]
    },
    {
     "name": "stdout",
     "output_type": "stream",
     "text": [
      "model016\n"
     ]
    },
    {
     "name": "stderr",
     "output_type": "stream",
     "text": [
      "Evaluating the model: 100%|██████████| 488/488 [00:50<00:00,  9.56it/s]\n"
     ]
    }
   ],
   "source": [
    "r = []\n",
    "models = []\n",
    "for i in range(5, 10):\n",
    "    models.append('model00{}'.format(i))\n",
    "for i in range(10, 17):\n",
    "    models.append('model0{}'.format(i))\n",
    "    \n",
    "for n, version in enumerate(models):\n",
    "    print(version)\n",
    "    r.append(recompute_results(version, save=True, use_orig_duration=True))"
   ]
  },
  {
   "cell_type": "code",
   "execution_count": 5,
   "metadata": {},
   "outputs": [
    {
     "name": "stdout",
     "output_type": "stream",
     "text": [
      "model022\n"
     ]
    },
    {
     "name": "stderr",
     "output_type": "stream",
     "text": [
      "Evaluating the model: 100%|██████████| 488/488 [01:12<00:00,  6.84it/s]\n",
      "/home/js7561/miniconda3/envs/py35milsed/lib/python3.5/site-packages/sklearn/metrics/classification.py:1113: UndefinedMetricWarning: F-score is ill-defined and being set to 0.0 in labels with no predicted samples.\n",
      "  'precision', 'predicted', average, warn_for)\n",
      "/home/js7561/miniconda3/envs/py35milsed/lib/python3.5/site-packages/sklearn/metrics/classification.py:1113: UndefinedMetricWarning: Precision is ill-defined and being set to 0.0 in labels with no predicted samples.\n",
      "  'precision', 'predicted', average, warn_for)\n",
      "/home/js7561/miniconda3/envs/py35milsed/lib/python3.5/site-packages/sklearn/metrics/classification.py:1113: UndefinedMetricWarning: F-score is ill-defined and being set to 0.0 in samples with no predicted labels.\n",
      "  'precision', 'predicted', average, warn_for)\n",
      "/home/js7561/miniconda3/envs/py35milsed/lib/python3.5/site-packages/sklearn/metrics/classification.py:1113: UndefinedMetricWarning: Precision is ill-defined and being set to 0.0 in samples with no predicted labels.\n",
      "  'precision', 'predicted', average, warn_for)\n"
     ]
    },
    {
     "name": "stdout",
     "output_type": "stream",
     "text": [
      "model023\n"
     ]
    },
    {
     "name": "stderr",
     "output_type": "stream",
     "text": [
      "Evaluating the model: 100%|██████████| 488/488 [00:57<00:00,  8.41it/s]\n"
     ]
    },
    {
     "name": "stdout",
     "output_type": "stream",
     "text": [
      "model024\n"
     ]
    },
    {
     "name": "stderr",
     "output_type": "stream",
     "text": [
      "Evaluating the model: 100%|██████████| 488/488 [00:57<00:00,  8.30it/s]\n"
     ]
    }
   ],
   "source": [
    "models = ['model022', 'model023', 'model024']\n",
    "\n",
    "\n",
    "for n, version in enumerate(models):\n",
    "    print(version)\n",
    "    recompute_results(version, save=True, use_orig_duration=True)"
   ]
  },
  {
   "cell_type": "code",
   "execution_count": null,
   "metadata": {
    "collapsed": true
   },
   "outputs": [],
   "source": []
  }
 ],
 "metadata": {
  "kernelspec": {
   "display_name": "Python 3",
   "language": "python",
   "name": "python3"
  },
  "language_info": {
   "codemirror_mode": {
    "name": "ipython",
    "version": 3
   },
   "file_extension": ".py",
   "mimetype": "text/x-python",
   "name": "python",
   "nbconvert_exporter": "python",
   "pygments_lexer": "ipython3",
   "version": "3.5.3"
  }
 },
 "nbformat": 4,
 "nbformat_minor": 2
}
