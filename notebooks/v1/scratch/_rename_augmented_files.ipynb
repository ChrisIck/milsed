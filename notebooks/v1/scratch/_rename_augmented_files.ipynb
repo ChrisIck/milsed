{
 "cells": [
  {
   "cell_type": "code",
   "execution_count": 1,
   "metadata": {
    "collapsed": true
   },
   "outputs": [],
   "source": [
    "# Originally augmented files included 0 semitones, removed that, so all augmented files need to be reduced by 1 number"
   ]
  },
  {
   "cell_type": "code",
   "execution_count": 3,
   "metadata": {
    "collapsed": true
   },
   "outputs": [],
   "source": [
    "import glob\n",
    "import os\n",
    "import shutil\n",
    "from tqdm import tqdm"
   ]
  },
  {
   "cell_type": "code",
   "execution_count": 4,
   "metadata": {},
   "outputs": [
    {
     "name": "stdout",
     "output_type": "stream",
     "text": [
      "1\n"
     ]
    },
    {
     "name": "stderr",
     "output_type": "stream",
     "text": [
      "100%|██████████| 51172/51172 [00:15<00:00, 3321.81it/s]\n",
      "100%|██████████| 51172/51172 [00:15<00:00, 3322.60it/s]\n"
     ]
    },
    {
     "name": "stdout",
     "output_type": "stream",
     "text": [
      "2\n"
     ]
    },
    {
     "name": "stderr",
     "output_type": "stream",
     "text": [
      "100%|██████████| 51172/51172 [00:15<00:00, 3254.95it/s]\n",
      "100%|██████████| 51172/51172 [00:15<00:00, 3243.44it/s]\n"
     ]
    },
    {
     "name": "stdout",
     "output_type": "stream",
     "text": [
      "3\n"
     ]
    },
    {
     "name": "stderr",
     "output_type": "stream",
     "text": [
      "100%|██████████| 51172/51172 [00:15<00:00, 3206.98it/s]\n",
      "100%|██████████| 51172/51172 [00:15<00:00, 3249.20it/s]\n"
     ]
    },
    {
     "name": "stdout",
     "output_type": "stream",
     "text": [
      "4\n"
     ]
    },
    {
     "name": "stderr",
     "output_type": "stream",
     "text": [
      "100%|██████████| 51172/51172 [00:15<00:00, 3266.70it/s]\n",
      "100%|██████████| 51172/51172 [00:15<00:00, 3274.63it/s]\n"
     ]
    },
    {
     "name": "stdout",
     "output_type": "stream",
     "text": [
      "5\n"
     ]
    },
    {
     "name": "stderr",
     "output_type": "stream",
     "text": [
      "100%|██████████| 51172/51172 [00:15<00:00, 3220.75it/s]\n",
      "100%|██████████| 51172/51172 [00:16<00:00, 3186.64it/s]"
     ]
    },
    {
     "name": "stdout",
     "output_type": "stream",
     "text": [
      "done.\n"
     ]
    },
    {
     "name": "stderr",
     "output_type": "stream",
     "text": [
      "\n"
     ]
    }
   ],
   "source": [
    "basefolder = '/beegfs/js7561/datasets/dcase2017/task4_official/train/audio_augmented/'\n",
    "\n",
    "for i in range(1,6):\n",
    "\n",
    "    print(i)\n",
    "    \n",
    "    wavfiles = glob.glob(os.path.join(basefolder, '*.{:d}.wav'.format(i)))\n",
    "    for wf in tqdm(wavfiles):\n",
    "        outfile = wf.replace('.{:d}.wav'.format(i), '.{:d}.wav'.format(i-1))\n",
    "        shutil.move(wf, outfile)\n",
    "        \n",
    "    jamsfiles = glob.glob(os.path.join(basefolder, '*.{:d}.jams'.format(i)))\n",
    "    for jf in tqdm(jamsfiles):\n",
    "        outfile = jf.replace('.{:d}.jams'.format(i), '.{:d}.jams'.format(i-1))\n",
    "        shutil.move(jf, outfile)\n",
    "        \n",
    "print('done.')"
   ]
  },
  {
   "cell_type": "code",
   "execution_count": 5,
   "metadata": {},
   "outputs": [
    {
     "name": "stdout",
     "output_type": "stream",
     "text": [
      "6\n"
     ]
    },
    {
     "name": "stderr",
     "output_type": "stream",
     "text": [
      "100%|██████████| 51172/51172 [00:15<00:00, 3218.95it/s]\n",
      "100%|██████████| 51172/51172 [00:16<00:00, 3158.78it/s]\n"
     ]
    },
    {
     "name": "stdout",
     "output_type": "stream",
     "text": [
      "7\n"
     ]
    },
    {
     "name": "stderr",
     "output_type": "stream",
     "text": [
      "100%|██████████| 51172/51172 [00:15<00:00, 3294.62it/s]\n",
      "100%|██████████| 51172/51172 [00:15<00:00, 3214.16it/s]\n"
     ]
    },
    {
     "name": "stdout",
     "output_type": "stream",
     "text": [
      "8\n"
     ]
    },
    {
     "name": "stderr",
     "output_type": "stream",
     "text": [
      "100%|██████████| 51172/51172 [00:15<00:00, 3304.05it/s]\n",
      "100%|██████████| 51172/51172 [00:15<00:00, 3278.34it/s]\n"
     ]
    },
    {
     "name": "stdout",
     "output_type": "stream",
     "text": [
      "9\n"
     ]
    },
    {
     "name": "stderr",
     "output_type": "stream",
     "text": [
      "100%|██████████| 51172/51172 [00:15<00:00, 3238.39it/s]\n",
      "100%|██████████| 51172/51172 [00:15<00:00, 3230.28it/s]\n"
     ]
    },
    {
     "name": "stdout",
     "output_type": "stream",
     "text": [
      "10\n"
     ]
    },
    {
     "name": "stderr",
     "output_type": "stream",
     "text": [
      "100%|██████████| 51172/51172 [00:15<00:00, 3258.84it/s]\n",
      "100%|██████████| 51172/51172 [00:15<00:00, 3204.87it/s]"
     ]
    },
    {
     "name": "stdout",
     "output_type": "stream",
     "text": [
      "done.\n"
     ]
    },
    {
     "name": "stderr",
     "output_type": "stream",
     "text": [
      "\n"
     ]
    }
   ],
   "source": [
    "# oops! Forgot 6-10...\n",
    "basefolder = '/beegfs/js7561/datasets/dcase2017/task4_official/train/audio_augmented/'\n",
    "\n",
    "for i in range(6,11):\n",
    "\n",
    "    print(i)\n",
    "    \n",
    "    wavfiles = glob.glob(os.path.join(basefolder, '*.{:d}.wav'.format(i)))\n",
    "    for wf in tqdm(wavfiles):\n",
    "        outfile = wf.replace('.{:d}.wav'.format(i), '.{:d}.wav'.format(i-1))\n",
    "        shutil.move(wf, outfile)\n",
    "        \n",
    "    jamsfiles = glob.glob(os.path.join(basefolder, '*.{:d}.jams'.format(i)))\n",
    "    for jf in tqdm(jamsfiles):\n",
    "        outfile = jf.replace('.{:d}.jams'.format(i), '.{:d}.jams'.format(i-1))\n",
    "        shutil.move(jf, outfile)\n",
    "        \n",
    "print('done.')"
   ]
  },
  {
   "cell_type": "code",
   "execution_count": null,
   "metadata": {
    "collapsed": true
   },
   "outputs": [],
   "source": []
  }
 ],
 "metadata": {
  "kernelspec": {
   "display_name": "Python 3",
   "language": "python",
   "name": "python3"
  },
  "language_info": {
   "codemirror_mode": {
    "name": "ipython",
    "version": 3
   },
   "file_extension": ".py",
   "mimetype": "text/x-python",
   "name": "python",
   "nbconvert_exporter": "python",
   "pygments_lexer": "ipython3",
   "version": "3.5.3"
  }
 },
 "nbformat": 4,
 "nbformat_minor": 2
}
