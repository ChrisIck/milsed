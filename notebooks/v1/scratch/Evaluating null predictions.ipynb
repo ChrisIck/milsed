{
 "cells": [
  {
   "cell_type": "code",
   "execution_count": 1,
   "metadata": {},
   "outputs": [],
   "source": [
    "import pandas as pd\n",
    "import sed_eval\n",
    "from tqdm import tqdm_notebook as tqdm"
   ]
  },
  {
   "cell_type": "code",
   "execution_count": 3,
   "metadata": {},
   "outputs": [
    {
     "name": "stderr",
     "output_type": "stream",
     "text": [
      "Using TensorFlow backend.\n"
     ]
    }
   ],
   "source": [
    "import imp\n",
    "milsed = imp.load_package('milsed', '../../milsed/')"
   ]
  },
  {
   "cell_type": "code",
   "execution_count": 8,
   "metadata": {
    "collapsed": true
   },
   "outputs": [],
   "source": [
    "prepare = imp.load_source('prepare', '../../models/01_prepare.py')"
   ]
  },
  {
   "cell_type": "code",
   "execution_count": 10,
   "metadata": {
    "collapsed": true
   },
   "outputs": [],
   "source": [
    "test_idx = pd.read_json('../../models/resources/index_test.json')"
   ]
  },
  {
   "cell_type": "code",
   "execution_count": 11,
   "metadata": {
    "collapsed": true
   },
   "outputs": [],
   "source": [
    "labelfile = '/home/bmcfee/data/groundtruth_strong_label_testing_set.csv'"
   ]
  },
  {
   "cell_type": "code",
   "execution_count": 44,
   "metadata": {
    "collapsed": true
   },
   "outputs": [],
   "source": [
    "def score_null(idx):\n",
    "    segment_based_metrics = sed_eval.sound_event.SegmentBasedMetrics(prepare.DCASE_CLASSES,\n",
    "                                                                     time_resolution=1.0)\n",
    "    \n",
    "    for fid in tqdm(idx['id']):\n",
    "        \n",
    "        ref_jam = milsed.utils.create_dcase_jam(fid,\n",
    "                                                labelfile,\n",
    "                                                duration=10.0,\n",
    "                                                weak=False)\n",
    "        \n",
    "        ann_r = ref_jam.annotations.search(annotation_tools='reference')[0]\n",
    "        \n",
    "        ref_list = []\n",
    "        for event in ann_r.data:\n",
    "            ref_list.append({'event_onset': event.time,\n",
    "                             'event_offset': event.time + event.duration,\n",
    "                             'event_label': event.value})\n",
    "        ref_list = sed_eval.util.event_list.EventList(ref_list)\n",
    "\n",
    "        est_list = sed_eval.util.event_list.EventList([])\n",
    "\n",
    "        segment_based_metrics.evaluate(ref_list, est_list)\n",
    "\n",
    "    return segment_based_metrics"
   ]
  },
  {
   "cell_type": "code",
   "execution_count": 45,
   "metadata": {},
   "outputs": [
    {
     "name": "stderr",
     "output_type": "stream",
     "text": [
      "Widget Javascript not detected.  It may not be installed or enabled properly.\n"
     ]
    },
    {
     "data": {
      "application/vnd.jupyter.widget-view+json": {
       "model_id": "4f66ef6c0e4d4f7eabe8a58ed4b4195c"
      }
     },
     "metadata": {},
     "output_type": "display_data"
    },
    {
     "name": "stdout",
     "output_type": "stream",
     "text": [
      "\n"
     ]
    }
   ],
   "source": [
    "score = score_null(test_idx)"
   ]
  },
  {
   "cell_type": "code",
   "execution_count": 46,
   "metadata": {},
   "outputs": [
    {
     "name": "stderr",
     "output_type": "stream",
     "text": [
      "/home/bmcfee/miniconda/envs/py35/lib/python3.5/site-packages/sed_eval/sound_event.py:481: RuntimeWarning: Mean of empty slice\n",
      "  'f_measure': float(numpy.nanmean(event_wise_f_measure)),\n",
      "/home/bmcfee/miniconda/envs/py35/lib/python3.5/site-packages/sed_eval/sound_event.py:482: RuntimeWarning: Mean of empty slice\n",
      "  'precision': float(numpy.nanmean(event_wise_precision)),\n"
     ]
    }
   ],
   "source": [
    "r = score.results()"
   ]
  },
  {
   "cell_type": "code",
   "execution_count": 47,
   "metadata": {},
   "outputs": [
    {
     "data": {
      "text/plain": [
       "{'accuracy': {'accuracy': 0.9402723362283898,\n",
       "  'balanced_accuracy': 0.5,\n",
       "  'sensitivity': 0.0,\n",
       "  'specificity': 1.0},\n",
       " 'error_rate': {'deletion_rate': 1.0,\n",
       "  'error_rate': 1.0,\n",
       "  'insertion_rate': 0.0,\n",
       "  'substitution_rate': 0.0},\n",
       " 'f_measure': {'f_measure': nan, 'precision': nan, 'recall': 0.0}}"
      ]
     },
     "execution_count": 47,
     "metadata": {},
     "output_type": "execute_result"
    }
   ],
   "source": [
    "r['overall']"
   ]
  }
 ],
 "metadata": {
  "kernelspec": {
   "display_name": "Python [default]",
   "language": "python",
   "name": "python3"
  },
  "language_info": {
   "codemirror_mode": {
    "name": "ipython",
    "version": 3
   },
   "file_extension": ".py",
   "mimetype": "text/x-python",
   "name": "python",
   "nbconvert_exporter": "python",
   "pygments_lexer": "ipython3",
   "version": "3.5.1"
  }
 },
 "nbformat": 4,
 "nbformat_minor": 2
}
