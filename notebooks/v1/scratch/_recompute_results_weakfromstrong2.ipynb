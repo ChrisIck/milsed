{
 "cells": [
  {
   "cell_type": "code",
   "execution_count": 1,
   "metadata": {},
   "outputs": [
    {
     "name": "stderr",
     "output_type": "stream",
     "text": [
      "Using TensorFlow backend.\n"
     ]
    }
   ],
   "source": [
    "import imp\n",
    "import json\n",
    "import os\n",
    "import pickle\n",
    "import milsed"
   ]
  },
  {
   "cell_type": "code",
   "execution_count": 2,
   "metadata": {},
   "outputs": [
    {
     "name": "stdout",
     "output_type": "stream",
     "text": [
      "/home/js7561/dev/milsed/models\n"
     ]
    }
   ],
   "source": [
    "cd ~/dev/milsed/models/"
   ]
  },
  {
   "cell_type": "code",
   "execution_count": 3,
   "metadata": {
    "collapsed": true
   },
   "outputs": [],
   "source": [
    "# SETUP STUFF\n",
    "OUTPUT_PATH = '/home/js7561/dev/milsed/models/resources/'\n",
    "train = imp.load_source('train', '/home/js7561/dev/milsed/models/02_train.py')\n",
    "pump = pickle.load(open('/home/js7561/dev/milsed/models/resources/pump.pkl', 'rb'))\n",
    "with open(os.path.join(OUTPUT_PATH, 'index_test.json'), 'r') as fp:\n",
    "    test_idx = json.load(fp)['id']\n",
    "pumpfolder = '/beegfs/js7561/datasets/dcase2017/task4_official/combined/features_silence/'\n",
    "labelfile = ('/beegfs/js7561/datasets/dcase2017/task4_official/combined/metadata/labels/'\n",
    "             '/groundtruth_strong_label_testing_set.csv')\n",
    "duration = 10.0"
   ]
  },
  {
   "cell_type": "code",
   "execution_count": 4,
   "metadata": {
    "collapsed": true
   },
   "outputs": [],
   "source": [
    "def recompute_results_weakfromstrong(version, use_orig_duration=True, save=True):\n",
    "    # Compute results\n",
    "    weight_path = os.path.join(OUTPUT_PATH, version, 'model.h5')\n",
    "    params = json.load(open(os.path.join(OUTPUT_PATH, version, 'params.json'), 'r'))\n",
    "    model, inputs, outputs = train.MODELS[params['modelname']](pump, alpha=1.0)\n",
    "    model.load_weights(weight_path)\n",
    "    results = milsed.eval.score_model(\n",
    "        OUTPUT_PATH, pump, model, test_idx, pumpfolder, labelfile, duration, version, \n",
    "        use_tqdm=True, use_orig_duration=use_orig_duration, save_jams=save, weak_from_strong=True)\n",
    "    \n",
    "    # Save them to disk\n",
    "    if save:\n",
    "        resultsfile = os.path.join(OUTPUT_PATH, version, 'predictions_weakfromstrong', 'results.json')\n",
    "        with open(resultsfile, 'w') as fp:\n",
    "            json.dump(results, fp, indent=2)\n",
    "        \n",
    "    return results"
   ]
  },
  {
   "cell_type": "code",
   "execution_count": 5,
   "metadata": {},
   "outputs": [
    {
     "name": "stdout",
     "output_type": "stream",
     "text": [
      "model017\n"
     ]
    },
    {
     "name": "stderr",
     "output_type": "stream",
     "text": [
      "Evaluating the model: 100%|██████████| 488/488 [01:36<00:00,  4.99it/s]\n",
      "/home/js7561/miniconda3/envs/py35milsed/lib/python3.5/site-packages/sklearn/metrics/classification.py:1113: UndefinedMetricWarning: F-score is ill-defined and being set to 0.0 in samples with no predicted labels.\n",
      "  'precision', 'predicted', average, warn_for)\n",
      "/home/js7561/miniconda3/envs/py35milsed/lib/python3.5/site-packages/sklearn/metrics/classification.py:1113: UndefinedMetricWarning: Precision is ill-defined and being set to 0.0 in samples with no predicted labels.\n",
      "  'precision', 'predicted', average, warn_for)\n"
     ]
    },
    {
     "name": "stdout",
     "output_type": "stream",
     "text": [
      "model018\n"
     ]
    },
    {
     "name": "stderr",
     "output_type": "stream",
     "text": [
      "Evaluating the model: 100%|██████████| 488/488 [01:41<00:00,  4.56it/s]\n"
     ]
    },
    {
     "name": "stdout",
     "output_type": "stream",
     "text": [
      "model019\n"
     ]
    },
    {
     "name": "stderr",
     "output_type": "stream",
     "text": [
      "Evaluating the model: 100%|██████████| 488/488 [02:05<00:00,  4.19it/s]\n",
      "/home/js7561/miniconda3/envs/py35milsed/lib/python3.5/site-packages/sklearn/metrics/classification.py:1113: UndefinedMetricWarning: F-score is ill-defined and being set to 0.0 in labels with no predicted samples.\n",
      "  'precision', 'predicted', average, warn_for)\n",
      "/home/js7561/miniconda3/envs/py35milsed/lib/python3.5/site-packages/sklearn/metrics/classification.py:1113: UndefinedMetricWarning: Precision is ill-defined and being set to 0.0 in labels with no predicted samples.\n",
      "  'precision', 'predicted', average, warn_for)\n"
     ]
    },
    {
     "name": "stdout",
     "output_type": "stream",
     "text": [
      "model020\n"
     ]
    },
    {
     "name": "stderr",
     "output_type": "stream",
     "text": [
      "Evaluating the model: 100%|██████████| 488/488 [01:08<00:00,  8.56it/s]\n"
     ]
    }
   ],
   "source": [
    "r = []\n",
    "models = []\n",
    "for i in range(17, 21):\n",
    "    models.append('model0{}'.format(i))\n",
    "    \n",
    "for n, version in enumerate(models):\n",
    "    print(version)\n",
    "    r.append(recompute_results_weakfromstrong(version, save=True, use_orig_duration=True))"
   ]
  },
  {
   "cell_type": "code",
   "execution_count": 8,
   "metadata": {},
   "outputs": [
    {
     "name": "stdout",
     "output_type": "stream",
     "text": [
      "model017\n"
     ]
    },
    {
     "name": "stderr",
     "output_type": "stream",
     "text": [
      "Evaluating the model: 100%|██████████| 488/488 [01:07<00:00,  6.93it/s]\n",
      "/home/js7561/miniconda3/envs/py35milsed/lib/python3.5/site-packages/sklearn/metrics/classification.py:1113: UndefinedMetricWarning: F-score is ill-defined and being set to 0.0 in samples with no predicted labels.\n",
      "  'precision', 'predicted', average, warn_for)\n",
      "/home/js7561/miniconda3/envs/py35milsed/lib/python3.5/site-packages/sklearn/metrics/classification.py:1113: UndefinedMetricWarning: Precision is ill-defined and being set to 0.0 in samples with no predicted labels.\n",
      "  'precision', 'predicted', average, warn_for)\n"
     ]
    },
    {
     "name": "stdout",
     "output_type": "stream",
     "text": [
      "model018\n"
     ]
    },
    {
     "name": "stderr",
     "output_type": "stream",
     "text": [
      "Evaluating the model: 100%|██████████| 488/488 [01:05<00:00,  9.78it/s]\n"
     ]
    }
   ],
   "source": [
    "r = []\n",
    "models = []\n",
    "for i in range(17, 19):\n",
    "    models.append('model0{}'.format(i))\n",
    "    \n",
    "for n, version in enumerate(models):\n",
    "    print(version)\n",
    "    r.append(recompute_results_weakfromstrong(version, save=True, use_orig_duration=True))"
   ]
  },
  {
   "cell_type": "code",
   "execution_count": 7,
   "metadata": {},
   "outputs": [
    {
     "name": "stdout",
     "output_type": "stream",
     "text": [
      "model021\n"
     ]
    },
    {
     "name": "stderr",
     "output_type": "stream",
     "text": [
      "Evaluating the model: 100%|██████████| 488/488 [01:03<00:00,  9.70it/s]\n",
      "/home/js7561/miniconda3/envs/py35milsed/lib/python3.5/site-packages/sklearn/metrics/classification.py:1113: UndefinedMetricWarning: F-score is ill-defined and being set to 0.0 in labels with no predicted samples.\n",
      "  'precision', 'predicted', average, warn_for)\n",
      "/home/js7561/miniconda3/envs/py35milsed/lib/python3.5/site-packages/sklearn/metrics/classification.py:1113: UndefinedMetricWarning: Precision is ill-defined and being set to 0.0 in labels with no predicted samples.\n",
      "  'precision', 'predicted', average, warn_for)\n",
      "/home/js7561/miniconda3/envs/py35milsed/lib/python3.5/site-packages/sklearn/metrics/classification.py:1113: UndefinedMetricWarning: F-score is ill-defined and being set to 0.0 in samples with no predicted labels.\n",
      "  'precision', 'predicted', average, warn_for)\n",
      "/home/js7561/miniconda3/envs/py35milsed/lib/python3.5/site-packages/sklearn/metrics/classification.py:1113: UndefinedMetricWarning: Precision is ill-defined and being set to 0.0 in samples with no predicted labels.\n",
      "  'precision', 'predicted', average, warn_for)\n"
     ]
    }
   ],
   "source": [
    "r = []\n",
    "models = []\n",
    "for i in range(21, 22):\n",
    "    models.append('model0{}'.format(i))\n",
    "    \n",
    "for n, version in enumerate(models):\n",
    "    print(version)\n",
    "    r.append(recompute_results_weakfromstrong(version, save=True, use_orig_duration=True))"
   ]
  },
  {
   "cell_type": "code",
   "execution_count": null,
   "metadata": {
    "collapsed": true
   },
   "outputs": [],
   "source": []
  }
 ],
 "metadata": {
  "kernelspec": {
   "display_name": "Python 3",
   "language": "python",
   "name": "python3"
  },
  "language_info": {
   "codemirror_mode": {
    "name": "ipython",
    "version": 3
   },
   "file_extension": ".py",
   "mimetype": "text/x-python",
   "name": "python",
   "nbconvert_exporter": "python",
   "pygments_lexer": "ipython3",
   "version": "3.5.3"
  }
 },
 "nbformat": 4,
 "nbformat_minor": 2
}
