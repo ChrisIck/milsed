{
 "cells": [
  {
   "cell_type": "code",
   "execution_count": 1,
   "metadata": {},
   "outputs": [
    {
     "name": "stderr",
     "output_type": "stream",
     "text": [
      "Using TensorFlow backend.\n"
     ]
    }
   ],
   "source": [
    "%matplotlib inline\n",
    "import jams\n",
    "import milsed"
   ]
  },
  {
   "cell_type": "code",
   "execution_count": 2,
   "metadata": {
    "collapsed": true
   },
   "outputs": [],
   "source": [
    "fname = '/beegfs/js7561/datasets/dcase2017/task4_official/test/features_silence/Y---lTs1dxhU_30.000_40.000.h5'"
   ]
  },
  {
   "cell_type": "code",
   "execution_count": 4,
   "metadata": {},
   "outputs": [],
   "source": [
    "datum = milsed.utils.load_h5(fname)"
   ]
  },
  {
   "cell_type": "code",
   "execution_count": 5,
   "metadata": {},
   "outputs": [
    {
     "data": {
      "text/plain": [
       "{'mel/mag': array([[[[-22.96606445],\n",
       "          [-20.01185226],\n",
       "          [-22.13051414],\n",
       "          ..., \n",
       "          [-79.51634216],\n",
       "          [-79.71124268],\n",
       "          [-79.71455383]],\n",
       " \n",
       "         [[-17.16335297],\n",
       "          [-21.88430023],\n",
       "          [-23.585989  ],\n",
       "          ..., \n",
       "          [-80.        ],\n",
       "          [-80.        ],\n",
       "          [-80.        ]],\n",
       " \n",
       "         [[-22.02036667],\n",
       "          [-26.22042274],\n",
       "          [-28.48296738],\n",
       "          ..., \n",
       "          [-80.        ],\n",
       "          [-80.        ],\n",
       "          [-80.        ]],\n",
       " \n",
       "         ..., \n",
       "         [[-34.1590538 ],\n",
       "          [-35.00361633],\n",
       "          [-31.60760498],\n",
       "          ..., \n",
       "          [-80.        ],\n",
       "          [-80.        ],\n",
       "          [-80.        ]],\n",
       " \n",
       "         [[-34.37856293],\n",
       "          [-36.13519669],\n",
       "          [-29.77634811],\n",
       "          ..., \n",
       "          [-80.        ],\n",
       "          [-80.        ],\n",
       "          [-80.        ]],\n",
       " \n",
       "         [[-37.751194  ],\n",
       "          [-44.70385361],\n",
       "          [-41.91004944],\n",
       "          ..., \n",
       "          [-80.        ],\n",
       "          [-80.        ],\n",
       "          [-80.        ]]]], dtype=float32),\n",
       " 'static/_valid': array([[ 0, 10]]),\n",
       " 'static/tags': array([[False, False, False, False,  True, False,  True, False, False,\n",
       "         False, False, False, False, False, False, False, False]], dtype=bool)}"
      ]
     },
     "execution_count": 5,
     "metadata": {},
     "output_type": "execute_result"
    }
   ],
   "source": [
    "datum"
   ]
  },
  {
   "cell_type": "code",
   "execution_count": null,
   "metadata": {
    "collapsed": true
   },
   "outputs": [],
   "source": []
  }
 ],
 "metadata": {
  "kernelspec": {
   "display_name": "Python 3",
   "language": "python",
   "name": "python3"
  },
  "language_info": {
   "codemirror_mode": {
    "name": "ipython",
    "version": 3
   },
   "file_extension": ".py",
   "mimetype": "text/x-python",
   "name": "python",
   "nbconvert_exporter": "python",
   "pygments_lexer": "ipython3",
   "version": "3.5.3"
  }
 },
 "nbformat": 4,
 "nbformat_minor": 2
}
