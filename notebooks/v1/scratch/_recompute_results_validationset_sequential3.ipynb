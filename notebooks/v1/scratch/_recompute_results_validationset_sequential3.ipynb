{
 "cells": [
  {
   "cell_type": "code",
   "execution_count": 1,
   "metadata": {},
   "outputs": [
    {
     "name": "stderr",
     "output_type": "stream",
     "text": [
      "Using TensorFlow backend.\n"
     ]
    }
   ],
   "source": [
    "import json\n",
    "import os\n",
    "import pickle\n",
    "import milsed\n",
    "from sklearn.model_selection import ShuffleSplit\n",
    "import pandas as pd\n",
    "from multiprocessing import Process"
   ]
  },
  {
   "cell_type": "code",
   "execution_count": 2,
   "metadata": {},
   "outputs": [
    {
     "name": "stdout",
     "output_type": "stream",
     "text": [
      "/home/js7561/dev/milsed/models\n"
     ]
    }
   ],
   "source": [
    "cd ~/dev/milsed/models/"
   ]
  },
  {
   "cell_type": "code",
   "execution_count": 3,
   "metadata": {
    "collapsed": true
   },
   "outputs": [],
   "source": [
    "# SETUP STUFF\n",
    "seed = 20170612\n",
    "OUTPUT_PATH = '/home/js7561/dev/milsed/models/resources/'\n",
    "pump = pickle.load(open('/home/js7561/dev/milsed/models/resources/pump.pkl', 'rb'))\n",
    "\n",
    "# GET VALIDATION TRACKS\n",
    "idx_train_ = pd.read_json(os.path.join(OUTPUT_PATH, 'index_train.json'))\n",
    "# Split the training data into train and validation\n",
    "splitter_tv = ShuffleSplit(n_splits=1, test_size=0.25,\n",
    "                           random_state=seed)\n",
    "train, val = next(splitter_tv.split(idx_train_))\n",
    "\n",
    "idx_train = idx_train_.iloc[train]\n",
    "idx_val = idx_train_.iloc[val]\n",
    "\n",
    "pumpfolder = '/beegfs/js7561/datasets/dcase2017/task4_official/combined/features_silence/'\n",
    "labelfile = ('/beegfs/js7561/datasets/dcase2017/task4_official/combined/metadata/labels/'\n",
    "             '/groundtruth_strong_label_testing_set.csv')\n",
    "duration = 10.0"
   ]
  },
  {
   "cell_type": "code",
   "execution_count": 4,
   "metadata": {
    "collapsed": true
   },
   "outputs": [],
   "source": [
    "val_idx = [str(x) for x in idx_val.id.values]"
   ]
  },
  {
   "cell_type": "code",
   "execution_count": 5,
   "metadata": {
    "collapsed": true
   },
   "outputs": [],
   "source": [
    "# val_idx = val_idx[:10]"
   ]
  },
  {
   "cell_type": "code",
   "execution_count": 6,
   "metadata": {},
   "outputs": [
    {
     "data": {
      "text/plain": [
       "12793"
      ]
     },
     "execution_count": 6,
     "metadata": {},
     "output_type": "execute_result"
    }
   ],
   "source": [
    "len(val_idx)"
   ]
  },
  {
   "cell_type": "code",
   "execution_count": 7,
   "metadata": {
    "collapsed": true
   },
   "outputs": [],
   "source": [
    "def recompute_results_validation(version, use_orig_duration=True, save=True):\n",
    "    # Compute results\n",
    "    weight_path = os.path.join(OUTPUT_PATH, version, 'model.h5')\n",
    "    params = json.load(open(os.path.join(OUTPUT_PATH, version, 'params.json'), 'r'))\n",
    "    model, inputs, outputs = milsed.models.MODELS[params['modelname']](pump, alpha=1.0)\n",
    "    model.load_weights(weight_path)\n",
    "    \n",
    "    # normal results\n",
    "    results = milsed.eval.score_model_validation(\n",
    "        OUTPUT_PATH, pump, model, val_idx, pumpfolder, labelfile, duration, version, \n",
    "        use_tqdm=True, use_orig_duration=use_orig_duration, save_jams=save, weak_from_strong=False)\n",
    "    \n",
    "    # weak from strong results\n",
    "    results_wfs = milsed.eval.score_model_validation(\n",
    "        OUTPUT_PATH, pump, model, val_idx, pumpfolder, labelfile, duration, version, \n",
    "        use_tqdm=True, use_orig_duration=use_orig_duration, save_jams=save, weak_from_strong=True)\n",
    "    \n",
    "    # Save them to disk\n",
    "    if save:\n",
    "        resultsfile = os.path.join(OUTPUT_PATH, version, 'predictions_validation', 'predictions', 'results.json')\n",
    "        with open(resultsfile, 'w') as fp:\n",
    "            json.dump(results, fp, indent=2)\n",
    "            \n",
    "        resultsfile_wfs = os.path.join(OUTPUT_PATH, version, 'predictions_validation', \n",
    "                                       'predictions_weakfromstrong', 'results.json')\n",
    "        with open(resultsfile_wfs, 'w') as fp:\n",
    "            json.dump(results_wfs, fp, indent=2)\n",
    "    \n",
    "    print('Completed {}'.format(version))\n",
    "    return results, results_wfs"
   ]
  },
  {
   "cell_type": "code",
   "execution_count": 8,
   "metadata": {
    "scrolled": true
   },
   "outputs": [
    {
     "name": "stdout",
     "output_type": "stream",
     "text": [
      "Launched model016\n"
     ]
    },
    {
     "name": "stderr",
     "output_type": "stream",
     "text": [
      "Evaluating the model: 100%|██████████| 12793/12793 [34:47<00:00,  6.50it/s]\n",
      "/home/js7561/miniconda3/envs/py35milsed/lib/python3.5/site-packages/sklearn/metrics/classification.py:1113: UndefinedMetricWarning: F-score is ill-defined and being set to 0.0 in samples with no predicted labels.\n",
      "  'precision', 'predicted', average, warn_for)\n",
      "/home/js7561/miniconda3/envs/py35milsed/lib/python3.5/site-packages/sklearn/metrics/classification.py:1113: UndefinedMetricWarning: Precision is ill-defined and being set to 0.0 in samples with no predicted labels.\n",
      "  'precision', 'predicted', average, warn_for)\n",
      "Evaluating the model: 100%|██████████| 12793/12793 [32:21<00:00,  6.62it/s]\n"
     ]
    },
    {
     "name": "stdout",
     "output_type": "stream",
     "text": [
      "Completed model016\n",
      "Launched model017\n"
     ]
    },
    {
     "name": "stderr",
     "output_type": "stream",
     "text": [
      "Evaluating the model: 100%|██████████| 12793/12793 [33:06<00:00,  6.38it/s]\n",
      "Evaluating the model: 100%|██████████| 12793/12793 [34:39<00:00,  5.70it/s]\n"
     ]
    },
    {
     "name": "stdout",
     "output_type": "stream",
     "text": [
      "Completed model017\n",
      "Launched model018\n"
     ]
    },
    {
     "name": "stderr",
     "output_type": "stream",
     "text": [
      "Evaluating the model: 100%|██████████| 12793/12793 [36:39<00:00,  5.62it/s]\n",
      "Evaluating the model: 100%|██████████| 12793/12793 [35:24<00:00,  5.71it/s]\n"
     ]
    },
    {
     "name": "stdout",
     "output_type": "stream",
     "text": [
      "Completed model018\n",
      "Launched model019\n"
     ]
    },
    {
     "name": "stderr",
     "output_type": "stream",
     "text": [
      "Evaluating the model: 100%|██████████| 12793/12793 [35:43<00:00,  6.17it/s]\n",
      "/home/js7561/miniconda3/envs/py35milsed/lib/python3.5/site-packages/sklearn/metrics/classification.py:1113: UndefinedMetricWarning: F-score is ill-defined and being set to 0.0 in labels with no predicted samples.\n",
      "  'precision', 'predicted', average, warn_for)\n",
      "/home/js7561/miniconda3/envs/py35milsed/lib/python3.5/site-packages/sklearn/metrics/classification.py:1113: UndefinedMetricWarning: Precision is ill-defined and being set to 0.0 in labels with no predicted samples.\n",
      "  'precision', 'predicted', average, warn_for)\n",
      "Evaluating the model: 100%|██████████| 12793/12793 [35:20<00:00,  5.85it/s]\n"
     ]
    },
    {
     "name": "stdout",
     "output_type": "stream",
     "text": [
      "Completed model019\n",
      "Launched model020\n"
     ]
    },
    {
     "name": "stderr",
     "output_type": "stream",
     "text": [
      "Evaluating the model: 100%|██████████| 12793/12793 [23:55<00:00,  8.98it/s]\n",
      "Evaluating the model: 100%|██████████| 12793/12793 [20:29<00:00, 10.40it/s]\n"
     ]
    },
    {
     "name": "stdout",
     "output_type": "stream",
     "text": [
      "Completed model020\n",
      "Launched model021\n"
     ]
    },
    {
     "name": "stderr",
     "output_type": "stream",
     "text": [
      "Evaluating the model: 100%|██████████| 12793/12793 [26:16<00:00,  7.91it/s]\n",
      "Evaluating the model: 100%|██████████| 12793/12793 [26:17<00:00,  8.00it/s]\n"
     ]
    },
    {
     "name": "stdout",
     "output_type": "stream",
     "text": [
      "Completed model021\n"
     ]
    }
   ],
   "source": [
    "models = []\n",
    "# for i in range(1, 10):\n",
    "#     models.append('model00{}'.format(i))\n",
    "for i in range(16, 22):\n",
    "    models.append('model0{}'.format(i))\n",
    "    \n",
    "for n, version in enumerate(models):\n",
    "    print('Launched {}'.format(version))\n",
    "    recompute_results_validation(version, save=True, use_orig_duration=True)"
   ]
  },
  {
   "cell_type": "code",
   "execution_count": 8,
   "metadata": {},
   "outputs": [
    {
     "name": "stdout",
     "output_type": "stream",
     "text": [
      "Launched model025bm\n"
     ]
    },
    {
     "name": "stderr",
     "output_type": "stream",
     "text": [
      "Evaluating the model: 100%|██████████| 12793/12793 [24:33<00:00,  8.14it/s]\n",
      "/home/js7561/miniconda3/envs/py35milsed/lib/python3.5/site-packages/sklearn/metrics/classification.py:1113: UndefinedMetricWarning: F-score is ill-defined and being set to 0.0 in samples with no predicted labels.\n",
      "  'precision', 'predicted', average, warn_for)\n",
      "/home/js7561/miniconda3/envs/py35milsed/lib/python3.5/site-packages/sklearn/metrics/classification.py:1113: UndefinedMetricWarning: Precision is ill-defined and being set to 0.0 in samples with no predicted labels.\n",
      "  'precision', 'predicted', average, warn_for)\n",
      "Evaluating the model: 100%|██████████| 12793/12793 [26:56<00:00,  6.49it/s]\n"
     ]
    },
    {
     "name": "stdout",
     "output_type": "stream",
     "text": [
      "Completed model025bm\n",
      "Launched model026bm\n"
     ]
    },
    {
     "name": "stderr",
     "output_type": "stream",
     "text": [
      "Evaluating the model: 100%|██████████| 12793/12793 [24:40<00:00,  9.25it/s]\n",
      "Evaluating the model: 100%|██████████| 12793/12793 [23:58<00:00,  7.67it/s]\n"
     ]
    },
    {
     "name": "stdout",
     "output_type": "stream",
     "text": [
      "Completed model026bm\n"
     ]
    }
   ],
   "source": [
    "models = ['model025bm', 'model026bm']\n",
    "    \n",
    "for n, version in enumerate(models):\n",
    "    print('Launched {}'.format(version))\n",
    "    recompute_results_validation(version, save=True, use_orig_duration=True)"
   ]
  },
  {
   "cell_type": "code",
   "execution_count": null,
   "metadata": {
    "collapsed": true
   },
   "outputs": [],
   "source": []
  }
 ],
 "metadata": {
  "kernelspec": {
   "display_name": "Python 3",
   "language": "python",
   "name": "python3"
  },
  "language_info": {
   "codemirror_mode": {
    "name": "ipython",
    "version": 3
   },
   "file_extension": ".py",
   "mimetype": "text/x-python",
   "name": "python",
   "nbconvert_exporter": "python",
   "pygments_lexer": "ipython3",
   "version": "3.5.3"
  }
 },
 "nbformat": 4,
 "nbformat_minor": 2
}
