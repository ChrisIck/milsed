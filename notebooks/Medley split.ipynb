{
 "cells": [
  {
   "cell_type": "code",
   "execution_count": 1,
   "metadata": {},
   "outputs": [],
   "source": [
    "import json\n",
    "import numpy as np\n",
    "from sklearn.model_selection import GroupKFold, ShuffleSplit\n",
    "import os\n",
    "import glob\n",
    "import librosa"
   ]
  },
  {
   "cell_type": "code",
   "execution_count": 2,
   "metadata": {},
   "outputs": [],
   "source": [
    "artist_index_simple = json.load(open('/home/bmcfee/git/milsed/models_medley/resources/medley_artist_index.json'))"
   ]
  },
  {
   "cell_type": "code",
   "execution_count": 3,
   "metadata": {},
   "outputs": [],
   "source": [
    "artist_index = {}"
   ]
  },
  {
   "cell_type": "code",
   "execution_count": 4,
   "metadata": {},
   "outputs": [],
   "source": [
    "for key in artist_index_simple:\n",
    "    \n",
    "    hits = sorted(glob.glob('/home/bmcfee/data/Medleydb_Downmix/{}*.jams'.format(key)))\n",
    "    new_keys = [os.path.splitext(os.path.basename(_))[0] for _ in hits]\n",
    "    \n",
    "    for k in new_keys:\n",
    "        artist_index[k] = artist_index_simple[key]"
   ]
  },
  {
   "cell_type": "code",
   "execution_count": 99,
   "metadata": {},
   "outputs": [],
   "source": [
    "durations = {}\n",
    "for key in artist_index:\n",
    "    duration = librosa.get_duration(filename='/home/bmcfee/data/Medleydb_Downmix/{}.ogg'.format(key))\n",
    "    durations[key] = duration"
   ]
  },
  {
   "cell_type": "code",
   "execution_count": 5,
   "metadata": {},
   "outputs": [],
   "source": [
    "items = sorted(list(artist_index.keys()))"
   ]
  },
  {
   "cell_type": "code",
   "execution_count": 6,
   "metadata": {},
   "outputs": [],
   "source": [
    "groups = [artist_index[item] for item in items]"
   ]
  },
  {
   "cell_type": "code",
   "execution_count": 7,
   "metadata": {},
   "outputs": [],
   "source": [
    "G = GroupKFold(n_splits=5)\n",
    "\n",
    "for fold, (train_full, test) in enumerate(G.split(X=np.arange(len(items)), groups=groups)):\n",
    "    # This gives us a train-test split.\n",
    "    # Now we need to make a validate split\n",
    "    idx_test = [items[t] for t in test]\n",
    "    S = ShuffleSplit(n_splits=1, test_size=0.25, random_state=20180227)\n",
    "    for train, val in S.split(X=np.arange(len(train_full)), y=np.zeros(len(train_full))):\n",
    "        idx_train = [items[train_full[t]] for t in train]\n",
    "        idx_val = [items[train_full[t]] for t in val]\n",
    "        \n",
    "    with open('/home/bmcfee/git/milsed/models_medley/resources/index_train{:02d}.json'.format(fold), 'w') as fdesc:\n",
    "        json.dump(dict(id=idx_train), fdesc, indent=2)\n",
    "    with open('/home/bmcfee/git/milsed/models_medley/resources/index_validate{:02d}.json'.format(fold), 'w') as fdesc:\n",
    "        json.dump(dict(id=idx_val), fdesc, indent=2)\n",
    "    with open('/home/bmcfee/git/milsed/models_medley/resources/index_test{:02d}.json'.format(fold), 'w') as fdesc:\n",
    "        json.dump(dict(id=idx_test), fdesc, indent=2)"
   ]
  },
  {
   "cell_type": "code",
   "execution_count": 104,
   "metadata": {},
   "outputs": [],
   "source": [
    "with open('/home/bmcfee/git/milsed/models_medley/resources/durations.json', 'w') as fdesc:\n",
    "    json.dump(durations, fdesc, indent=2)"
   ]
  },
  {
   "cell_type": "markdown",
   "metadata": {},
   "source": [
    "---\n",
    "# Create the gt annotation csv"
   ]
  },
  {
   "cell_type": "code",
   "execution_count": 107,
   "metadata": {},
   "outputs": [],
   "source": [
    "import pandas as pd\n",
    "import jams\n",
    "from tqdm import tqdm_notebook as tqdm"
   ]
  },
  {
   "cell_type": "code",
   "execution_count": 129,
   "metadata": {},
   "outputs": [],
   "source": [
    "MEDLEY_CLASSES = ['drum set',\n",
    "                  'electric bass',\n",
    "                  'piano',\n",
    "                  'male singer',\n",
    "                  'clean electric guitar',\n",
    "                  'vocalists',\n",
    "                  'female singer',\n",
    "                  'acoustic guitar',\n",
    "                  'distorted electric guitar',\n",
    "                  'auxiliary percussion',\n",
    "                  'double bass',\n",
    "                  'violin',\n",
    "                  'cello',\n",
    "                  'flute']"
   ]
  },
  {
   "cell_type": "code",
   "execution_count": 130,
   "metadata": {},
   "outputs": [],
   "source": [
    "jamses = sorted(glob.glob('/home/bmcfee/data/Medleydb_Downmix/*.jams'))"
   ]
  },
  {
   "cell_type": "code",
   "execution_count": 133,
   "metadata": {},
   "outputs": [
    {
     "data": {
      "application/vnd.jupyter.widget-view+json": {
       "model_id": "a8df9292d44c438fa804e3769e583fb0",
       "version_major": 2,
       "version_minor": 0
      },
      "text/html": [
       "<p>Failed to display Jupyter Widget of type <code>HBox</code>.</p>\n",
       "<p>\n",
       "  If you're reading this message in the Jupyter Notebook or JupyterLab Notebook, it may mean\n",
       "  that the widgets JavaScript is still loading. If this message persists, it\n",
       "  likely means that the widgets JavaScript library is either not installed or\n",
       "  not enabled. See the <a href=\"https://ipywidgets.readthedocs.io/en/stable/user_install.html\">Jupyter\n",
       "  Widgets Documentation</a> for setup instructions.\n",
       "</p>\n",
       "<p>\n",
       "  If you're reading this message in another frontend (for example, a static\n",
       "  rendering on GitHub or <a href=\"https://nbviewer.jupyter.org/\">NBViewer</a>),\n",
       "  it may mean that your frontend doesn't currently support widgets.\n",
       "</p>\n"
      ],
      "text/plain": [
       "HBox(children=(IntProgress(value=0, max=531), HTML(value='')))"
      ]
     },
     "metadata": {},
     "output_type": "display_data"
    },
    {
     "name": "stdout",
     "output_type": "stream",
     "text": [
      "\n"
     ]
    }
   ],
   "source": [
    "records = []\n",
    "for jf in tqdm(jamses):\n",
    "    fid = os.path.splitext(os.path.basename(jf))[0]\n",
    "    jam = jams.load(jf)\n",
    "    ann = jam.annotations['tag_medleydb_instruments', 0]\n",
    "    \n",
    "    for obs in ann:\n",
    "        if obs.value not in MEDLEY_CLASSES:\n",
    "            continue\n",
    "        records.append((fid, obs.time, obs.time + obs.duration, obs.value))"
   ]
  },
  {
   "cell_type": "code",
   "execution_count": 134,
   "metadata": {},
   "outputs": [],
   "source": [
    "df = pd.DataFrame.from_records(records, columns=['id', 'start', 'end', 'value'])"
   ]
  },
  {
   "cell_type": "code",
   "execution_count": 136,
   "metadata": {},
   "outputs": [],
   "source": [
    "df.to_csv('/home/bmcfee/git/milsed/models_medley/resources/gt_all.csv', sep='\\t', header=False, index=False)"
   ]
  }
 ],
 "metadata": {
  "kernelspec": {
   "display_name": "Python 3.5",
   "language": "python",
   "name": "python3.5"
  },
  "language_info": {
   "codemirror_mode": {
    "name": "ipython",
    "version": 3
   },
   "file_extension": ".py",
   "mimetype": "text/x-python",
   "name": "python",
   "nbconvert_exporter": "python",
   "pygments_lexer": "ipython3",
   "version": "3.5.5"
  }
 },
 "nbformat": 4,
 "nbformat_minor": 2
}
