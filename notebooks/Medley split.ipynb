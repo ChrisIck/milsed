{
 "cells": [
  {
   "cell_type": "code",
   "execution_count": 75,
   "metadata": {},
   "outputs": [],
   "source": [
    "import json\n",
    "import numpy as np\n",
    "from sklearn.model_selection import GroupKFold, ShuffleSplit"
   ]
  },
  {
   "cell_type": "code",
   "execution_count": 11,
   "metadata": {},
   "outputs": [],
   "source": [
    "artist_index = json.load(open('/home/bmcfee/git/milsed/models_medley/resources/medley_artist_index.json'))"
   ]
  },
  {
   "cell_type": "code",
   "execution_count": 15,
   "metadata": {},
   "outputs": [],
   "source": [
    "items = sorted(list(artist_index.keys()))"
   ]
  },
  {
   "cell_type": "code",
   "execution_count": 16,
   "metadata": {},
   "outputs": [],
   "source": [
    "groups = [artist_index[item] for item in items]"
   ]
  },
  {
   "cell_type": "code",
   "execution_count": 81,
   "metadata": {},
   "outputs": [],
   "source": [
    "G = GroupKFold(n_splits=5)\n",
    "\n",
    "for fold, (train_full, test) in enumerate(G.split(X=np.arange(len(items)), groups=groups)):\n",
    "    # This gives us a train-test split.\n",
    "    # Now we need to make a validate split\n",
    "    idx_test = [items[t] for t in test]\n",
    "    S = ShuffleSplit(n_splits=1, random_state=20180227)\n",
    "    for train, val in S.split(X=np.arange(len(train_full)), y=np.zeros(len(train_full))):\n",
    "        idx_train = [items[train_full[t]] for t in train]\n",
    "        idx_val = [items[train_full[t]] for t in val]\n",
    "        \n",
    "    with open('/home/bmcfee/git/milsed/models_medley/resources/index_train{:02d}.json'.format(fold), 'w') as fdesc:\n",
    "        json.dump(dict(id=idx_train), fdesc, indent=2)\n",
    "    with open('/home/bmcfee/git/milsed/models_medley/resources/index_validate{:02d}.json'.format(fold), 'w') as fdesc:\n",
    "        json.dump(dict(id=idx_val), fdesc, indent=2)\n",
    "    with open('/home/bmcfee/git/milsed/models_medley/resources/index_test{:02d}.json'.format(fold), 'w') as fdesc:\n",
    "        json.dump(dict(id=idx_test), fdesc, indent=2)"
   ]
  }
 ],
 "metadata": {
  "kernelspec": {
   "display_name": "Python 3.5",
   "language": "python",
   "name": "python3.5"
  },
  "language_info": {
   "codemirror_mode": {
    "name": "ipython",
    "version": 3
   },
   "file_extension": ".py",
   "mimetype": "text/x-python",
   "name": "python",
   "nbconvert_exporter": "python",
   "pygments_lexer": "ipython3",
   "version": "3.5.5"
  }
 },
 "nbformat": 4,
 "nbformat_minor": 2
}
