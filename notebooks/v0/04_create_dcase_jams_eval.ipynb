{
 "cells": [
  {
   "cell_type": "markdown",
   "metadata": {},
   "source": [
    "# Create JAMS files from the provided DCASE annotations"
   ]
  },
  {
   "cell_type": "code",
   "execution_count": 4,
   "metadata": {
    "collapsed": true
   },
   "outputs": [],
   "source": [
    "import jams\n",
    "import os\n",
    "import sox\n",
    "import glob\n",
    "import pandas as pd\n",
    "import numpy as np\n",
    "from tqdm import tqdm"
   ]
  },
  {
   "cell_type": "code",
   "execution_count": 2,
   "metadata": {},
   "outputs": [
    {
     "data": {
      "text/plain": [
       "'0.3.0'"
      ]
     },
     "execution_count": 2,
     "metadata": {},
     "output_type": "execute_result"
    }
   ],
   "source": [
    "jams.__version__"
   ]
  },
  {
   "cell_type": "markdown",
   "metadata": {},
   "source": [
    "## Define all the things we need"
   ]
  },
  {
   "cell_type": "code",
   "execution_count": 3,
   "metadata": {
    "collapsed": true
   },
   "outputs": [],
   "source": [
    "DCASE_CLASSES = ['Train horn',\n",
    "                 'Air horn, truck horn',\n",
    "                 'Car alarm',\n",
    "                 'Reversing beeps',\n",
    "                 'Ambulance (siren)',\n",
    "                 'Police car (siren)',\n",
    "                 'Fire engine, fire truck (siren)',\n",
    "                 'Civil defense siren',\n",
    "                 'Screaming',\n",
    "                 'Bicycle',\n",
    "                 'Skateboard',\n",
    "                 'Car',\n",
    "                 'Car passing by',\n",
    "                 'Bus',\n",
    "                 'Truck',\n",
    "                 'Motorcycle',\n",
    "                 'Train']"
   ]
  },
  {
   "cell_type": "code",
   "execution_count": 5,
   "metadata": {
    "collapsed": true
   },
   "outputs": [],
   "source": [
    "def create_dcase_jam(audiofile, weakdf, split, verbose=False):\n",
    "    \n",
    "    base_folder = '/beegfs/js7561/datasets/dcase2017/task4_official/'\n",
    "    splitfolder = os.path.join(base_folder, split)\n",
    "\n",
    "    # Create jam\n",
    "    jam = jams.JAMS()\n",
    "\n",
    "    # Create annotation\n",
    "    ann = jams.Annotation('tag_open')\n",
    "    # duration = sox.file_info.duration(audiofile)\n",
    "    duration = 10.0\n",
    "    ann.duration = duration\n",
    "    \n",
    "    # Get labels from CSV file    \n",
    "    audiobase = os.path.basename(audiofile)\n",
    "    fid = audiobase[1:12]\n",
    "    if verbose:\n",
    "        print(fid)\n",
    "    labels = weakdf[weakdf['filename'].str.contains(fid)].label.values\n",
    "    assert len(labels) > 0\n",
    "    if verbose:\n",
    "        print(labels)\n",
    "        \n",
    "    # for strong annotation, remove duplicates\n",
    "    labels = list(np.unique(labels))\n",
    "    \n",
    "    # Add tag for each label\n",
    "    for l in labels:\n",
    "        ann.append(time=0, duration=duration, value=l, confidence=1)\n",
    "        \n",
    "    # Fill file metadata\n",
    "    jam.file_metadata.title = audiobase\n",
    "    jam.file_metadata.release = '1.0'\n",
    "    jam.file_metadata.duration = duration\n",
    "    jam.file_metadata.artist = ''\n",
    "\n",
    "    # Fill annotation metadata\n",
    "    ann.annotation_metadata.version = '1.0'\n",
    "    ann.annotation_metadata.corpus = 'DCASE 2017 Task 4'\n",
    "    ann.annotation_metadata.data_source = 'AudioSet'\n",
    "\n",
    "    # Add annotation to jam\n",
    "    jam.annotations.append(ann)\n",
    "\n",
    "    # Return jam\n",
    "    return jam"
   ]
  },
  {
   "cell_type": "code",
   "execution_count": 5,
   "metadata": {
    "collapsed": true
   },
   "outputs": [],
   "source": [
    "# # Test\n",
    "# jam = create_dcase_jam('Y---lTs1dxhU_30.000_40.000', split='test')\n",
    "# print(jam)"
   ]
  },
  {
   "cell_type": "markdown",
   "metadata": {},
   "source": [
    "## Create JAMS files for the training set"
   ]
  },
  {
   "cell_type": "code",
   "execution_count": 7,
   "metadata": {},
   "outputs": [
    {
     "name": "stderr",
     "output_type": "stream",
     "text": [
      "100%|██████████| 1103/1103 [00:13<00:00, 81.28it/s]\n"
     ]
    }
   ],
   "source": [
    "base_folder = '/beegfs/js7561/datasets/dcase2017/task4_official/'\n",
    "split = 'eval'\n",
    "\n",
    "weakcsvfile = os.path.join(base_folder, split, 'annotation_csv', 'groundtruth_strong_label_{:s}uation_set.csv'.format(split))\n",
    "weakdf = pd.read_csv(weakcsvfile, header=None, sep='\\t')\n",
    "weakdf.columns = ['filename', 'start_time', 'end_time', 'label']\n",
    "\n",
    "audiofiles = glob.glob(os.path.join(base_folder, split, 'audio_silence', '*.wav'))\n",
    "\n",
    "verbose=False\n",
    "for af in tqdm(audiofiles):\n",
    "# for n, af in enumerate(audiofiles):\n",
    "#     print(n, os.path.basename(af))\n",
    "#     if n==20:\n",
    "#         verbose = True\n",
    "    jam = create_dcase_jam(af, weakdf, split, verbose=verbose)\n",
    "    jam.save(af.replace('.wav', '.jams'))"
   ]
  },
  {
   "cell_type": "code",
   "execution_count": null,
   "metadata": {
    "collapsed": true
   },
   "outputs": [],
   "source": []
  }
 ],
 "metadata": {
  "kernelspec": {
   "display_name": "Python 3",
   "language": "python",
   "name": "python3"
  },
  "language_info": {
   "codemirror_mode": {
    "name": "ipython",
    "version": 3
   },
   "file_extension": ".py",
   "mimetype": "text/x-python",
   "name": "python",
   "nbconvert_exporter": "python",
   "pygments_lexer": "ipython3",
   "version": "3.5.3"
  }
 },
 "nbformat": 4,
 "nbformat_minor": 2
}
