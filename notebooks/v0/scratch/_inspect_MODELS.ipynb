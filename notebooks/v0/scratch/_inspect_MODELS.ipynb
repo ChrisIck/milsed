{
 "cells": [
  {
   "cell_type": "code",
   "execution_count": 2,
   "metadata": {
    "collapsed": true
   },
   "outputs": [],
   "source": [
    "from milsed.models import MODELS\n",
    "import pickle"
   ]
  },
  {
   "cell_type": "markdown",
   "metadata": {},
   "source": [
    "## Load pump and set alpha"
   ]
  },
  {
   "cell_type": "code",
   "execution_count": 3,
   "metadata": {
    "collapsed": true
   },
   "outputs": [],
   "source": [
    "pumpfile = '/home/js7561/dev/milsed/models/resources/pump.pkl'\n",
    "with open(pumpfile, 'rb') as fp:\n",
    "    pump = pickle.load(fp)"
   ]
  },
  {
   "cell_type": "code",
   "execution_count": 4,
   "metadata": {
    "collapsed": true
   },
   "outputs": [],
   "source": [
    "alpha = 1.0"
   ]
  },
  {
   "cell_type": "markdown",
   "metadata": {},
   "source": [
    "## crnn1D with softmax pool"
   ]
  },
  {
   "cell_type": "code",
   "execution_count": 5,
   "metadata": {
    "collapsed": true
   },
   "outputs": [],
   "source": [
    "model, inputs, outputs = MODELS['crnn1d_smp'](pump, alpha)"
   ]
  },
  {
   "cell_type": "code",
   "execution_count": 6,
   "metadata": {},
   "outputs": [
    {
     "name": "stdout",
     "output_type": "stream",
     "text": [
      "_________________________________________________________________\n",
      "Layer (type)                 Output Shape              Param #   \n",
      "=================================================================\n",
      "mel/mag (InputLayer)         (None, None, 128, 1)      0         \n",
      "_________________________________________________________________\n",
      "batch_normalization_1 (Batch (None, None, 128, 1)      4         \n",
      "_________________________________________________________________\n",
      "squeeze_layer_1 (SqueezeLaye (None, None, 128)         0         \n",
      "_________________________________________________________________\n",
      "conv1d_1 (Conv1D)            (None, None, 64)          24640     \n",
      "_________________________________________________________________\n",
      "bidirectional_1 (Bidirection (None, None, 256)         148224    \n",
      "_________________________________________________________________\n",
      "dynamic/tags (TimeDistribute (None, None, 17)          4369      \n",
      "_________________________________________________________________\n",
      "static/tags (SoftMaxPool)    (None, 17)                0         \n",
      "=================================================================\n",
      "Total params: 177,237\n",
      "Trainable params: 177,235\n",
      "Non-trainable params: 2\n",
      "_________________________________________________________________\n"
     ]
    }
   ],
   "source": [
    "model.summary()"
   ]
  },
  {
   "cell_type": "markdown",
   "metadata": {},
   "source": [
    "## crnn1D with max pool"
   ]
  },
  {
   "cell_type": "code",
   "execution_count": 7,
   "metadata": {
    "collapsed": true
   },
   "outputs": [],
   "source": [
    "model, inputs, outputs = MODELS['crnn1d_max'](pump, alpha)"
   ]
  },
  {
   "cell_type": "code",
   "execution_count": 8,
   "metadata": {},
   "outputs": [
    {
     "name": "stdout",
     "output_type": "stream",
     "text": [
      "_________________________________________________________________\n",
      "Layer (type)                 Output Shape              Param #   \n",
      "=================================================================\n",
      "mel/mag (InputLayer)         (None, None, 128, 1)      0         \n",
      "_________________________________________________________________\n",
      "batch_normalization_2 (Batch (None, None, 128, 1)      4         \n",
      "_________________________________________________________________\n",
      "squeeze_layer_2 (SqueezeLaye (None, None, 128)         0         \n",
      "_________________________________________________________________\n",
      "conv1d_2 (Conv1D)            (None, None, 64)          24640     \n",
      "_________________________________________________________________\n",
      "bidirectional_2 (Bidirection (None, None, 256)         148224    \n",
      "_________________________________________________________________\n",
      "dynamic/tags (TimeDistribute (None, None, 17)          4369      \n",
      "_________________________________________________________________\n",
      "static/tags (GlobalMaxPoolin (None, 17)                0         \n",
      "=================================================================\n",
      "Total params: 177,237\n",
      "Trainable params: 177,235\n",
      "Non-trainable params: 2\n",
      "_________________________________________________________________\n"
     ]
    }
   ],
   "source": [
    "model.summary()"
   ]
  },
  {
   "cell_type": "markdown",
   "metadata": {},
   "source": [
    "## crnn1D with mean pool"
   ]
  },
  {
   "cell_type": "code",
   "execution_count": 9,
   "metadata": {
    "collapsed": true
   },
   "outputs": [],
   "source": [
    "model, inputs, outputs = MODELS['crnn1d_avg'](pump, alpha)"
   ]
  },
  {
   "cell_type": "code",
   "execution_count": 10,
   "metadata": {},
   "outputs": [
    {
     "name": "stdout",
     "output_type": "stream",
     "text": [
      "_________________________________________________________________\n",
      "Layer (type)                 Output Shape              Param #   \n",
      "=================================================================\n",
      "mel/mag (InputLayer)         (None, None, 128, 1)      0         \n",
      "_________________________________________________________________\n",
      "batch_normalization_3 (Batch (None, None, 128, 1)      4         \n",
      "_________________________________________________________________\n",
      "squeeze_layer_3 (SqueezeLaye (None, None, 128)         0         \n",
      "_________________________________________________________________\n",
      "conv1d_3 (Conv1D)            (None, None, 64)          24640     \n",
      "_________________________________________________________________\n",
      "bidirectional_3 (Bidirection (None, None, 256)         148224    \n",
      "_________________________________________________________________\n",
      "dynamic/tags (TimeDistribute (None, None, 17)          4369      \n",
      "_________________________________________________________________\n",
      "static/tags (GlobalAveragePo (None, 17)                0         \n",
      "=================================================================\n",
      "Total params: 177,237\n",
      "Trainable params: 177,235\n",
      "Non-trainable params: 2\n",
      "_________________________________________________________________\n"
     ]
    }
   ],
   "source": [
    "model.summary()"
   ]
  },
  {
   "cell_type": "markdown",
   "metadata": {},
   "source": [
    "## cnn1D with softmaxpool"
   ]
  },
  {
   "cell_type": "code",
   "execution_count": 11,
   "metadata": {
    "collapsed": true
   },
   "outputs": [],
   "source": [
    "model, inputs, outputs = MODELS['cnn1d_smp'](pump, alpha)"
   ]
  },
  {
   "cell_type": "code",
   "execution_count": 12,
   "metadata": {},
   "outputs": [
    {
     "name": "stdout",
     "output_type": "stream",
     "text": [
      "_________________________________________________________________\n",
      "Layer (type)                 Output Shape              Param #   \n",
      "=================================================================\n",
      "mel/mag (InputLayer)         (None, None, 128, 1)      0         \n",
      "_________________________________________________________________\n",
      "batch_normalization_4 (Batch (None, None, 128, 1)      4         \n",
      "_________________________________________________________________\n",
      "squeeze_layer_4 (SqueezeLaye (None, None, 128)         0         \n",
      "_________________________________________________________________\n",
      "conv1d_4 (Conv1D)            (None, None, 64)          24640     \n",
      "_________________________________________________________________\n",
      "dynamic/tags (TimeDistribute (None, None, 17)          1105      \n",
      "_________________________________________________________________\n",
      "static/tags (SoftMaxPool)    (None, 17)                0         \n",
      "=================================================================\n",
      "Total params: 25,749\n",
      "Trainable params: 25,747\n",
      "Non-trainable params: 2\n",
      "_________________________________________________________________\n"
     ]
    }
   ],
   "source": [
    "model.summary()"
   ]
  },
  {
   "cell_type": "code",
   "execution_count": null,
   "metadata": {
    "collapsed": true
   },
   "outputs": [],
   "source": []
  }
 ],
 "metadata": {
  "kernelspec": {
   "display_name": "Python 3",
   "language": "python",
   "name": "python3"
  },
  "language_info": {
   "codemirror_mode": {
    "name": "ipython",
    "version": 3
   },
   "file_extension": ".py",
   "mimetype": "text/x-python",
   "name": "python",
   "nbconvert_exporter": "python",
   "pygments_lexer": "ipython3",
   "version": "3.5.3"
  }
 },
 "nbformat": 4,
 "nbformat_minor": 2
}
