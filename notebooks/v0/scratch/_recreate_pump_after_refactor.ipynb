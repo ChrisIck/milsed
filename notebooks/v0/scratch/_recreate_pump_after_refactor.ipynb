{
 "cells": [
  {
   "cell_type": "code",
   "execution_count": 1,
   "metadata": {
    "collapsed": true
   },
   "outputs": [],
   "source": [
    "import pumpp\n",
    "import pickle\n",
    "import os"
   ]
  },
  {
   "cell_type": "code",
   "execution_count": 3,
   "metadata": {},
   "outputs": [
    {
     "name": "stdout",
     "output_type": "stream",
     "text": [
      "0.3.0\n",
      "/home/js7561/miniconda3/envs/py35milsed/lib/python3.5/site-packages/pumpp/__init__.py\n"
     ]
    }
   ],
   "source": [
    "print(pumpp.__version__)\n",
    "print(pumpp.__file__)"
   ]
  },
  {
   "cell_type": "code",
   "execution_count": 4,
   "metadata": {},
   "outputs": [
    {
     "data": {
      "text/plain": [
       "'/home/js7561/dev/milsed/notebooks'"
      ]
     },
     "execution_count": 4,
     "metadata": {},
     "output_type": "execute_result"
    }
   ],
   "source": [
    "pwd"
   ]
  },
  {
   "cell_type": "code",
   "execution_count": 5,
   "metadata": {
    "collapsed": true
   },
   "outputs": [],
   "source": [
    "OUTPUT_PATH = '/home/js7561/dev/milsed/models/resources/'\n",
    "\n",
    "DCASE_CLASSES = ['Train horn',\n",
    "                 'Air horn, truck horn',\n",
    "                 'Car alarm',\n",
    "                 'Reversing beeps',\n",
    "                 'Ambulance (siren)',\n",
    "                 'Police car (siren)',\n",
    "                 'Fire engine, fire truck (siren)',\n",
    "                 'Civil defense siren',\n",
    "                 'Screaming',\n",
    "                 'Bicycle',\n",
    "                 'Skateboard',\n",
    "                 'Car',\n",
    "                 'Car passing by',\n",
    "                 'Bus',\n",
    "                 'Truck',\n",
    "                 'Motorcycle',\n",
    "                 'Train']"
   ]
  },
  {
   "cell_type": "code",
   "execution_count": 6,
   "metadata": {
    "collapsed": true
   },
   "outputs": [],
   "source": [
    "def make_pump(sr, hop_length, n_fft, n_mels):\n",
    "\n",
    "    p_feature = pumpp.feature.Mel(name='mel',\n",
    "                                  sr=sr,\n",
    "                                  hop_length=hop_length,\n",
    "                                  n_fft=n_fft,\n",
    "                                  n_mels=n_mels,\n",
    "                                  log=True,\n",
    "                                  conv='tf')\n",
    "\n",
    "    p_tag = pumpp.task.StaticLabelTransformer(name='static',\n",
    "                                              namespace='tag_open',\n",
    "                                              labels=DCASE_CLASSES)\n",
    "\n",
    "    pump = pumpp.Pump(p_feature, p_tag)\n",
    "\n",
    "    # Save the pump\n",
    "    with open(os.path.join(OUTPUT_PATH, 'pump.pkl'), 'wb') as fd:\n",
    "        pickle.dump(pump, fd)\n",
    "\n",
    "    return pump"
   ]
  },
  {
   "cell_type": "code",
   "execution_count": 7,
   "metadata": {},
   "outputs": [],
   "source": [
    "pump = make_pump(sr=44100, hop_length=1024, n_fft=2048, n_mels=128)"
   ]
  },
  {
   "cell_type": "code",
   "execution_count": null,
   "metadata": {
    "collapsed": true
   },
   "outputs": [],
   "source": []
  }
 ],
 "metadata": {
  "kernelspec": {
   "display_name": "Python 3",
   "language": "python",
   "name": "python3"
  },
  "language_info": {
   "codemirror_mode": {
    "name": "ipython",
    "version": 3
   },
   "file_extension": ".py",
   "mimetype": "text/x-python",
   "name": "python",
   "nbconvert_exporter": "python",
   "pygments_lexer": "ipython3",
   "version": "3.5.3"
  }
 },
 "nbformat": 4,
 "nbformat_minor": 2
}
